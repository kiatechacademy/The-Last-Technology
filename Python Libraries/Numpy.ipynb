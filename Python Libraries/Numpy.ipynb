{
 "cells": [
  {
   "cell_type": "markdown",
   "id": "58656d2d",
   "metadata": {},
   "source": [
    "# Numpy==> karesh ba arraye(Numerical python)-2005-kar ba matris fogholadas-nesbat be pandas emkanat kamtar darad- ta jaiy ke cpu mizare az hamon pandas estefade konid-4 amaliat asli- karbordi dar big data"
   ]
  },
  {
   "cell_type": "markdown",
   "id": "a46c8b78",
   "metadata": {},
   "source": [
    "# importing libraries"
   ]
  },
  {
   "cell_type": "code",
   "execution_count": 1,
   "id": "c021df1f",
   "metadata": {},
   "outputs": [],
   "source": [
    "import numpy as np"
   ]
  },
  {
   "cell_type": "markdown",
   "id": "795e9423",
   "metadata": {},
   "source": [
    "# difference between lists and arrays"
   ]
  },
  {
   "cell_type": "code",
   "execution_count": 2,
   "id": "00572df4",
   "metadata": {},
   "outputs": [],
   "source": [
    "import time"
   ]
  },
  {
   "cell_type": "code",
   "execution_count": 3,
   "id": "81c7effc",
   "metadata": {},
   "outputs": [],
   "source": [
    "num_list=list(range(1,10**8))\n",
    "num_arrays=np.arange(1,10**8)"
   ]
  },
  {
   "cell_type": "code",
   "execution_count": 4,
   "id": "619614c3",
   "metadata": {},
   "outputs": [],
   "source": [
    "start1=time.time()\n",
    "sum(num_list)\n",
    "stop1=time.time()"
   ]
  },
  {
   "cell_type": "code",
   "execution_count": 5,
   "id": "80ba30e3",
   "metadata": {},
   "outputs": [
    {
     "data": {
      "text/plain": [
       "2.842768430709839"
      ]
     },
     "execution_count": 5,
     "metadata": {},
     "output_type": "execute_result"
    }
   ],
   "source": [
    "stop1-start1"
   ]
  },
  {
   "cell_type": "code",
   "execution_count": 6,
   "id": "c7144f21",
   "metadata": {},
   "outputs": [],
   "source": [
    "start2=time.time()\n",
    "num_arrays.sum()\n",
    "end2=time.time()"
   ]
  },
  {
   "cell_type": "code",
   "execution_count": 7,
   "id": "8355aa57",
   "metadata": {},
   "outputs": [
    {
     "data": {
      "text/plain": [
       "0.06578326225280762"
      ]
     },
     "execution_count": 7,
     "metadata": {},
     "output_type": "execute_result"
    }
   ],
   "source": [
    "end2-start2"
   ]
  },
  {
   "cell_type": "markdown",
   "id": "f7c3acfe",
   "metadata": {},
   "source": [
    "# creating arrays"
   ]
  },
  {
   "cell_type": "code",
   "execution_count": 9,
   "id": "686efa85",
   "metadata": {},
   "outputs": [
    {
     "name": "stdout",
     "output_type": "stream",
     "text": [
      "[1, 2, 3, 4, 5]\n"
     ]
    },
    {
     "data": {
      "text/plain": [
       "array([1, 2, 3, 4, 5])"
      ]
     },
     "execution_count": 9,
     "metadata": {},
     "output_type": "execute_result"
    }
   ],
   "source": [
    "lst=[1,2,3,4,5]\n",
    "print(lst)\n",
    "arr1=np.array(lst)\n",
    "arr1"
   ]
  },
  {
   "cell_type": "code",
   "execution_count": 10,
   "id": "6a40b541",
   "metadata": {},
   "outputs": [
    {
     "data": {
      "text/plain": [
       "array([1, 2, 3, 4, 5])"
      ]
     },
     "execution_count": 10,
     "metadata": {},
     "output_type": "execute_result"
    }
   ],
   "source": [
    "arr2=np.array([1,2,3,4,5])\n",
    "arr2"
   ]
  },
  {
   "cell_type": "code",
   "execution_count": 11,
   "id": "339d5f54",
   "metadata": {},
   "outputs": [
    {
     "data": {
      "text/plain": [
       "[[1, 2, 3], [4, 5, 6], [7, 8, 9]]"
      ]
     },
     "execution_count": 11,
     "metadata": {},
     "output_type": "execute_result"
    }
   ],
   "source": [
    "#arraye 2bodi\n",
    "array2d=([\n",
    "    [1,2,3],\n",
    "    [4,5,6],\n",
    "    [7,8,9]\n",
    "    \n",
    "])\n",
    "array2d"
   ]
  },
  {
   "cell_type": "code",
   "execution_count": 13,
   "id": "3aec4bfa",
   "metadata": {},
   "outputs": [
    {
     "data": {
      "text/plain": [
       "array([2, 3, 4, 5, 6, 7, 8, 9])"
      ]
     },
     "execution_count": 13,
     "metadata": {},
     "output_type": "execute_result"
    }
   ],
   "source": [
    "arr3=np.arange(2,10)\n",
    "arr3"
   ]
  },
  {
   "cell_type": "code",
   "execution_count": 15,
   "id": "67a50de9",
   "metadata": {},
   "outputs": [
    {
     "data": {
      "text/plain": [
       "array([0, 1, 2, 3, 4, 5, 6, 7, 8, 9])"
      ]
     },
     "execution_count": 15,
     "metadata": {},
     "output_type": "execute_result"
    }
   ],
   "source": [
    "arr4=np.arange(10)\n",
    "arr4"
   ]
  },
  {
   "cell_type": "code",
   "execution_count": 17,
   "id": "c83404bf",
   "metadata": {},
   "outputs": [
    {
     "data": {
      "text/plain": [
       "array([10, 13, 16, 19])"
      ]
     },
     "execution_count": 17,
     "metadata": {},
     "output_type": "execute_result"
    }
   ],
   "source": [
    "arr5=np.arange(10,21,3)\n",
    "arr5"
   ]
  },
  {
   "cell_type": "code",
   "execution_count": 22,
   "id": "38209253",
   "metadata": {},
   "outputs": [
    {
     "data": {
      "text/plain": [
       "array([[[ 0,  1,  2,  3],\n",
       "        [ 4,  5,  6,  7],\n",
       "        [ 8,  9, 10, 11]],\n",
       "\n",
       "       [[12, 13, 14, 15],\n",
       "        [16, 17, 18, 19],\n",
       "        [20, 21, 22, 23]]])"
      ]
     },
     "execution_count": 22,
     "metadata": {},
     "output_type": "execute_result"
    }
   ],
   "source": [
    "arr6=np.arange(24).reshape(2,3,4)\n",
    "arr6"
   ]
  },
  {
   "cell_type": "code",
   "execution_count": 23,
   "id": "b8b9bd73",
   "metadata": {},
   "outputs": [
    {
     "data": {
      "text/plain": [
       "numpy.ndarray"
      ]
     },
     "execution_count": 23,
     "metadata": {},
     "output_type": "execute_result"
    }
   ],
   "source": [
    "type(arr6)"
   ]
  },
  {
   "cell_type": "markdown",
   "id": "e9d174c0",
   "metadata": {},
   "source": [
    "# beroz resani==>updating==>maghadir ghabele taghir bashand"
   ]
  },
  {
   "cell_type": "code",
   "execution_count": 24,
   "id": "224ed28f",
   "metadata": {},
   "outputs": [
    {
     "data": {
      "text/plain": [
       "array([1, 2, 3, 4, 5])"
      ]
     },
     "execution_count": 24,
     "metadata": {},
     "output_type": "execute_result"
    }
   ],
   "source": [
    "array1=np.array([1,2,3,4,5])\n",
    "array1"
   ]
  },
  {
   "cell_type": "code",
   "execution_count": 25,
   "id": "03d6e633",
   "metadata": {},
   "outputs": [
    {
     "data": {
      "text/plain": [
       "array([ 1,  2, 20,  4,  5])"
      ]
     },
     "execution_count": 25,
     "metadata": {},
     "output_type": "execute_result"
    }
   ],
   "source": [
    "array1[2]=20\n",
    "array1"
   ]
  },
  {
   "cell_type": "code",
   "execution_count": 27,
   "id": "04939093",
   "metadata": {},
   "outputs": [
    {
     "data": {
      "text/plain": [
       "array([1, 3, 3, 3, 5])"
      ]
     },
     "execution_count": 27,
     "metadata": {},
     "output_type": "execute_result"
    }
   ],
   "source": [
    "array1[1:4]=3\n",
    "array1"
   ]
  },
  {
   "cell_type": "markdown",
   "id": "b22aef92",
   "metadata": {},
   "source": [
    "# taghire abaad"
   ]
  },
  {
   "cell_type": "code",
   "execution_count": 31,
   "id": "418d99d1",
   "metadata": {},
   "outputs": [
    {
     "data": {
      "text/plain": [
       "array([[0, 1, 2, 3, 4],\n",
       "       [5, 6, 7, 8, 9]])"
      ]
     },
     "execution_count": 31,
     "metadata": {},
     "output_type": "execute_result"
    }
   ],
   "source": [
    "numbers=np.arange(10)\n",
    "numbers.reshape(2,5)"
   ]
  },
  {
   "cell_type": "code",
   "execution_count": 34,
   "id": "bb060ba1",
   "metadata": {},
   "outputs": [
    {
     "data": {
      "text/plain": [
       "array([0, 1, 2, 3, 4, 5, 6, 7, 8, 9])"
      ]
     },
     "execution_count": 34,
     "metadata": {},
     "output_type": "execute_result"
    }
   ],
   "source": [
    "numbers.reshape(10)"
   ]
  },
  {
   "cell_type": "markdown",
   "id": "e9861051",
   "metadata": {},
   "source": [
    "# abaade yek array"
   ]
  },
  {
   "cell_type": "code",
   "execution_count": 39,
   "id": "8430e0be",
   "metadata": {},
   "outputs": [
    {
     "data": {
      "text/plain": [
       "array([0, 1, 2, 3, 4, 5, 6, 7, 8, 9])"
      ]
     },
     "execution_count": 39,
     "metadata": {},
     "output_type": "execute_result"
    }
   ],
   "source": [
    "numbers2=np.arange(10)\n",
    "numbers2"
   ]
  },
  {
   "cell_type": "code",
   "execution_count": 42,
   "id": "c552b71a",
   "metadata": {},
   "outputs": [
    {
     "data": {
      "text/plain": [
       "10"
      ]
     },
     "execution_count": 42,
     "metadata": {},
     "output_type": "execute_result"
    }
   ],
   "source": [
    "len(numbers2) #tedad deraye ha dar tak bodi va dar 2 bodi tedad satre"
   ]
  },
  {
   "cell_type": "code",
   "execution_count": 43,
   "id": "da69f2d3",
   "metadata": {},
   "outputs": [
    {
     "data": {
      "text/plain": [
       "(10,)"
      ]
     },
     "execution_count": 43,
     "metadata": {},
     "output_type": "execute_result"
    }
   ],
   "source": [
    "numbers2.shape# abaade shomara midahad"
   ]
  },
  {
   "cell_type": "code",
   "execution_count": 44,
   "id": "bfaf2089",
   "metadata": {},
   "outputs": [
    {
     "data": {
      "text/plain": [
       "10"
      ]
     },
     "execution_count": 44,
     "metadata": {},
     "output_type": "execute_result"
    }
   ],
   "source": [
    "numbers2.size # tedad eleman"
   ]
  },
  {
   "cell_type": "code",
   "execution_count": 46,
   "id": "fabeb314",
   "metadata": {},
   "outputs": [
    {
     "data": {
      "text/plain": [
       "1"
      ]
     },
     "execution_count": 46,
     "metadata": {},
     "output_type": "execute_result"
    }
   ],
   "source": [
    "numbers2.ndim"
   ]
  },
  {
   "cell_type": "markdown",
   "id": "14d773c8",
   "metadata": {},
   "source": [
    "### array2d"
   ]
  },
  {
   "cell_type": "code",
   "execution_count": 47,
   "id": "be1478db",
   "metadata": {},
   "outputs": [
    {
     "data": {
      "text/plain": [
       "array([[0, 1, 2],\n",
       "       [3, 4, 5]])"
      ]
     },
     "execution_count": 47,
     "metadata": {},
     "output_type": "execute_result"
    }
   ],
   "source": [
    "array10=np.arange(6).reshape(2,3)\n",
    "array10"
   ]
  },
  {
   "cell_type": "code",
   "execution_count": 48,
   "id": "7a6b9b40",
   "metadata": {},
   "outputs": [
    {
     "data": {
      "text/plain": [
       "2"
      ]
     },
     "execution_count": 48,
     "metadata": {},
     "output_type": "execute_result"
    }
   ],
   "source": [
    "len(array10)"
   ]
  },
  {
   "cell_type": "code",
   "execution_count": 49,
   "id": "8f513a80",
   "metadata": {},
   "outputs": [
    {
     "data": {
      "text/plain": [
       "(2, 3)"
      ]
     },
     "execution_count": 49,
     "metadata": {},
     "output_type": "execute_result"
    }
   ],
   "source": [
    "array10.shape"
   ]
  },
  {
   "cell_type": "code",
   "execution_count": 50,
   "id": "2f14a8b7",
   "metadata": {},
   "outputs": [
    {
     "data": {
      "text/plain": [
       "6"
      ]
     },
     "execution_count": 50,
     "metadata": {},
     "output_type": "execute_result"
    }
   ],
   "source": [
    "array10.size"
   ]
  },
  {
   "cell_type": "code",
   "execution_count": 51,
   "id": "82d56849",
   "metadata": {},
   "outputs": [
    {
     "data": {
      "text/plain": [
       "2"
      ]
     },
     "execution_count": 51,
     "metadata": {},
     "output_type": "execute_result"
    }
   ],
   "source": [
    "array10.ndim"
   ]
  },
  {
   "cell_type": "code",
   "execution_count": 53,
   "id": "90b22252",
   "metadata": {},
   "outputs": [
    {
     "name": "stdout",
     "output_type": "stream",
     "text": [
      "2\n",
      "3\n"
     ]
    }
   ],
   "source": [
    "print(array10.shape[0])\n",
    "print(array10.shape[1])"
   ]
  },
  {
   "cell_type": "markdown",
   "id": "beb551ef",
   "metadata": {},
   "source": [
    "# tabdile list be arraye"
   ]
  },
  {
   "cell_type": "code",
   "execution_count": 55,
   "id": "beb3e2d2",
   "metadata": {},
   "outputs": [
    {
     "data": {
      "text/plain": [
       "array([1, 2, 3, 4, 5, 6])"
      ]
     },
     "execution_count": 55,
     "metadata": {},
     "output_type": "execute_result"
    }
   ],
   "source": [
    "lst1=[1,2,3,4,5,6]\n",
    "arr1=np.array(lst1)\n",
    "arr1"
   ]
  },
  {
   "cell_type": "code",
   "execution_count": 57,
   "id": "4c3ad66a",
   "metadata": {},
   "outputs": [
    {
     "data": {
      "text/plain": [
       "array([[1, 2, 3],\n",
       "       [4, 5, 6]])"
      ]
     },
     "execution_count": 57,
     "metadata": {},
     "output_type": "execute_result"
    }
   ],
   "source": [
    "# pish pardazeshi\n",
    "lst2d=[[1,2,3],[4,5,6]]\n",
    "arr2d=np.asarray(lst2d)\n",
    "arr2d"
   ]
  },
  {
   "cell_type": "code",
   "execution_count": 58,
   "id": "235e5113",
   "metadata": {},
   "outputs": [
    {
     "data": {
      "text/plain": [
       "array([[1, 2, 3],\n",
       "       [4, 5, 6]])"
      ]
     },
     "execution_count": 58,
     "metadata": {},
     "output_type": "execute_result"
    }
   ],
   "source": [
    "lst2d2=[[1,2,3],[4,5,6]]\n",
    "arr2d2=np.array(lst2d2)\n",
    "arr2d2"
   ]
  },
  {
   "cell_type": "markdown",
   "id": "2f335047",
   "metadata": {},
   "source": [
    "# array haiy ba maghadire sabet==> jabre khati"
   ]
  },
  {
   "cell_type": "code",
   "execution_count": 62,
   "id": "b569fd73",
   "metadata": {},
   "outputs": [
    {
     "data": {
      "text/plain": [
       "array([[0, 0, 0, 0],\n",
       "       [0, 0, 0, 0],\n",
       "       [0, 0, 0, 0]])"
      ]
     },
     "execution_count": 62,
     "metadata": {},
     "output_type": "execute_result"
    }
   ],
   "source": [
    "arrzero=np.zeros((3,4),dtype=\"int32\")\n",
    "arrzero"
   ]
  },
  {
   "cell_type": "code",
   "execution_count": 67,
   "id": "41ce80fd",
   "metadata": {},
   "outputs": [
    {
     "data": {
      "text/plain": [
       "array([[1., 1., 1.],\n",
       "       [1., 1., 1.]])"
      ]
     },
     "execution_count": 67,
     "metadata": {},
     "output_type": "execute_result"
    }
   ],
   "source": [
    "# tamame maghadir yek bashand\n",
    "arrone=np.ones((2,3))\n",
    "arrone"
   ]
  },
  {
   "cell_type": "code",
   "execution_count": 66,
   "id": "5243fdfe",
   "metadata": {},
   "outputs": [
    {
     "data": {
      "text/plain": [
       "array([[3, 3, 3, 3],\n",
       "       [3, 3, 3, 3],\n",
       "       [3, 3, 3, 3],\n",
       "       [3, 3, 3, 3],\n",
       "       [3, 3, 3, 3]])"
      ]
     },
     "execution_count": 66,
     "metadata": {},
     "output_type": "execute_result"
    }
   ],
   "source": [
    "arr_three=np.full((5,4),3)\n",
    "arr_three"
   ]
  },
  {
   "cell_type": "code",
   "execution_count": null,
   "id": "9fbb587f",
   "metadata": {},
   "outputs": [],
   "source": [
    "# matris hamani==> deraye haye ghotre asli yek baghie sefr"
   ]
  },
  {
   "cell_type": "code",
   "execution_count": 68,
   "id": "d68d4963",
   "metadata": {},
   "outputs": [
    {
     "data": {
      "text/plain": [
       "array([[1., 0., 0.],\n",
       "       [0., 1., 0.],\n",
       "       [0., 0., 1.]])"
      ]
     },
     "execution_count": 68,
     "metadata": {},
     "output_type": "execute_result"
    }
   ],
   "source": [
    "# matris hamani\n",
    "arr_eye=np.eye(3)\n",
    "arr_eye"
   ]
  },
  {
   "cell_type": "code",
   "execution_count": 69,
   "id": "8fe062e9",
   "metadata": {},
   "outputs": [
    {
     "data": {
      "text/plain": [
       "array([1.        , 1.42857143, 1.85714286, 2.28571429, 2.71428571,\n",
       "       3.14285714, 3.57142857, 4.        ])"
      ]
     },
     "execution_count": 69,
     "metadata": {},
     "output_type": "execute_result"
    }
   ],
   "source": [
    "np.linspace(1,4,num=8) # az adad yek ta 4 be 8 ghesmat taghsim kon"
   ]
  },
  {
   "cell_type": "code",
   "execution_count": 70,
   "id": "f16cb731",
   "metadata": {},
   "outputs": [
    {
     "data": {
      "text/plain": [
       "array([0.02867235, 0.44090572, 0.56120145])"
      ]
     },
     "execution_count": 70,
     "metadata": {},
     "output_type": "execute_result"
    }
   ],
   "source": [
    "random1=np.random.random(3) # tak bodi  be tedadi ke shoma migoid\n",
    "random1"
   ]
  },
  {
   "cell_type": "code",
   "execution_count": 73,
   "id": "0e23737c",
   "metadata": {},
   "outputs": [
    {
     "data": {
      "text/plain": [
       "78"
      ]
     },
     "execution_count": 73,
     "metadata": {},
     "output_type": "execute_result"
    }
   ],
   "source": [
    "random2=np.random.randint(10,100) # beine 0 ta 10 yeki mide\n",
    "random2"
   ]
  },
  {
   "cell_type": "code",
   "execution_count": 74,
   "id": "adb0e45a",
   "metadata": {},
   "outputs": [
    {
     "data": {
      "text/plain": [
       "array([[0.31912397, 0.80689291, 0.84807843],\n",
       "       [0.03027776, 0.45680424, 0.48521595]])"
      ]
     },
     "execution_count": 74,
     "metadata": {},
     "output_type": "execute_result"
    }
   ],
   "source": [
    "random3=np.random.random((2,3))\n",
    "random3"
   ]
  },
  {
   "cell_type": "code",
   "execution_count": 75,
   "id": "08b743bc",
   "metadata": {},
   "outputs": [
    {
     "data": {
      "text/plain": [
       "array([11, 10, 10, 11])"
      ]
     },
     "execution_count": 75,
     "metadata": {},
     "output_type": "execute_result"
    }
   ],
   "source": [
    "random4=np.random.randint(1,20,4)\n",
    "random4"
   ]
  },
  {
   "cell_type": "code",
   "execution_count": 76,
   "id": "57de5945",
   "metadata": {},
   "outputs": [
    {
     "data": {
      "text/plain": [
       "array([[ 4,  1,  4],\n",
       "       [16,  3,  5]])"
      ]
     },
     "execution_count": 76,
     "metadata": {},
     "output_type": "execute_result"
    }
   ],
   "source": [
    "random5=np.random.randint(1,20,(2,3))\n",
    "random5"
   ]
  },
  {
   "cell_type": "code",
   "execution_count": 77,
   "id": "da6fd16b",
   "metadata": {},
   "outputs": [
    {
     "data": {
      "text/plain": [
       "array([0.35265705, 0.67951468, 0.16605961, 0.57299985, 0.96617042])"
      ]
     },
     "execution_count": 77,
     "metadata": {},
     "output_type": "execute_result"
    }
   ],
   "source": [
    "# tozie yeknavakhte gosaste  tasadofi\n",
    "random6=np.random.rand(5)\n",
    "random6"
   ]
  },
  {
   "cell_type": "code",
   "execution_count": 79,
   "id": "247b034c",
   "metadata": {},
   "outputs": [
    {
     "data": {
      "text/plain": [
       "array([-0.8208795 , -1.10369616, -1.57577061,  1.03194129])"
      ]
     },
     "execution_count": 79,
     "metadata": {},
     "output_type": "execute_result"
    }
   ],
   "source": [
    "#tozie  normale standard, miangin 0 vas varianse yek\n",
    "random7=np.random.randn(4)\n",
    "random7"
   ]
  },
  {
   "cell_type": "code",
   "execution_count": 80,
   "id": "3ce5b15f",
   "metadata": {},
   "outputs": [
    {
     "data": {
      "text/plain": [
       "-0.42919001676320817"
      ]
     },
     "execution_count": 80,
     "metadata": {},
     "output_type": "execute_result"
    }
   ],
   "source": [
    "random8=np.random.normal() # (miangin,enheraf meyar)\n",
    "random8"
   ]
  },
  {
   "cell_type": "markdown",
   "id": "674fc954",
   "metadata": {},
   "source": [
    "# tavabea amade"
   ]
  },
  {
   "cell_type": "markdown",
   "id": "d865d8ea",
   "metadata": {},
   "source": [
    "min\n",
    "max\n",
    "mean\n",
    "sum\n",
    "mnedian\n",
    "std"
   ]
  },
  {
   "cell_type": "code",
   "execution_count": 82,
   "id": "52ca5017",
   "metadata": {},
   "outputs": [
    {
     "data": {
      "text/plain": [
       "array([[27, 29, 89, 25],\n",
       "       [90, 47, 46,  8],\n",
       "       [24, 37, 51, 18]])"
      ]
     },
     "execution_count": 82,
     "metadata": {},
     "output_type": "execute_result"
    }
   ],
   "source": [
    "randomi=np.random.randint(1,100,(3,4))\n",
    "randomi"
   ]
  },
  {
   "cell_type": "code",
   "execution_count": 83,
   "id": "791b7329",
   "metadata": {},
   "outputs": [
    {
     "data": {
      "text/plain": [
       "90"
      ]
     },
     "execution_count": 83,
     "metadata": {},
     "output_type": "execute_result"
    }
   ],
   "source": [
    "np.max(randomi)"
   ]
  },
  {
   "cell_type": "code",
   "execution_count": 84,
   "id": "6adaa800",
   "metadata": {},
   "outputs": [
    {
     "data": {
      "text/plain": [
       "array([24, 29, 46,  8])"
      ]
     },
     "execution_count": 84,
     "metadata": {},
     "output_type": "execute_result"
    }
   ],
   "source": [
    "np.min(randomi,axis=0)"
   ]
  },
  {
   "cell_type": "code",
   "execution_count": 85,
   "id": "e84971c8",
   "metadata": {},
   "outputs": [
    {
     "data": {
      "text/plain": [
       "array([2, 0, 2], dtype=int64)"
      ]
     },
     "execution_count": 85,
     "metadata": {},
     "output_type": "execute_result"
    }
   ],
   "source": [
    "np.argmax(randomi,axis=1)"
   ]
  },
  {
   "cell_type": "code",
   "execution_count": 86,
   "id": "849dd3b6",
   "metadata": {},
   "outputs": [
    {
     "data": {
      "text/plain": [
       "24.807452957170398"
      ]
     },
     "execution_count": 86,
     "metadata": {},
     "output_type": "execute_result"
    }
   ],
   "source": [
    "np.std(randomi)"
   ]
  },
  {
   "cell_type": "code",
   "execution_count": 87,
   "id": "acb27fb9",
   "metadata": {},
   "outputs": [
    {
     "data": {
      "text/plain": [
       "array([42.5 , 47.75, 32.5 ])"
      ]
     },
     "execution_count": 87,
     "metadata": {},
     "output_type": "execute_result"
    }
   ],
   "source": [
    "np.mean(randomi,axis=1)"
   ]
  },
  {
   "cell_type": "code",
   "execution_count": 88,
   "id": "20235bcd",
   "metadata": {},
   "outputs": [
    {
     "data": {
      "text/plain": [
       "array([30.43024811,  7.36357401, 19.20069443,  6.97614985])"
      ]
     },
     "execution_count": 88,
     "metadata": {},
     "output_type": "execute_result"
    }
   ],
   "source": [
    "np.std(randomi,axis=0)"
   ]
  },
  {
   "cell_type": "code",
   "execution_count": 89,
   "id": "97159ed0",
   "metadata": {},
   "outputs": [
    {
     "data": {
      "text/plain": [
       "array([141, 113, 186,  51])"
      ]
     },
     "execution_count": 89,
     "metadata": {},
     "output_type": "execute_result"
    }
   ],
   "source": [
    "np.sum(randomi,axis=0)"
   ]
  },
  {
   "cell_type": "code",
   "execution_count": 90,
   "id": "5c16bd2f",
   "metadata": {},
   "outputs": [
    {
     "data": {
      "text/plain": [
       "491"
      ]
     },
     "execution_count": 90,
     "metadata": {},
     "output_type": "execute_result"
    }
   ],
   "source": [
    "np.sum(randomi)"
   ]
  },
  {
   "cell_type": "code",
   "execution_count": 91,
   "id": "326562f4",
   "metadata": {},
   "outputs": [
    {
     "data": {
      "text/plain": [
       "40.916666666666664"
      ]
     },
     "execution_count": 91,
     "metadata": {},
     "output_type": "execute_result"
    }
   ],
   "source": [
    "np.mean(randomi)"
   ]
  },
  {
   "cell_type": "markdown",
   "id": "c1acc430",
   "metadata": {},
   "source": [
    "# indexes==>dastresi be deraye ha"
   ]
  },
  {
   "cell_type": "code",
   "execution_count": 92,
   "id": "91c4fa6f",
   "metadata": {},
   "outputs": [
    {
     "data": {
      "text/plain": [
       "array([[80,  3, 55, 39],\n",
       "       [53, 34, 57, 37],\n",
       "       [12, 89, 29, 91]])"
      ]
     },
     "execution_count": 92,
     "metadata": {},
     "output_type": "execute_result"
    }
   ],
   "source": [
    "number10=np.random.randint(1,100,(3,4))\n",
    "number10"
   ]
  },
  {
   "cell_type": "code",
   "execution_count": 93,
   "id": "674582fe",
   "metadata": {},
   "outputs": [
    {
     "data": {
      "text/plain": [
       "57"
      ]
     },
     "execution_count": 93,
     "metadata": {},
     "output_type": "execute_result"
    }
   ],
   "source": [
    "number10[1,2] # satre 1 sotone 2"
   ]
  },
  {
   "cell_type": "code",
   "execution_count": 95,
   "id": "a8a38469",
   "metadata": {},
   "outputs": [
    {
     "data": {
      "text/plain": [
       "array([[80,  3, 55, 39],\n",
       "       [53, 34, 57, 37]])"
      ]
     },
     "execution_count": 95,
     "metadata": {},
     "output_type": "execute_result"
    }
   ],
   "source": [
    "number10[0:2,:]"
   ]
  },
  {
   "cell_type": "code",
   "execution_count": 98,
   "id": "ab7d0d4c",
   "metadata": {},
   "outputs": [
    {
     "data": {
      "text/plain": [
       "array([[ 3, 55],\n",
       "       [34, 57]])"
      ]
     },
     "execution_count": 98,
     "metadata": {},
     "output_type": "execute_result"
    }
   ],
   "source": [
    "number10[0:2,1:3]"
   ]
  },
  {
   "cell_type": "code",
   "execution_count": 99,
   "id": "aa4c2a3d",
   "metadata": {},
   "outputs": [
    {
     "data": {
      "text/plain": [
       "array([[55, 39],\n",
       "       [57, 37],\n",
       "       [29, 91]])"
      ]
     },
     "execution_count": 99,
     "metadata": {},
     "output_type": "execute_result"
    }
   ],
   "source": [
    "number10[:,2:]"
   ]
  },
  {
   "cell_type": "markdown",
   "id": "63c1b07d",
   "metadata": {},
   "source": [
    "# ijade halghe baraye indexing"
   ]
  },
  {
   "cell_type": "code",
   "execution_count": 100,
   "id": "0b51ea5d",
   "metadata": {},
   "outputs": [
    {
     "data": {
      "text/plain": [
       "array([[24, 70, 35, 26],\n",
       "       [20, 26, 70,  2],\n",
       "       [89, 30, 49, 70]])"
      ]
     },
     "execution_count": 100,
     "metadata": {},
     "output_type": "execute_result"
    }
   ],
   "source": [
    "number5=np.random.randint(1,100,(3,4))\n",
    "number5"
   ]
  },
  {
   "cell_type": "code",
   "execution_count": 101,
   "id": "65ad72bd",
   "metadata": {
    "scrolled": true
   },
   "outputs": [
    {
     "name": "stdout",
     "output_type": "stream",
     "text": [
      "[24 70 35 26]\n",
      "[20 26 70  2]\n",
      "[89 30 49 70]\n"
     ]
    }
   ],
   "source": [
    "for row in number5:\n",
    "    print(row)"
   ]
  },
  {
   "cell_type": "code",
   "execution_count": 103,
   "id": "9a916951",
   "metadata": {},
   "outputs": [
    {
     "name": "stdout",
     "output_type": "stream",
     "text": [
      "24\n",
      "70\n",
      "35\n",
      "26\n",
      "20\n",
      "26\n",
      "70\n",
      "2\n",
      "89\n",
      "30\n",
      "49\n",
      "70\n"
     ]
    }
   ],
   "source": [
    "for row in number5:\n",
    "    for r in row:\n",
    "        print(r)"
   ]
  },
  {
   "cell_type": "markdown",
   "id": "0a9f9244",
   "metadata": {},
   "source": [
    "# flat==> reshape mikonad va takht mikonad arraye hara==> 1bodi"
   ]
  },
  {
   "cell_type": "code",
   "execution_count": 105,
   "id": "3b5d7f1f",
   "metadata": {},
   "outputs": [
    {
     "name": "stdout",
     "output_type": "stream",
     "text": [
      "48\n",
      "140\n",
      "70\n",
      "52\n",
      "40\n",
      "52\n",
      "140\n",
      "4\n",
      "178\n",
      "60\n",
      "98\n",
      "140\n"
     ]
    }
   ],
   "source": [
    "for row in number5.flat:\n",
    "    print(row*2)"
   ]
  },
  {
   "cell_type": "markdown",
   "id": "05ae1163",
   "metadata": {},
   "source": [
    "# tavabea riazi"
   ]
  },
  {
   "cell_type": "code",
   "execution_count": 108,
   "id": "61c251e5",
   "metadata": {},
   "outputs": [],
   "source": [
    "x=np.array([[1,2],[3,4]],dtype=np.float64)\n",
    "y=np.array([[5,6],[7,8]],dtype=np.float64)"
   ]
  },
  {
   "cell_type": "code",
   "execution_count": 109,
   "id": "b8519f46",
   "metadata": {},
   "outputs": [
    {
     "data": {
      "text/plain": [
       "array([[1., 2.],\n",
       "       [3., 4.]])"
      ]
     },
     "execution_count": 109,
     "metadata": {},
     "output_type": "execute_result"
    }
   ],
   "source": [
    "x"
   ]
  },
  {
   "cell_type": "code",
   "execution_count": 110,
   "id": "c8d5be78",
   "metadata": {},
   "outputs": [
    {
     "data": {
      "text/plain": [
       "array([[5., 6.],\n",
       "       [7., 8.]])"
      ]
     },
     "execution_count": 110,
     "metadata": {},
     "output_type": "execute_result"
    }
   ],
   "source": [
    "y"
   ]
  },
  {
   "cell_type": "code",
   "execution_count": 111,
   "id": "728ba34c",
   "metadata": {},
   "outputs": [
    {
     "data": {
      "text/plain": [
       "array([[1., 3.],\n",
       "       [2., 4.]])"
      ]
     },
     "execution_count": 111,
     "metadata": {},
     "output_type": "execute_result"
    }
   ],
   "source": [
    "x.T # transpose=>taranehade"
   ]
  },
  {
   "cell_type": "code",
   "execution_count": 112,
   "id": "7dad11e0",
   "metadata": {},
   "outputs": [
    {
     "data": {
      "text/plain": [
       "array([[False, False],\n",
       "       [ True,  True]])"
      ]
     },
     "execution_count": 112,
     "metadata": {},
     "output_type": "execute_result"
    }
   ],
   "source": [
    "x>2"
   ]
  },
  {
   "cell_type": "code",
   "execution_count": 113,
   "id": "58750b85",
   "metadata": {},
   "outputs": [
    {
     "data": {
      "text/plain": [
       "array([[2., 3.],\n",
       "       [4., 5.]])"
      ]
     },
     "execution_count": 113,
     "metadata": {},
     "output_type": "execute_result"
    }
   ],
   "source": [
    "x+1"
   ]
  },
  {
   "cell_type": "code",
   "execution_count": 114,
   "id": "6aa9bb3c",
   "metadata": {},
   "outputs": [
    {
     "data": {
      "text/plain": [
       "array([3., 4.])"
      ]
     },
     "execution_count": 114,
     "metadata": {},
     "output_type": "execute_result"
    }
   ],
   "source": [
    "x[x>2]"
   ]
  },
  {
   "cell_type": "code",
   "execution_count": 115,
   "id": "5f0097ac",
   "metadata": {},
   "outputs": [
    {
     "data": {
      "text/plain": [
       "array([[ 6.,  8.],\n",
       "       [10., 12.]])"
      ]
     },
     "execution_count": 115,
     "metadata": {},
     "output_type": "execute_result"
    }
   ],
   "source": [
    "x+y"
   ]
  },
  {
   "cell_type": "code",
   "execution_count": 116,
   "id": "bdb11fec",
   "metadata": {},
   "outputs": [
    {
     "data": {
      "text/plain": [
       "array([[1.        , 1.41421356],\n",
       "       [1.73205081, 2.        ]])"
      ]
     },
     "execution_count": 116,
     "metadata": {},
     "output_type": "execute_result"
    }
   ],
   "source": [
    "np.sqrt(x)"
   ]
  },
  {
   "cell_type": "code",
   "execution_count": 117,
   "id": "4fad32a5",
   "metadata": {},
   "outputs": [
    {
     "data": {
      "text/plain": [
       "array([[ 0.84147098,  0.90929743],\n",
       "       [ 0.14112001, -0.7568025 ]])"
      ]
     },
     "execution_count": 117,
     "metadata": {},
     "output_type": "execute_result"
    }
   ],
   "source": [
    "np.sin(x)"
   ]
  },
  {
   "cell_type": "code",
   "execution_count": 118,
   "id": "0732e218",
   "metadata": {},
   "outputs": [
    {
     "data": {
      "text/plain": [
       "3.141592653589793"
      ]
     },
     "execution_count": 118,
     "metadata": {},
     "output_type": "execute_result"
    }
   ],
   "source": [
    "np.pi"
   ]
  },
  {
   "cell_type": "markdown",
   "id": "efbceaa9",
   "metadata": {},
   "source": [
    "# flatten"
   ]
  },
  {
   "cell_type": "code",
   "execution_count": 120,
   "id": "aaf6ac8f",
   "metadata": {},
   "outputs": [
    {
     "data": {
      "text/plain": [
       "array([1., 2., 3., 4.])"
      ]
     },
     "execution_count": 120,
     "metadata": {},
     "output_type": "execute_result"
    }
   ],
   "source": [
    "x2=x.flatten()\n",
    "x2"
   ]
  },
  {
   "cell_type": "code",
   "execution_count": 121,
   "id": "9c7a662e",
   "metadata": {},
   "outputs": [
    {
     "data": {
      "text/plain": [
       "array([5., 6., 7., 8.])"
      ]
     },
     "execution_count": 121,
     "metadata": {},
     "output_type": "execute_result"
    }
   ],
   "source": [
    "y2=y.flatten()\n",
    "y2"
   ]
  },
  {
   "cell_type": "code",
   "execution_count": 122,
   "id": "ca89e19c",
   "metadata": {},
   "outputs": [
    {
     "data": {
      "text/plain": [
       "70.0"
      ]
     },
     "execution_count": 122,
     "metadata": {},
     "output_type": "execute_result"
    }
   ],
   "source": [
    "x2.dot(y2) # zarbe dakheli"
   ]
  },
  {
   "cell_type": "code",
   "execution_count": 123,
   "id": "b2e4656f",
   "metadata": {},
   "outputs": [
    {
     "data": {
      "text/plain": [
       "70.0"
      ]
     },
     "execution_count": 123,
     "metadata": {},
     "output_type": "execute_result"
    }
   ],
   "source": [
    "np.dot(x2,y2)"
   ]
  },
  {
   "cell_type": "code",
   "execution_count": 124,
   "id": "cd090e2f",
   "metadata": {},
   "outputs": [
    {
     "data": {
      "text/plain": [
       "70.0"
      ]
     },
     "execution_count": 124,
     "metadata": {},
     "output_type": "execute_result"
    }
   ],
   "source": [
    "np.matmul(x2,y2) # zarbe khareji"
   ]
  },
  {
   "cell_type": "code",
   "execution_count": 125,
   "id": "c59ac624",
   "metadata": {},
   "outputs": [
    {
     "data": {
      "text/plain": [
       "array([[1., 2.],\n",
       "       [3., 4.]])"
      ]
     },
     "execution_count": 125,
     "metadata": {},
     "output_type": "execute_result"
    }
   ],
   "source": [
    "x"
   ]
  },
  {
   "cell_type": "code",
   "execution_count": 126,
   "id": "8c7b23f6",
   "metadata": {},
   "outputs": [
    {
     "data": {
      "text/plain": [
       "array([[5., 6.],\n",
       "       [7., 8.]])"
      ]
     },
     "execution_count": 126,
     "metadata": {},
     "output_type": "execute_result"
    }
   ],
   "source": [
    "y"
   ]
  },
  {
   "cell_type": "code",
   "execution_count": 127,
   "id": "bd3cf07e",
   "metadata": {},
   "outputs": [
    {
     "data": {
      "text/plain": [
       "array([[19., 22.],\n",
       "       [43., 50.]])"
      ]
     },
     "execution_count": 127,
     "metadata": {},
     "output_type": "execute_result"
    }
   ],
   "source": [
    "np.matmul(x,y) # zarbe matris ha"
   ]
  },
  {
   "cell_type": "code",
   "execution_count": 128,
   "id": "7128deee",
   "metadata": {},
   "outputs": [
    {
     "data": {
      "text/plain": [
       "-2.0000000000000004"
      ]
     },
     "execution_count": 128,
     "metadata": {},
     "output_type": "execute_result"
    }
   ],
   "source": [
    "np.linalg.det(x) #determinane matrise x"
   ]
  },
  {
   "cell_type": "code",
   "execution_count": 129,
   "id": "048f389f",
   "metadata": {},
   "outputs": [
    {
     "data": {
      "text/plain": [
       "array([[1, 2],\n",
       "       [3, 4]])"
      ]
     },
     "execution_count": 129,
     "metadata": {},
     "output_type": "execute_result"
    }
   ],
   "source": [
    "x3=np.array([[1,2],[3,4]])\n",
    "y3=np.array([[4,5],[6,7]])\n",
    "x3"
   ]
  },
  {
   "cell_type": "code",
   "execution_count": 130,
   "id": "44554660",
   "metadata": {},
   "outputs": [
    {
     "data": {
      "text/plain": [
       "array([[4, 5],\n",
       "       [6, 7]])"
      ]
     },
     "execution_count": 130,
     "metadata": {},
     "output_type": "execute_result"
    }
   ],
   "source": [
    "y3"
   ]
  },
  {
   "cell_type": "code",
   "execution_count": 132,
   "id": "effd98da",
   "metadata": {},
   "outputs": [
    {
     "name": "stdout",
     "output_type": "stream",
     "text": [
      "[[ 5  7]\n",
      " [ 9 11]]\n"
     ]
    }
   ],
   "source": [
    "print(np.add(x3,y3))"
   ]
  },
  {
   "cell_type": "code",
   "execution_count": 133,
   "id": "026bda42",
   "metadata": {},
   "outputs": [
    {
     "name": "stdout",
     "output_type": "stream",
     "text": [
      "[[-3 -3]\n",
      " [-3 -3]]\n"
     ]
    }
   ],
   "source": [
    "print(np.subtract(x3,y3))"
   ]
  },
  {
   "cell_type": "code",
   "execution_count": 134,
   "id": "ef29c588",
   "metadata": {},
   "outputs": [
    {
     "data": {
      "text/plain": [
       "array([[ 4, 10],\n",
       "       [18, 28]])"
      ]
     },
     "execution_count": 134,
     "metadata": {},
     "output_type": "execute_result"
    }
   ],
   "source": [
    "x3*y3"
   ]
  },
  {
   "cell_type": "code",
   "execution_count": 135,
   "id": "78e77bf1",
   "metadata": {},
   "outputs": [
    {
     "name": "stdout",
     "output_type": "stream",
     "text": [
      "[[ 4 10]\n",
      " [18 28]]\n"
     ]
    }
   ],
   "source": [
    "print(np.multiply(x3,y3))"
   ]
  },
  {
   "cell_type": "code",
   "execution_count": 136,
   "id": "393e0a59",
   "metadata": {},
   "outputs": [
    {
     "data": {
      "text/plain": [
       "array([[1., 2.],\n",
       "       [3., 4.]])"
      ]
     },
     "execution_count": 136,
     "metadata": {},
     "output_type": "execute_result"
    }
   ],
   "source": [
    "x"
   ]
  },
  {
   "cell_type": "code",
   "execution_count": 137,
   "id": "94820372",
   "metadata": {},
   "outputs": [
    {
     "data": {
      "text/plain": [
       "array([[5., 6.],\n",
       "       [7., 8.]])"
      ]
     },
     "execution_count": 137,
     "metadata": {},
     "output_type": "execute_result"
    }
   ],
   "source": [
    "y"
   ]
  },
  {
   "cell_type": "markdown",
   "id": "8663502e",
   "metadata": {},
   "source": [
    "# aggregate  kardan ==> kenare ham gharar dadan"
   ]
  },
  {
   "cell_type": "code",
   "execution_count": 138,
   "id": "b722c3c1",
   "metadata": {},
   "outputs": [
    {
     "data": {
      "text/plain": [
       "array([[1., 2.],\n",
       "       [3., 4.]])"
      ]
     },
     "execution_count": 138,
     "metadata": {},
     "output_type": "execute_result"
    }
   ],
   "source": [
    "x"
   ]
  },
  {
   "cell_type": "code",
   "execution_count": 139,
   "id": "435c05fc",
   "metadata": {},
   "outputs": [
    {
     "data": {
      "text/plain": [
       "array([[5., 6.],\n",
       "       [7., 8.]])"
      ]
     },
     "execution_count": 139,
     "metadata": {},
     "output_type": "execute_result"
    }
   ],
   "source": [
    "y"
   ]
  },
  {
   "cell_type": "code",
   "execution_count": 140,
   "id": "7acb4ce3",
   "metadata": {},
   "outputs": [
    {
     "data": {
      "text/plain": [
       "array([[1., 2., 5., 6.],\n",
       "       [3., 4., 7., 8.]])"
      ]
     },
     "execution_count": 140,
     "metadata": {},
     "output_type": "execute_result"
    }
   ],
   "source": [
    "np.hstack((x,y))"
   ]
  },
  {
   "cell_type": "code",
   "execution_count": 141,
   "id": "d82b32d0",
   "metadata": {},
   "outputs": [
    {
     "data": {
      "text/plain": [
       "array([[1., 2.],\n",
       "       [3., 4.],\n",
       "       [5., 6.],\n",
       "       [7., 8.]])"
      ]
     },
     "execution_count": 141,
     "metadata": {},
     "output_type": "execute_result"
    }
   ],
   "source": [
    "np.vstack((x,y))"
   ]
  },
  {
   "cell_type": "code",
   "execution_count": 142,
   "id": "6d67f172",
   "metadata": {},
   "outputs": [
    {
     "data": {
      "text/plain": [
       "array([[1., 2.],\n",
       "       [3., 4.],\n",
       "       [5., 6.],\n",
       "       [7., 8.]])"
      ]
     },
     "execution_count": 142,
     "metadata": {},
     "output_type": "execute_result"
    }
   ],
   "source": [
    "np.concatenate((x,y))"
   ]
  },
  {
   "cell_type": "markdown",
   "id": "74804798",
   "metadata": {},
   "source": [
    "# yek bodi sazi"
   ]
  },
  {
   "cell_type": "code",
   "execution_count": 144,
   "id": "00dec945",
   "metadata": {},
   "outputs": [
    {
     "data": {
      "text/plain": [
       "array([[1, 2],\n",
       "       [3, 4],\n",
       "       [5, 6],\n",
       "       [7, 8]])"
      ]
     },
     "execution_count": 144,
     "metadata": {},
     "output_type": "execute_result"
    }
   ],
   "source": [
    "array20=np.array([(1,2),(3,4),(5,6),(7,8)])\n",
    "array20"
   ]
  },
  {
   "cell_type": "code",
   "execution_count": 145,
   "id": "3b75da24",
   "metadata": {},
   "outputs": [
    {
     "data": {
      "text/plain": [
       "array([1, 2, 3, 4, 5, 6, 7, 8])"
      ]
     },
     "execution_count": 145,
     "metadata": {},
     "output_type": "execute_result"
    }
   ],
   "source": [
    "array20.flatten()"
   ]
  },
  {
   "cell_type": "code",
   "execution_count": 146,
   "id": "648b6297",
   "metadata": {},
   "outputs": [
    {
     "data": {
      "text/plain": [
       "array([1, 2, 3, 4, 5, 6, 7, 8])"
      ]
     },
     "execution_count": 146,
     "metadata": {},
     "output_type": "execute_result"
    }
   ],
   "source": [
    "array20.ravel()"
   ]
  },
  {
   "cell_type": "markdown",
   "id": "699d19b5",
   "metadata": {},
   "source": [
    "# cophy kardan"
   ]
  },
  {
   "cell_type": "markdown",
   "id": "b1e781aa",
   "metadata": {},
   "source": [
    "# 1)copy na mostaghel"
   ]
  },
  {
   "cell_type": "code",
   "execution_count": 149,
   "id": "df8b0b49",
   "metadata": {},
   "outputs": [
    {
     "name": "stdout",
     "output_type": "stream",
     "text": [
      "[1 2 3 4 5]\n",
      "[1 2 3 4 5]\n",
      "[  1   2 100  20   5]\n",
      "[  1   2 100  20   5]\n"
     ]
    }
   ],
   "source": [
    "a1=np.array([1,2,3,4,5])\n",
    "a2=a1\n",
    "print(a1)\n",
    "print(a2)\n",
    "a1[2]=100\n",
    "a2[3]=20\n",
    "print(a1)\n",
    "print(a2)"
   ]
  },
  {
   "cell_type": "markdown",
   "id": "de3ea9c4",
   "metadata": {},
   "source": [
    "# 2) na mostaghel"
   ]
  },
  {
   "cell_type": "code",
   "execution_count": 150,
   "id": "7455ced7",
   "metadata": {},
   "outputs": [
    {
     "name": "stdout",
     "output_type": "stream",
     "text": [
      "[1 2 3 4 5]\n",
      "[1 2 3 4 5]\n",
      "[  1   2 100   4   5]\n",
      "[ 1  2  3 20  5]\n"
     ]
    }
   ],
   "source": [
    "a1=np.array([1,2,3,4,5])\n",
    "a3=np.copy(a1)\n",
    "print(a1)\n",
    "print(a3)\n",
    "a1[2]=100\n",
    "a3[3]=20\n",
    "print(a1)\n",
    "print(a3)"
   ]
  },
  {
   "cell_type": "markdown",
   "id": "819c27a6",
   "metadata": {},
   "source": [
    "# append/det elements==> ezafe kardan ya pak kardane deraye"
   ]
  },
  {
   "cell_type": "code",
   "execution_count": 3,
   "id": "a989ee57",
   "metadata": {},
   "outputs": [
    {
     "name": "stdout",
     "output_type": "stream",
     "text": [
      "[20 30 40 50 60 70 80]\n"
     ]
    }
   ],
   "source": [
    "numbers1=np.array([20,30,40,50,60])\n",
    "numbers1=np.append(numbers1,[70,80])\n",
    "print(numbers1)"
   ]
  },
  {
   "cell_type": "code",
   "execution_count": 5,
   "id": "cb363ec2",
   "metadata": {},
   "outputs": [
    {
     "name": "stdout",
     "output_type": "stream",
     "text": [
      "[20 30 70 80]\n"
     ]
    }
   ],
   "source": [
    "numbers1=np.delete(numbers1,2)\n",
    "print(numbers1)"
   ]
  },
  {
   "cell_type": "code",
   "execution_count": 7,
   "id": "d205bda0",
   "metadata": {},
   "outputs": [
    {
     "name": "stdout",
     "output_type": "stream",
     "text": [
      "[20 30]\n"
     ]
    }
   ],
   "source": [
    "import numpy as np\n",
    "numbers1=np.delete(numbers1,[2,3])\n",
    "print(numbers1)"
   ]
  },
  {
   "cell_type": "markdown",
   "id": "1e34083f",
   "metadata": {},
   "source": [
    "# broadcasting"
   ]
  },
  {
   "cell_type": "code",
   "execution_count": 8,
   "id": "61bd27fb",
   "metadata": {},
   "outputs": [
    {
     "data": {
      "text/plain": [
       "array([[ 2,  4,  6],\n",
       "       [ 5,  7,  9],\n",
       "       [ 8, 10, 12]])"
      ]
     },
     "execution_count": 8,
     "metadata": {},
     "output_type": "execute_result"
    }
   ],
   "source": [
    "z1=np.array([1,2,3])\n",
    "z2=np.array([[1,2,3],[4,5,6],[7,8,9]])\n",
    "z3=z1+z2\n",
    "z3\n",
    "# bayad compatible ya sazgar bashand"
   ]
  },
  {
   "cell_type": "markdown",
   "id": "081c5f62",
   "metadata": {},
   "source": [
    "# save/load arrays"
   ]
  },
  {
   "cell_type": "code",
   "execution_count": 10,
   "id": "b478c127",
   "metadata": {},
   "outputs": [],
   "source": [
    "n1=np.array([1,2,3,4])\n",
    "np.save(r\"E:\\projects\\numpy-class\\numpy1.npy\",n1)"
   ]
  },
  {
   "cell_type": "code",
   "execution_count": 11,
   "id": "63fcc244",
   "metadata": {},
   "outputs": [
    {
     "name": "stdout",
     "output_type": "stream",
     "text": [
      "[1 2 3 4]\n"
     ]
    }
   ],
   "source": [
    "loading=np.load(r\"E:\\projects\\numpy-class\\numpy1.npy\")\n",
    "print(loading)"
   ]
  },
  {
   "cell_type": "code",
   "execution_count": 12,
   "id": "d3b2fbab",
   "metadata": {},
   "outputs": [
    {
     "data": {
      "text/plain": [
       "numpy.ndarray"
      ]
     },
     "execution_count": 12,
     "metadata": {},
     "output_type": "execute_result"
    }
   ],
   "source": [
    "type(loading)"
   ]
  },
  {
   "cell_type": "code",
   "execution_count": null,
   "id": "af4fe0b1",
   "metadata": {},
   "outputs": [],
   "source": []
  }
 ],
 "metadata": {
  "kernelspec": {
   "display_name": "Python 3 (ipykernel)",
   "language": "python",
   "name": "python3"
  },
  "language_info": {
   "codemirror_mode": {
    "name": "ipython",
    "version": 3
   },
   "file_extension": ".py",
   "mimetype": "text/x-python",
   "name": "python",
   "nbconvert_exporter": "python",
   "pygments_lexer": "ipython3",
   "version": "3.11.5"
  }
 },
 "nbformat": 4,
 "nbformat_minor": 5
}
