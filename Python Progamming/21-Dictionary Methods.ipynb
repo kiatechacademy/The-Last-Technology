{
 "cells": [
  {
   "cell_type": "markdown",
   "id": "14f1f45c",
   "metadata": {},
   "source": [
    "# dictionary"
   ]
  },
  {
   "cell_type": "code",
   "execution_count": 1,
   "id": "8514cc91",
   "metadata": {},
   "outputs": [
    {
     "name": "stdout",
     "output_type": "stream",
     "text": [
      "{'index1': 1, 'index2': 2, 'number3': 'ali'} <class 'dict'>\n"
     ]
    }
   ],
   "source": [
    "diction={\"index1\":1,\"index2\":2,\"number3\":\"ali\"}\n",
    "print(diction,type(diction))"
   ]
  },
  {
   "cell_type": "code",
   "execution_count": 2,
   "id": "2f97f38a",
   "metadata": {},
   "outputs": [
    {
     "name": "stdout",
     "output_type": "stream",
     "text": [
      "{'model1': 'BMW', 'Model2': 'benz', 'Model3': 'FORD'}\n"
     ]
    }
   ],
   "source": [
    "cars={\"model1\":\"BMW\",\"Model2\":\"benz\",\"Model3\":\"FORD\"}\n",
    "print(cars)"
   ]
  },
  {
   "cell_type": "code",
   "execution_count": 3,
   "id": "4c8e8cc5",
   "metadata": {},
   "outputs": [
    {
     "name": "stdout",
     "output_type": "stream",
     "text": [
      "{'name': 'Ali', 'score': 20, 'age': 24}\n"
     ]
    }
   ],
   "source": [
    "brand={\"name\":\"Ali\",\n",
    "      \"score\":20,\n",
    "       \"age\":24\n",
    "      }\n",
    "print(brand)"
   ]
  },
  {
   "cell_type": "markdown",
   "id": "11da607c",
   "metadata": {},
   "source": [
    "# dastresi be ajzaye dakhele dictionry"
   ]
  },
  {
   "cell_type": "code",
   "execution_count": 6,
   "id": "aa34a617",
   "metadata": {},
   "outputs": [
    {
     "name": "stdout",
     "output_type": "stream",
     "text": [
      "banana\n",
      "apple\n"
     ]
    }
   ],
   "source": [
    "fruits={\"f1\":\"apple\",\"f2\":\"banana\"}\n",
    "print(fruits[\"f2\"])\n",
    "print(fruits[\"f1\"])"
   ]
  },
  {
   "cell_type": "markdown",
   "id": "33ec57f8",
   "metadata": {},
   "source": [
    "# taghire ozv dictionary"
   ]
  },
  {
   "cell_type": "code",
   "execution_count": 7,
   "id": "702c501d",
   "metadata": {},
   "outputs": [
    {
     "name": "stdout",
     "output_type": "stream",
     "text": [
      "{'f1': 'apple', 'f2': 'orange'}\n"
     ]
    }
   ],
   "source": [
    "fruits={\"f1\":\"apple\",\"f2\":\"banana\"}\n",
    "fruits[\"f2\"]=\"orange\"\n",
    "print(fruits)"
   ]
  },
  {
   "cell_type": "markdown",
   "id": "b1c56775",
   "metadata": {},
   "source": [
    "# dastresi be ozv haye mokhtalefe dictionary"
   ]
  },
  {
   "cell_type": "code",
   "execution_count": 8,
   "id": "b93c496b",
   "metadata": {},
   "outputs": [
    {
     "name": "stdout",
     "output_type": "stream",
     "text": [
      "model1 : BMW\n",
      "Model2 : benz\n",
      "Model3 : FORD\n"
     ]
    }
   ],
   "source": [
    "cars={\"model1\":\"BMW\",\"Model2\":\"benz\",\"Model3\":\"FORD\"}\n",
    "for i in cars:\n",
    "    print(i,\":\",cars[i])#cars[model1]=BMW"
   ]
  },
  {
   "cell_type": "markdown",
   "id": "8d82dd36",
   "metadata": {},
   "source": [
    "# methods"
   ]
  },
  {
   "cell_type": "code",
   "execution_count": 1,
   "id": "2ac835f9",
   "metadata": {},
   "outputs": [
    {
     "name": "stdout",
     "output_type": "stream",
     "text": [
      "{'name': 'sportage', 'company': 'kia', 'year': 2016}\n"
     ]
    }
   ],
   "source": [
    "car={\"name\":\"sportage\",\"company\":\"kia\",\"year\":2016}\n",
    "print(car)"
   ]
  },
  {
   "cell_type": "markdown",
   "id": "df599d4a",
   "metadata": {},
   "source": [
    "# clear ==> pak kardan kole ajzaye dakhele dictionary"
   ]
  },
  {
   "cell_type": "code",
   "execution_count": 2,
   "id": "1fac4974",
   "metadata": {},
   "outputs": [
    {
     "name": "stdout",
     "output_type": "stream",
     "text": [
      "{}\n"
     ]
    }
   ],
   "source": [
    "car.clear()\n",
    "print(car)"
   ]
  },
  {
   "cell_type": "code",
   "execution_count": 3,
   "id": "b4e091b0",
   "metadata": {},
   "outputs": [],
   "source": [
    "car={\"name\":\"sportage\",\"company\":\"kia\",\"year\":2016}"
   ]
  },
  {
   "cell_type": "markdown",
   "id": "9e72a04c",
   "metadata": {},
   "source": [
    "# copy==> copy kardan"
   ]
  },
  {
   "cell_type": "code",
   "execution_count": 4,
   "id": "c4b5e233",
   "metadata": {},
   "outputs": [
    {
     "name": "stdout",
     "output_type": "stream",
     "text": [
      "{'name': 'sportage', 'company': 'kia', 'year': 2016}\n"
     ]
    }
   ],
   "source": [
    "car2=car.copy()\n",
    "print(car2)"
   ]
  },
  {
   "cell_type": "markdown",
   "id": "8961f133",
   "metadata": {},
   "source": [
    "# get==> yek ozv khas az dictionary ra be ma midahad"
   ]
  },
  {
   "cell_type": "code",
   "execution_count": 6,
   "id": "8b44370d",
   "metadata": {},
   "outputs": [
    {
     "name": "stdout",
     "output_type": "stream",
     "text": [
      "sportage\n",
      "2016\n"
     ]
    }
   ],
   "source": [
    "car={\"name\":\"sportage\",\"company\":\"kia\",\"year\":2016}\n",
    "print(car.get(\"name\"))\n",
    "print(car.get(\"year\"))"
   ]
  },
  {
   "cell_type": "markdown",
   "id": "c929a10b",
   "metadata": {},
   "source": [
    "# keys==> listi az key ya kilid haye dakhele dictionary be shoma midahad"
   ]
  },
  {
   "cell_type": "code",
   "execution_count": 8,
   "id": "06b0550e",
   "metadata": {},
   "outputs": [
    {
     "name": "stdout",
     "output_type": "stream",
     "text": [
      "dict_keys(['name', 'company', 'year'])\n"
     ]
    }
   ],
   "source": [
    "car={\"name\":\"sportage\",\"company\":\"kia\",\"year\":2016}\n",
    "print(car.keys())"
   ]
  },
  {
   "cell_type": "markdown",
   "id": "309916d3",
   "metadata": {},
   "source": [
    "# values==> listi az value ya meghdar haye dakhele dictionary be shoma midhad"
   ]
  },
  {
   "cell_type": "code",
   "execution_count": 9,
   "id": "1231c284",
   "metadata": {},
   "outputs": [
    {
     "name": "stdout",
     "output_type": "stream",
     "text": [
      "dict_values(['sportage', 'kia', 2016])\n"
     ]
    }
   ],
   "source": [
    "car={\"name\":\"sportage\",\"company\":\"kia\",\"year\":2016}\n",
    "print(car.values())"
   ]
  },
  {
   "cell_type": "markdown",
   "id": "164bbc03",
   "metadata": {},
   "source": [
    "# pop==> pakesh mikonad va migoyad che chizi ra pak karde"
   ]
  },
  {
   "cell_type": "code",
   "execution_count": 13,
   "id": "186c0257",
   "metadata": {},
   "outputs": [
    {
     "name": "stdout",
     "output_type": "stream",
     "text": [
      "sportage\n",
      "{'company': 'kia', 'year': 2016}\n"
     ]
    }
   ],
   "source": [
    "car={\"name\":\"sportage\",\"company\":\"kia\",\"year\":2016}\n",
    "print(car.pop(\"name\"))\n",
    "print(car)"
   ]
  },
  {
   "cell_type": "markdown",
   "id": "aab65e3b",
   "metadata": {},
   "source": [
    "# popitem==> ozv akharin ra pak mikoand"
   ]
  },
  {
   "cell_type": "code",
   "execution_count": 14,
   "id": "6280471c",
   "metadata": {},
   "outputs": [
    {
     "name": "stdout",
     "output_type": "stream",
     "text": [
      "{'name': 'sportage', 'company': 'kia'}\n"
     ]
    }
   ],
   "source": [
    "car={\"name\":\"sportage\",\"company\":\"kia\",\"year\":2016}\n",
    "car.popitem()\n",
    "print(car)"
   ]
  },
  {
   "cell_type": "markdown",
   "id": "be80a7c2",
   "metadata": {},
   "source": [
    "# setdefault==>  shabihe get"
   ]
  },
  {
   "cell_type": "code",
   "execution_count": 15,
   "id": "82e7bb49",
   "metadata": {},
   "outputs": [
    {
     "name": "stdout",
     "output_type": "stream",
     "text": [
      "{'name': 'sportage', 'company': 'kia', 'year': 2016}\n",
      "sportage\n"
     ]
    }
   ],
   "source": [
    "car={\"name\":\"sportage\",\"company\":\"kia\",\"year\":2016}\n",
    "car2=car.setdefault(\"name\")\n",
    "print(car)\n",
    "print(car2)"
   ]
  },
  {
   "cell_type": "markdown",
   "id": "e141f4a7",
   "metadata": {},
   "source": [
    "# update==> dictionary jadide khodetan ra midahad ba paramtre  haye jadid"
   ]
  },
  {
   "cell_type": "code",
   "execution_count": 16,
   "id": "40bef906",
   "metadata": {},
   "outputs": [
    {
     "name": "stdout",
     "output_type": "stream",
     "text": [
      "{'name': 'sportage', 'company': 'kia', 'year': 2016, 'color': 'black'}\n"
     ]
    }
   ],
   "source": [
    "car={\"name\":\"sportage\",\"company\":\"kia\",\"year\":2016}\n",
    "car.update({\"color\":\"black\"})\n",
    "print(car)"
   ]
  },
  {
   "cell_type": "markdown",
   "id": "ee5e8514",
   "metadata": {},
   "source": [
    "# items==> listi az key ha va value ha baham midahad"
   ]
  },
  {
   "cell_type": "code",
   "execution_count": 17,
   "id": "ea91621f",
   "metadata": {},
   "outputs": [
    {
     "name": "stdout",
     "output_type": "stream",
     "text": [
      "dict_items([('name', 'sportage'), ('company', 'kia'), ('year', 2016)])\n",
      "<class 'dict_items'>\n"
     ]
    }
   ],
   "source": [
    "car={\"name\":\"sportage\",\"company\":\"kia\",\"year\":2016}\n",
    "print(car.items())\n",
    "print(type(car.items()))"
   ]
  },
  {
   "cell_type": "markdown",
   "id": "4087fddd",
   "metadata": {},
   "source": [
    "# fromkeys==> tamame value ra ba adade morede nazare shoma  avaz mikonad"
   ]
  },
  {
   "cell_type": "code",
   "execution_count": 18,
   "id": "f8145557",
   "metadata": {},
   "outputs": [
    {
     "name": "stdout",
     "output_type": "stream",
     "text": [
      "{'n1': 40, 'n2': 40, 'n3': 40}\n"
     ]
    }
   ],
   "source": [
    "numbers={\"n1\":10,\"n2\":20,\"n3\":30}\n",
    "number=40\n",
    "numbers2=dict.fromkeys(numbers,number)\n",
    "print(numbers2)"
   ]
  },
  {
   "cell_type": "markdown",
   "id": "ee6d798e",
   "metadata": {},
   "source": [
    "# nokat mohem"
   ]
  },
  {
   "cell_type": "markdown",
   "id": "129db995",
   "metadata": {},
   "source": [
    "# if ya shart dar dictionaries"
   ]
  },
  {
   "cell_type": "code",
   "execution_count": 20,
   "id": "e42fa42f",
   "metadata": {},
   "outputs": [
    {
     "name": "stdout",
     "output_type": "stream",
     "text": [
      "your band is here\n"
     ]
    }
   ],
   "source": [
    "brands={\"brand1\":\"BMW\",\"brand2\":\"Nike\",\"brand3\":\"Benz\",\"brand4\":\"Apple\"}\n",
    "if \"brand3\" in brands.keys():\n",
    "    print(\"your band is here\")\n",
    "else:\n",
    "    print(\"your brand is not in our dictionary\")"
   ]
  },
  {
   "cell_type": "code",
   "execution_count": 21,
   "id": "03b75e50",
   "metadata": {},
   "outputs": [
    {
     "name": "stdout",
     "output_type": "stream",
     "text": [
      "your brand is not in our dictionary\n"
     ]
    }
   ],
   "source": [
    "brands={\"brand1\":\"BMW\",\"brand2\":\"Nike\",\"brand3\":\"Benz\",\"brand4\":\"Apple\"}\n",
    "if \"Samsung\" in brands.values():\n",
    "    print(\"your band is here\")\n",
    "else:\n",
    "    print(\"your brand is not in our dictionary\")"
   ]
  },
  {
   "cell_type": "code",
   "execution_count": null,
   "id": "47c04b38",
   "metadata": {},
   "outputs": [],
   "source": []
  }
 ],
 "metadata": {
  "kernelspec": {
   "display_name": "Python 3 (ipykernel)",
   "language": "python",
   "name": "python3"
  },
  "language_info": {
   "codemirror_mode": {
    "name": "ipython",
    "version": 3
   },
   "file_extension": ".py",
   "mimetype": "text/x-python",
   "name": "python",
   "nbconvert_exporter": "python",
   "pygments_lexer": "ipython3",
   "version": "3.11.5"
  }
 },
 "nbformat": 4,
 "nbformat_minor": 5
}
