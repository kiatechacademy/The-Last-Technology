{
 "cells": [
  {
   "cell_type": "markdown",
   "id": "2234de8b",
   "metadata": {},
   "source": [
    "# comparison operations ya amalgarhaye moghayeseiy"
   ]
  },
  {
   "cell_type": "code",
   "execution_count": 1,
   "id": "f028c11a",
   "metadata": {},
   "outputs": [
    {
     "data": {
      "text/plain": [
       "True"
      ]
     },
     "execution_count": 1,
     "metadata": {},
     "output_type": "execute_result"
    }
   ],
   "source": [
    "5>2"
   ]
  },
  {
   "cell_type": "code",
   "execution_count": 2,
   "id": "ad5d5982",
   "metadata": {},
   "outputs": [
    {
     "data": {
      "text/plain": [
       "True"
      ]
     },
     "execution_count": 2,
     "metadata": {},
     "output_type": "execute_result"
    }
   ],
   "source": [
    "10<19"
   ]
  },
  {
   "cell_type": "code",
   "execution_count": 3,
   "id": "447e807c",
   "metadata": {},
   "outputs": [
    {
     "data": {
      "text/plain": [
       "False"
      ]
     },
     "execution_count": 3,
     "metadata": {},
     "output_type": "execute_result"
    }
   ],
   "source": [
    "12>15"
   ]
  },
  {
   "cell_type": "code",
   "execution_count": 4,
   "id": "97c94d16",
   "metadata": {},
   "outputs": [
    {
     "data": {
      "text/plain": [
       "True"
      ]
     },
     "execution_count": 4,
     "metadata": {},
     "output_type": "execute_result"
    }
   ],
   "source": [
    "12==12"
   ]
  },
  {
   "cell_type": "code",
   "execution_count": 5,
   "id": "f8dc33bc",
   "metadata": {},
   "outputs": [
    {
     "data": {
      "text/plain": [
       "False"
      ]
     },
     "execution_count": 5,
     "metadata": {},
     "output_type": "execute_result"
    }
   ],
   "source": [
    "12==20"
   ]
  },
  {
   "cell_type": "code",
   "execution_count": 8,
   "id": "1e00a68b",
   "metadata": {},
   "outputs": [
    {
     "data": {
      "text/plain": [
       "False"
      ]
     },
     "execution_count": 8,
     "metadata": {},
     "output_type": "execute_result"
    }
   ],
   "source": [
    "25>=26"
   ]
  },
  {
   "cell_type": "code",
   "execution_count": 9,
   "id": "129195f2",
   "metadata": {},
   "outputs": [
    {
     "data": {
      "text/plain": [
       "True"
      ]
     },
     "execution_count": 9,
     "metadata": {},
     "output_type": "execute_result"
    }
   ],
   "source": [
    "16<=16"
   ]
  },
  {
   "cell_type": "code",
   "execution_count": 10,
   "id": "e9fb7c12",
   "metadata": {},
   "outputs": [
    {
     "data": {
      "text/plain": [
       "False"
      ]
     },
     "execution_count": 10,
     "metadata": {},
     "output_type": "execute_result"
    }
   ],
   "source": [
    "16<=14"
   ]
  },
  {
   "cell_type": "code",
   "execution_count": 11,
   "id": "6d4fa8c6",
   "metadata": {},
   "outputs": [
    {
     "data": {
      "text/plain": [
       "False"
      ]
     },
     "execution_count": 11,
     "metadata": {},
     "output_type": "execute_result"
    }
   ],
   "source": [
    "20!=20"
   ]
  },
  {
   "cell_type": "code",
   "execution_count": 12,
   "id": "b2b90b3f",
   "metadata": {},
   "outputs": [
    {
     "data": {
      "text/plain": [
       "True"
      ]
     },
     "execution_count": 12,
     "metadata": {},
     "output_type": "execute_result"
    }
   ],
   "source": [
    "20!=30"
   ]
  },
  {
   "cell_type": "markdown",
   "id": "67f2fbea",
   "metadata": {},
   "source": [
    "# Conditional"
   ]
  },
  {
   "cell_type": "markdown",
   "id": "f657fa5f",
   "metadata": {},
   "source": [
    " if shart:\n",
    "    dastorati ke mikhahid dar sorate vojode shart etefagh bioftand"
   ]
  },
  {
   "cell_type": "code",
   "execution_count": 17,
   "id": "3faccce6",
   "metadata": {},
   "outputs": [
    {
     "name": "stdout",
     "output_type": "stream",
     "text": [
      "a is higher than b\n"
     ]
    }
   ],
   "source": [
    "a=20\n",
    "b=18\n",
    "if a>b:\n",
    "    print(\"a is higher than b\")"
   ]
  },
  {
   "cell_type": "markdown",
   "id": "fc147197",
   "metadata": {},
   "source": [
    "# nokte==> indent ya fasele gozari dar python besyar mohem ast"
   ]
  },
  {
   "cell_type": "markdown",
   "id": "9c22765d",
   "metadata": {},
   "source": [
    "# if else"
   ]
  },
  {
   "cell_type": "code",
   "execution_count": 21,
   "id": "f2658a99",
   "metadata": {},
   "outputs": [
    {
     "name": "stdout",
     "output_type": "stream",
     "text": [
      "b is higher than a\n"
     ]
    }
   ],
   "source": [
    "a=20\n",
    "b=22\n",
    "if a>b:\n",
    "    print(\"a is higher than b\")\n",
    "else:\n",
    "    print(\"b is higher than a\")"
   ]
  },
  {
   "cell_type": "markdown",
   "id": "86cd5c63",
   "metadata": {},
   "source": [
    "# if elif else"
   ]
  },
  {
   "cell_type": "code",
   "execution_count": 22,
   "id": "9246ffdc",
   "metadata": {},
   "outputs": [
    {
     "name": "stdout",
     "output_type": "stream",
     "text": [
      "b is higher than a\n"
     ]
    }
   ],
   "source": [
    "a=20\n",
    "b=22\n",
    "if a>b:\n",
    "    print(\"a is higher than b\")\n",
    "elif a==b:\n",
    "    print(\" a is equal to b \")\n",
    "else:\n",
    "    print(\"b is higher than a\")"
   ]
  },
  {
   "cell_type": "markdown",
   "id": "40d1e53b",
   "metadata": {},
   "source": [
    "# input==> vorodi gereftan az karbar==> vorodi be sorate reshte migirad"
   ]
  },
  {
   "cell_type": "code",
   "execution_count": 25,
   "id": "938958bf",
   "metadata": {},
   "outputs": [
    {
     "name": "stdout",
     "output_type": "stream",
     "text": [
      "please enter one number:90\n",
      "90\n",
      "<class 'str'>\n"
     ]
    }
   ],
   "source": [
    "number1=input(\"please enter one number:\")\n",
    "print(number1)\n",
    "print(type(number1))"
   ]
  },
  {
   "cell_type": "code",
   "execution_count": 27,
   "id": "5356367b",
   "metadata": {},
   "outputs": [
    {
     "name": "stdout",
     "output_type": "stream",
     "text": [
      "Please enter one number:20\n",
      "20\n",
      "<class 'int'>\n",
      "40\n"
     ]
    }
   ],
   "source": [
    "number2=int(input(\"Please enter one number:\"))\n",
    "print(number2)\n",
    "print(type(number2))\n",
    "print(number2+20)"
   ]
  },
  {
   "cell_type": "code",
   "execution_count": 28,
   "id": "33a0faaa",
   "metadata": {},
   "outputs": [
    {
     "name": "stdout",
     "output_type": "stream",
     "text": [
      "Please enter one number:12.5\n",
      "12.5\n",
      "<class 'float'>\n",
      "32.5\n"
     ]
    }
   ],
   "source": [
    "number3=float(input(\"Please enter one number:\"))\n",
    "print(number3)\n",
    "print(type(number3))\n",
    "print(number3+20)"
   ]
  },
  {
   "cell_type": "code",
   "execution_count": null,
   "id": "ab290a97",
   "metadata": {},
   "outputs": [],
   "source": []
  }
 ],
 "metadata": {
  "kernelspec": {
   "display_name": "Python 3 (ipykernel)",
   "language": "python",
   "name": "python3"
  },
  "language_info": {
   "codemirror_mode": {
    "name": "ipython",
    "version": 3
   },
   "file_extension": ".py",
   "mimetype": "text/x-python",
   "name": "python",
   "nbconvert_exporter": "python",
   "pygments_lexer": "ipython3",
   "version": "3.11.5"
  }
 },
 "nbformat": 4,
 "nbformat_minor": 5
}
