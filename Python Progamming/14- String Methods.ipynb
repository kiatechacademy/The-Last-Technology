{
 "cells": [
  {
   "cell_type": "code",
   "execution_count": 1,
   "id": "54643a03",
   "metadata": {},
   "outputs": [
    {
     "name": "stdout",
     "output_type": "stream",
     "text": [
      "a m i r\n"
     ]
    }
   ],
   "source": [
    "a=\"a\"\n",
    "b=\"m\"\n",
    "c=\"i\"\n",
    "d=\"r\"\n",
    "print(a,b,c,d)"
   ]
  },
  {
   "cell_type": "code",
   "execution_count": 2,
   "id": "7fceabc0",
   "metadata": {},
   "outputs": [
    {
     "name": "stdout",
     "output_type": "stream",
     "text": [
      "amir\n"
     ]
    }
   ],
   "source": [
    "name=\"amir\"\n",
    "print(name)"
   ]
  },
  {
   "cell_type": "code",
   "execution_count": 3,
   "id": "b02b8617",
   "metadata": {},
   "outputs": [
    {
     "name": "stdout",
     "output_type": "stream",
     "text": [
      "amir\n"
     ]
    }
   ],
   "source": [
    "name='amir'\n",
    "print(name)"
   ]
  },
  {
   "cell_type": "markdown",
   "id": "7b9a5d9a",
   "metadata": {},
   "source": [
    "# edghame chand reshte ba ham"
   ]
  },
  {
   "cell_type": "code",
   "execution_count": 4,
   "id": "36a0d8b9",
   "metadata": {},
   "outputs": [
    {
     "name": "stdout",
     "output_type": "stream",
     "text": [
      "aliamir\n"
     ]
    }
   ],
   "source": [
    "name1=\"ali\"\n",
    "name2=\"amir\"\n",
    "name3=name1+name2\n",
    "print(name3)"
   ]
  },
  {
   "cell_type": "code",
   "execution_count": 6,
   "id": "cfc4c73d",
   "metadata": {},
   "outputs": [
    {
     "name": "stdout",
     "output_type": "stream",
     "text": [
      "ali amir\n"
     ]
    }
   ],
   "source": [
    "name1=\"ali\"\n",
    "name2=\"amir\"\n",
    "name3=\" \"\n",
    "name4=name1+name3+name2\n",
    "print(name4)"
   ]
  },
  {
   "cell_type": "markdown",
   "id": "a2738720",
   "metadata": {},
   "source": [
    "# chape kole horofe yek reshte:"
   ]
  },
  {
   "cell_type": "code",
   "execution_count": 8,
   "id": "a02fc0d8",
   "metadata": {},
   "outputs": [
    {
     "name": "stdout",
     "output_type": "stream",
     "text": [
      "Please enter your name:amir\n",
      "a\n",
      "m\n",
      "i\n",
      "r\n"
     ]
    }
   ],
   "source": [
    "name=input(\"Please enter your name:\")\n",
    "for i in name:\n",
    "    print(i)"
   ]
  },
  {
   "cell_type": "markdown",
   "id": "ad7383a0",
   "metadata": {},
   "source": [
    "# toole reshte==> len(esme reshte)"
   ]
  },
  {
   "cell_type": "code",
   "execution_count": 12,
   "id": "dc924bfb",
   "metadata": {},
   "outputs": [
    {
     "name": "stdout",
     "output_type": "stream",
     "text": [
      "Please enter your name:ali\n",
      "3\n"
     ]
    }
   ],
   "source": [
    "name=input(\"Please enter your name:\")\n",
    "print(len(name))"
   ]
  },
  {
   "cell_type": "code",
   "execution_count": 13,
   "id": "8261bc57",
   "metadata": {},
   "outputs": [
    {
     "name": "stdout",
     "output_type": "stream",
     "text": [
      "5\n"
     ]
    }
   ],
   "source": [
    "a=12345\n",
    "b=str(a)\n",
    "print(len(b))"
   ]
  },
  {
   "cell_type": "markdown",
   "id": "b96b3689",
   "metadata": {},
   "source": [
    "# dastresi==> tabaghat ya index ha ra  estefade konim- az 0 shoro mishavad"
   ]
  },
  {
   "cell_type": "code",
   "execution_count": 22,
   "id": "11119dee",
   "metadata": {},
   "outputs": [
    {
     "name": "stdout",
     "output_type": "stream",
     "text": [
      "a\n",
      "l\n",
      "i\n",
      "i\n",
      "l\n"
     ]
    }
   ],
   "source": [
    "a=\"ali\"\n",
    "print(a[0])\n",
    "print(a[1])\n",
    "print(a[2])\n",
    "print(a[-1])\n",
    "print(a[-2])"
   ]
  },
  {
   "cell_type": "code",
   "execution_count": 23,
   "id": "3595f56f",
   "metadata": {},
   "outputs": [
    {
     "name": "stdout",
     "output_type": "stream",
     "text": [
      "a\n",
      "m\n"
     ]
    }
   ],
   "source": [
    "name=\"amir ali\"\n",
    "print(name[5])\n",
    "print(name[1])"
   ]
  },
  {
   "cell_type": "markdown",
   "id": "07581a84",
   "metadata": {},
   "source": [
    "# slicing ya boresh dehi"
   ]
  },
  {
   "cell_type": "code",
   "execution_count": 28,
   "id": "bc2d1a87",
   "metadata": {},
   "outputs": [
    {
     "name": "stdout",
     "output_type": "stream",
     "text": [
      "amir\n",
      "hosein\n",
      "amir\n",
      "amir hosein\n"
     ]
    }
   ],
   "source": [
    "name=\"amir hosein\"\n",
    "print(name[0:4])\n",
    "print(name[5:])\n",
    "print(name[:4])\n",
    "print(name[:])"
   ]
  },
  {
   "cell_type": "code",
   "execution_count": 30,
   "id": "3cda070b",
   "metadata": {},
   "outputs": [
    {
     "name": "stdout",
     "output_type": "stream",
     "text": [
      "airz\n"
     ]
    }
   ],
   "source": [
    "name=\"ali reza\"\n",
    "print(name[::2])"
   ]
  },
  {
   "cell_type": "markdown",
   "id": "e8f7d24d",
   "metadata": {},
   "source": [
    "# nokte==> reshte ha  taghir napazir mibashand"
   ]
  },
  {
   "cell_type": "code",
   "execution_count": 32,
   "id": "6ec770d0",
   "metadata": {},
   "outputs": [
    {
     "name": "stdout",
     "output_type": "stream",
     "text": [
      "a\n"
     ]
    },
    {
     "ename": "TypeError",
     "evalue": "'str' object does not support item assignment",
     "output_type": "error",
     "traceback": [
      "\u001b[1;31m---------------------------------------------------------------------------\u001b[0m",
      "\u001b[1;31mTypeError\u001b[0m                                 Traceback (most recent call last)",
      "Cell \u001b[1;32mIn[32], line 3\u001b[0m\n\u001b[0;32m      1\u001b[0m name1\u001b[38;5;241m=\u001b[39m\u001b[38;5;124m\"\u001b[39m\u001b[38;5;124mali\u001b[39m\u001b[38;5;124m\"\u001b[39m\n\u001b[0;32m      2\u001b[0m \u001b[38;5;28mprint\u001b[39m(name1[\u001b[38;5;241m0\u001b[39m])\n\u001b[1;32m----> 3\u001b[0m name1[\u001b[38;5;241m0\u001b[39m]\u001b[38;5;241m=\u001b[39m\u001b[38;5;124m\"\u001b[39m\u001b[38;5;124mr\u001b[39m\u001b[38;5;124m\"\u001b[39m\n",
      "\u001b[1;31mTypeError\u001b[0m: 'str' object does not support item assignment"
     ]
    }
   ],
   "source": [
    "name1=\"ali\"\n",
    "print(name1[0])\n",
    "name1[0]=\"r\""
   ]
  },
  {
   "cell_type": "code",
   "execution_count": 34,
   "id": "8b5e58c9",
   "metadata": {},
   "outputs": [
    {
     "name": "stdout",
     "output_type": "stream",
     "text": [
      "dara\n"
     ]
    }
   ],
   "source": [
    "name1=\"sara\"\n",
    "name2=\"d\"+name1[1:]\n",
    "print(name2)"
   ]
  },
  {
   "cell_type": "code",
   "execution_count": 35,
   "id": "5635c975",
   "metadata": {},
   "outputs": [
    {
     "name": "stdout",
     "output_type": "stream",
     "text": [
      "sadra\n"
     ]
    }
   ],
   "source": [
    "name1=\"sara\"\n",
    "name2=name1[0:2]+\"d\"+name1[2:]\n",
    "print(name2)"
   ]
  },
  {
   "cell_type": "markdown",
   "id": "af0c4875",
   "metadata": {},
   "source": [
    "# Methods"
   ]
  },
  {
   "cell_type": "markdown",
   "id": "6478fa78",
   "metadata": {},
   "source": [
    "# len==> toole reshte"
   ]
  },
  {
   "cell_type": "code",
   "execution_count": 36,
   "id": "94cb5093",
   "metadata": {},
   "outputs": [
    {
     "name": "stdout",
     "output_type": "stream",
     "text": [
      "4\n"
     ]
    }
   ],
   "source": [
    "a=\"amir\"\n",
    "print(len(a))"
   ]
  },
  {
   "cell_type": "markdown",
   "id": "ec1e1182",
   "metadata": {},
   "source": [
    "# capitalize==> bozorg kardane harfe avale har reshte"
   ]
  },
  {
   "cell_type": "code",
   "execution_count": 37,
   "id": "cbca59d6",
   "metadata": {},
   "outputs": [
    {
     "name": "stdout",
     "output_type": "stream",
     "text": [
      "Amir\n"
     ]
    }
   ],
   "source": [
    "a=\"amir\"\n",
    "print(a.capitalize())"
   ]
  },
  {
   "cell_type": "markdown",
   "id": "80c22d35",
   "metadata": {},
   "source": [
    "# upper==> bozorg kardane kole reshte"
   ]
  },
  {
   "cell_type": "code",
   "execution_count": 38,
   "id": "d9780466",
   "metadata": {},
   "outputs": [
    {
     "name": "stdout",
     "output_type": "stream",
     "text": [
      "AMIR\n"
     ]
    }
   ],
   "source": [
    "a=\"amir\"\n",
    "print(a.upper())"
   ]
  },
  {
   "cell_type": "markdown",
   "id": "4cf059d8",
   "metadata": {},
   "source": [
    "# lower==> kochek kardane kole reshte"
   ]
  },
  {
   "cell_type": "code",
   "execution_count": 39,
   "id": "9b8411bc",
   "metadata": {},
   "outputs": [
    {
     "name": "stdout",
     "output_type": "stream",
     "text": [
      "mohandes\n"
     ]
    }
   ],
   "source": [
    "a=\"MOHANDES\"\n",
    "print(a.lower())"
   ]
  },
  {
   "cell_type": "markdown",
   "id": "14c487ac",
   "metadata": {},
   "source": [
    "# indexing==>shomareue harfe  morede nazar ra midahad"
   ]
  },
  {
   "cell_type": "code",
   "execution_count": 42,
   "id": "524c0320",
   "metadata": {},
   "outputs": [
    {
     "name": "stdout",
     "output_type": "stream",
     "text": [
      "3\n",
      "5\n",
      "4\n"
     ]
    }
   ],
   "source": [
    "a=\"football\"\n",
    "print(a.index(\"t\"))\n",
    "print(a.index(\"a\"))\n",
    "print(a.index(\"ball\"))"
   ]
  },
  {
   "cell_type": "code",
   "execution_count": 43,
   "id": "fba6aaae",
   "metadata": {},
   "outputs": [
    {
     "name": "stdout",
     "output_type": "stream",
     "text": [
      "1\n"
     ]
    }
   ],
   "source": [
    "a=\"football\"\n",
    "print(a.index(\"o\"))"
   ]
  },
  {
   "cell_type": "code",
   "execution_count": 45,
   "id": "5ad1e611",
   "metadata": {},
   "outputs": [
    {
     "name": "stdout",
     "output_type": "stream",
     "text": [
      "True\n",
      "False\n",
      "False\n",
      "False\n"
     ]
    }
   ],
   "source": [
    "a=\"12345\"\n",
    "b=\"m12345\"\n",
    "c=\"\"\n",
    "d=\"123a45\"\n",
    "print(a.isdigit())\n",
    "print(b.isdigit())\n",
    "print(c.isdigit())\n",
    "print(d.isdigit())"
   ]
  },
  {
   "cell_type": "markdown",
   "id": "3741eaa8",
   "metadata": {},
   "source": [
    "# count===> tedad yek harf dakhele reshte ra midahad"
   ]
  },
  {
   "cell_type": "code",
   "execution_count": 46,
   "id": "5e435ed2",
   "metadata": {},
   "outputs": [
    {
     "name": "stdout",
     "output_type": "stream",
     "text": [
      "14\n"
     ]
    }
   ],
   "source": [
    "a=\"alireza be madrese miravad va badesh barmigardad ta dars bekhanad\"\n",
    "print(a.count(\"a\"))"
   ]
  },
  {
   "cell_type": "markdown",
   "id": "6bd7ef77",
   "metadata": {},
   "source": [
    "# find()==> shomareye index ra midahad"
   ]
  },
  {
   "cell_type": "code",
   "execution_count": 48,
   "id": "21d5c00c",
   "metadata": {},
   "outputs": [
    {
     "name": "stdout",
     "output_type": "stream",
     "text": [
      "2\n"
     ]
    }
   ],
   "source": [
    "a=\"amir\"\n",
    "print(a.find(\"i\"))"
   ]
  },
  {
   "cell_type": "markdown",
   "id": "58a55a52",
   "metadata": {},
   "source": [
    "# strip==> az bein bordane fazaye khalie avale jomle "
   ]
  },
  {
   "cell_type": "code",
   "execution_count": 49,
   "id": "b702113f",
   "metadata": {},
   "outputs": [
    {
     "name": "stdout",
     "output_type": "stream",
     "text": [
      "         amir amad\n",
      "amir amad\n"
     ]
    }
   ],
   "source": [
    "a=\"         amir amad\"\n",
    "print(a)\n",
    "print(a.strip())"
   ]
  },
  {
   "cell_type": "code",
   "execution_count": null,
   "id": "94bfa5dd",
   "metadata": {},
   "outputs": [],
   "source": []
  }
 ],
 "metadata": {
  "kernelspec": {
   "display_name": "Python 3 (ipykernel)",
   "language": "python",
   "name": "python3"
  },
  "language_info": {
   "codemirror_mode": {
    "name": "ipython",
    "version": 3
   },
   "file_extension": ".py",
   "mimetype": "text/x-python",
   "name": "python",
   "nbconvert_exporter": "python",
   "pygments_lexer": "ipython3",
   "version": "3.11.5"
  }
 },
 "nbformat": 4,
 "nbformat_minor": 5
}
