{
 "cells": [
  {
   "cell_type": "markdown",
   "id": "92453e2f",
   "metadata": {},
   "source": [
    "# and or"
   ]
  },
  {
   "cell_type": "markdown",
   "id": "a9745655",
   "metadata": {},
   "source": [
    "# and==>  zamani dastorate shart ejra mishavand ke hameye shart ha bargharar bashand "
   ]
  },
  {
   "cell_type": "markdown",
   "id": "ac4a07e0",
   "metadata": {},
   "source": [
    "# or==> zamani dastorate shart ejra mishavad ke hadeghal yeki az shart ha bargharar bashad"
   ]
  },
  {
   "cell_type": "code",
   "execution_count": 8,
   "id": "a572e598",
   "metadata": {},
   "outputs": [
    {
     "name": "stdout",
     "output_type": "stream",
     "text": [
      "Please enter your score:19\n",
      "You are one of the best students\n"
     ]
    }
   ],
   "source": [
    "score=float(input(\"Please enter your score:\"))\n",
    "if score>20 or score<0:\n",
    "    print(\"your score is wrong\")\n",
    "elif score<10:\n",
    "    print(\" you are not accepted\")\n",
    "elif score>=10 and score<=15:\n",
    "    print(\"You are good student\")\n",
    "elif score>15 and score<18:\n",
    "    print(\"You are great student\")\n",
    "else: \n",
    "    print(\"You are one of the best students\")"
   ]
  },
  {
   "cell_type": "markdown",
   "id": "23169f6d",
   "metadata": {},
   "source": [
    "# and or for  strings "
   ]
  },
  {
   "cell_type": "code",
   "execution_count": 12,
   "id": "8f34f69d",
   "metadata": {},
   "outputs": [
    {
     "name": "stdout",
     "output_type": "stream",
     "text": [
      "Please enter your username:ali\n",
      "Please enter your password:2020\n",
      "You can do what you want\n"
     ]
    }
   ],
   "source": [
    "name=input(\"Please enter your username:\")\n",
    "password=int(input(\"Please enter your password:\"))\n",
    "if name==\"ali\" and password==2020:\n",
    "    print(\"You can do what you want\")\n",
    "else:\n",
    "    print(\"wrong!!! Please enter another pass or another username\")"
   ]
  },
  {
   "cell_type": "code",
   "execution_count": 15,
   "id": "bb9051fa",
   "metadata": {},
   "outputs": [
    {
     "name": "stdout",
     "output_type": "stream",
     "text": [
      "Please enter your username:amir\n",
      "Please enter your password:2020\n",
      "Your user name is not true\n",
      "Your pass is true\n"
     ]
    }
   ],
   "source": [
    "name=input(\"Please enter your username:\")\n",
    "password=int(input(\"Please enter your password:\"))\n",
    "if name==\"ali\":\n",
    "    print(\"Your username is true\")\n",
    "else:\n",
    "    print(\"Your user name is not true\")\n",
    "\n",
    "if password==2020:\n",
    "    print(\"Your pass is true\")\n",
    "else:\n",
    "    print(\"Your pass is not true\")"
   ]
  },
  {
   "cell_type": "code",
   "execution_count": null,
   "id": "8f4ee0c4",
   "metadata": {},
   "outputs": [],
   "source": []
  }
 ],
 "metadata": {
  "kernelspec": {
   "display_name": "Python 3 (ipykernel)",
   "language": "python",
   "name": "python3"
  },
  "language_info": {
   "codemirror_mode": {
    "name": "ipython",
    "version": 3
   },
   "file_extension": ".py",
   "mimetype": "text/x-python",
   "name": "python",
   "nbconvert_exporter": "python",
   "pygments_lexer": "ipython3",
   "version": "3.11.5"
  }
 },
 "nbformat": 4,
 "nbformat_minor": 5
}
