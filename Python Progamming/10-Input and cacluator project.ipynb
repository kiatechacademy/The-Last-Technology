{
 "cells": [
  {
   "cell_type": "markdown",
   "id": "6e9fc633",
   "metadata": {},
   "source": [
    "# gereftane vorodi ba tedade made nazare karbar"
   ]
  },
  {
   "cell_type": "code",
   "execution_count": 3,
   "id": "d721de36",
   "metadata": {},
   "outputs": [
    {
     "name": "stdout",
     "output_type": "stream",
     "text": [
      "Please enter the number of scores:2\n",
      "Please enter your score:19\n",
      "Please enter your score:11\n",
      "average of your scores is 15.0\n"
     ]
    }
   ],
   "source": [
    "number=int(input(\"Please enter the number of scores:\"))\n",
    "i=0\n",
    "jam=0\n",
    "while i<number:\n",
    "    score=float(input(\"Please enter your score:\"))\n",
    "    jam=jam+score\n",
    "    i=i+1\n",
    "miangin=jam/number\n",
    "print(f\"average of your scores is {miangin}\")"
   ]
  },
  {
   "cell_type": "markdown",
   "id": "721d80fb",
   "metadata": {},
   "source": [
    "# calculator"
   ]
  },
  {
   "cell_type": "code",
   "execution_count": 9,
   "id": "66df3165",
   "metadata": {},
   "outputs": [
    {
     "name": "stdout",
     "output_type": "stream",
     "text": [
      "-----------------calculator----------------\n",
      "1.sum\n",
      "2.subtract\n",
      "3.multiply\n",
      "4.devide\n",
      "-------------------------------------------\n",
      "Please enter number1:8\n",
      "Please enter number2:2\n",
      "Please choose what operation do you need4\n",
      " 8.0 / 2.0= 4.0\n"
     ]
    }
   ],
   "source": [
    "print(\"-----------------calculator----------------\")\n",
    "print(\"1.sum\")\n",
    "print(\"2.subtract\")\n",
    "print(\"3.multiply\")\n",
    "print(\"4.devide\")\n",
    "print(\"-------------------------------------------\")\n",
    "\n",
    "number1=float(input(\"Please enter number1:\"))\n",
    "number2=float(input(\"Please enter number2:\"))\n",
    "choice=int(input(\"Please choose what operation do you need\"))\n",
    "\n",
    "if choice==1:\n",
    "    print(f\" {number1} + {number2}= {number1+number2}\")\n",
    "elif choice==2:\n",
    "    print(f\" {number1} - {number2}= {number1-number2}\")\n",
    "elif choice==3:\n",
    "    print(f\" {number1} x {number2}= {number1*number2}\")\n",
    "elif choice==4:\n",
    "    print(f\" {number1} / {number2}= {number1/number2}\")\n",
    "else:\n",
    "    print(\"I cannot do other things\")"
   ]
  },
  {
   "cell_type": "code",
   "execution_count": null,
   "id": "cfcbb93f",
   "metadata": {},
   "outputs": [],
   "source": []
  }
 ],
 "metadata": {
  "kernelspec": {
   "display_name": "Python 3 (ipykernel)",
   "language": "python",
   "name": "python3"
  },
  "language_info": {
   "codemirror_mode": {
    "name": "ipython",
    "version": 3
   },
   "file_extension": ".py",
   "mimetype": "text/x-python",
   "name": "python",
   "nbconvert_exporter": "python",
   "pygments_lexer": "ipython3",
   "version": "3.11.5"
  }
 },
 "nbformat": 4,
 "nbformat_minor": 5
}
