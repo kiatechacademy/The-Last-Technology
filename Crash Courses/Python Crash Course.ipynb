{
 "cells": [
  {
   "cell_type": "markdown",
   "id": "f6f74bf4",
   "metadata": {},
   "source": [
    "# Basic syntax"
   ]
  },
  {
   "cell_type": "markdown",
   "id": "4d7f570a",
   "metadata": {},
   "source": [
    "# Variables"
   ]
  },
  {
   "cell_type": "code",
   "execution_count": null,
   "id": "c38e92b6",
   "metadata": {},
   "outputs": [],
   "source": [
    "#int===> +2 ,+3,-10\n",
    "#float==> 12.23,-101.5\n",
    "#string==> \"ali\",\"a\",\"k\",\"python\""
   ]
  },
  {
   "cell_type": "code",
   "execution_count": null,
   "id": "b96e0035",
   "metadata": {},
   "outputs": [],
   "source": [
    "#12a=12==> na dorost ==> nabyad avalesh adad bashad\n",
    "#ali amir=24===> fasele nabayad beine esme moteghair ha bashad\n",
    "#amir_rezaiy=28==> dorost ==> underline moshkeli nadard\n",
    "#str==>> esm haye az ghabl tarif shode ra dar python gharar nadahid"
   ]
  },
  {
   "cell_type": "code",
   "execution_count": 4,
   "id": "e9d43f36",
   "metadata": {},
   "outputs": [
    {
     "name": "stdout",
     "output_type": "stream",
     "text": [
      "30\n",
      "10\n",
      "2.0\n",
      "0\n",
      "200\n",
      "10240000000000\n"
     ]
    }
   ],
   "source": [
    "a=10\n",
    "b=20\n",
    "print(a+b)\n",
    "print(b-a)\n",
    "print(b/a)\n",
    "print(b%a)\n",
    "print(b*a)\n",
    "print(b**a)"
   ]
  },
  {
   "cell_type": "code",
   "execution_count": 2,
   "id": "f76fabd0",
   "metadata": {},
   "outputs": [
    {
     "name": "stdout",
     "output_type": "stream",
     "text": [
      "ali amir\n",
      "ali\n",
      "amir\n"
     ]
    }
   ],
   "source": [
    "name1=\"ali\"\n",
    "name2=\"amir\"\n",
    "print(name1,name2)\n",
    "print(name1)\n",
    "print(name2)"
   ]
  },
  {
   "cell_type": "code",
   "execution_count": 3,
   "id": "d3c013bf",
   "metadata": {},
   "outputs": [
    {
     "name": "stdout",
     "output_type": "stream",
     "text": [
      "<class 'str'>\n",
      "<class 'int'>\n",
      "<class 'float'>\n"
     ]
    }
   ],
   "source": [
    "#type ==> neshan dadane noe moteghair\n",
    "name1=\"alireza\"\n",
    "number1=20\n",
    "number2=20.5\n",
    "print(type(name1))\n",
    "print(type(number1))\n",
    "print(type(number2))"
   ]
  },
  {
   "cell_type": "markdown",
   "id": "adf1f114",
   "metadata": {},
   "source": [
    "# Input"
   ]
  },
  {
   "cell_type": "code",
   "execution_count": 5,
   "id": "bdb92a70",
   "metadata": {},
   "outputs": [
    {
     "name": "stdout",
     "output_type": "stream",
     "text": [
      "Enter your name: arash\n",
      "Hello, arash!\n"
     ]
    }
   ],
   "source": [
    "# string\n",
    "name = input(\"Enter your name: \")\n",
    "print(f\"Hello, {name}!\")"
   ]
  },
  {
   "cell_type": "code",
   "execution_count": 6,
   "id": "9e49971f",
   "metadata": {},
   "outputs": [
    {
     "name": "stdout",
     "output_type": "stream",
     "text": [
      "Enter your age: 20\n",
      "You are 20 years old.\n"
     ]
    }
   ],
   "source": [
    "#  integer\n",
    "age = int(input(\"Enter your age: \"))\n",
    "print(f\"You are {age} years old.\")"
   ]
  },
  {
   "cell_type": "code",
   "execution_count": 7,
   "id": "960587fa",
   "metadata": {},
   "outputs": [
    {
     "name": "stdout",
     "output_type": "stream",
     "text": [
      "Enter your height in meters: 190\n",
      "Your height is 190.0 meters.\n"
     ]
    }
   ],
   "source": [
    "# float\n",
    "height = float(input(\"Enter your height in meters: \"))\n",
    "print(f\"Your height is {height} meters.\")\n"
   ]
  },
  {
   "cell_type": "markdown",
   "id": "ce22921b",
   "metadata": {},
   "source": [
    "# -------------------------------------------------------------------------------------------------------"
   ]
  },
  {
   "cell_type": "markdown",
   "id": "1296a5c0",
   "metadata": {},
   "source": [
    "# Comparison"
   ]
  },
  {
   "cell_type": "code",
   "execution_count": 8,
   "id": "5cf47472",
   "metadata": {},
   "outputs": [
    {
     "name": "stdout",
     "output_type": "stream",
     "text": [
      "8\n"
     ]
    }
   ],
   "source": [
    "a=8\n",
    "b=10\n",
    "print(a)"
   ]
  },
  {
   "cell_type": "code",
   "execution_count": 9,
   "id": "caed80dc",
   "metadata": {},
   "outputs": [
    {
     "data": {
      "text/plain": [
       "False"
      ]
     },
     "execution_count": 9,
     "metadata": {},
     "output_type": "execute_result"
    }
   ],
   "source": [
    "a>b"
   ]
  },
  {
   "cell_type": "code",
   "execution_count": 10,
   "id": "3afed1ac",
   "metadata": {},
   "outputs": [
    {
     "data": {
      "text/plain": [
       "True"
      ]
     },
     "execution_count": 10,
     "metadata": {},
     "output_type": "execute_result"
    }
   ],
   "source": [
    "a<b"
   ]
  },
  {
   "cell_type": "code",
   "execution_count": 11,
   "id": "a75b3f20",
   "metadata": {},
   "outputs": [
    {
     "data": {
      "text/plain": [
       "False"
      ]
     },
     "execution_count": 11,
     "metadata": {},
     "output_type": "execute_result"
    }
   ],
   "source": [
    "num1=12\n",
    "num2=12\n",
    "num1>num2"
   ]
  },
  {
   "cell_type": "code",
   "execution_count": 12,
   "id": "e35b656c",
   "metadata": {},
   "outputs": [
    {
     "data": {
      "text/plain": [
       "True"
      ]
     },
     "execution_count": 12,
     "metadata": {},
     "output_type": "execute_result"
    }
   ],
   "source": [
    "num1==num2"
   ]
  },
  {
   "cell_type": "code",
   "execution_count": 13,
   "id": "53eb76a6",
   "metadata": {},
   "outputs": [
    {
     "data": {
      "text/plain": [
       "True"
      ]
     },
     "execution_count": 13,
     "metadata": {},
     "output_type": "execute_result"
    }
   ],
   "source": [
    "num1>=num2"
   ]
  },
  {
   "cell_type": "markdown",
   "id": "9a8feaaa",
   "metadata": {},
   "source": [
    "# -------------------------------------------------------------------------------------------------------"
   ]
  },
  {
   "cell_type": "markdown",
   "id": "0d7c75df",
   "metadata": {},
   "source": [
    "# Conditions"
   ]
  },
  {
   "cell_type": "code",
   "execution_count": 14,
   "id": "e141c756",
   "metadata": {},
   "outputs": [
    {
     "name": "stdout",
     "output_type": "stream",
     "text": [
      "number1 is lower than number2\n"
     ]
    }
   ],
   "source": [
    "number1=20\n",
    "number2=30\n",
    "if number1>number2:\n",
    "    print(\"number1 is higher than number2\")\n",
    "elif number1==number2:\n",
    "    print(\"number1 is equal to number 2\")\n",
    "else:\n",
    "    print(\"number1 is lower than number2\")"
   ]
  },
  {
   "cell_type": "code",
   "execution_count": 15,
   "id": "aa255ac4",
   "metadata": {},
   "outputs": [
    {
     "name": "stdout",
     "output_type": "stream",
     "text": [
      "Please enter the number of days that you want to know:3\n",
      "today is monday\n",
      "<class 'int'>\n"
     ]
    }
   ],
   "source": [
    "number1=int(input(\"Please enter the number of days that you want to know:\"))\n",
    "if number1==1:\n",
    "    print(\"today is saturday\")\n",
    "elif number1==2:\n",
    "    print(\"today is sunday\")\n",
    "elif number1==3:\n",
    "    print(\"today is monday\")\n",
    "elif number1==4:\n",
    "    print(\"today is tuesday\")\n",
    "elif number1==5:\n",
    "    print(\"today is wednesday\")\n",
    "elif number1==6:\n",
    "    print(\"today is thursday\")\n",
    "elif number1==7:\n",
    "    print(\"today is friday\")\n",
    "else:\n",
    "    print(\"Your number is wrong\")\n",
    "    \n",
    "print(type(number1))"
   ]
  },
  {
   "cell_type": "code",
   "execution_count": 16,
   "id": "faf00897",
   "metadata": {},
   "outputs": [
    {
     "name": "stdout",
     "output_type": "stream",
     "text": [
      "Please enter your name:amir\n",
      "your name is false\n",
      "<class 'str'>\n"
     ]
    }
   ],
   "source": [
    "name=input(\"Please enter your name:\")\n",
    "if name==\"ali\":\n",
    "    print(\"Your name is true\")\n",
    "else:\n",
    "    print(\"your name is false\")\n",
    "print(type(name))"
   ]
  },
  {
   "cell_type": "code",
   "execution_count": 17,
   "id": "af43c84b",
   "metadata": {},
   "outputs": [
    {
     "name": "stdout",
     "output_type": "stream",
     "text": [
      "Please enter the number:67\n",
      " 67.0 is higher than 50 or equal to 50\n"
     ]
    }
   ],
   "source": [
    "number=float(input(\"Please enter the number:\"))\n",
    "if number>=50:\n",
    "    print(f\" {number} is higher than 50 or equal to 50\")\n",
    "else:\n",
    "    print(f\"{number} is lower than 50\")"
   ]
  },
  {
   "cell_type": "markdown",
   "id": "7bb07fd4",
   "metadata": {},
   "source": [
    "# -------------------------------------------------------------------------------------------------------"
   ]
  },
  {
   "cell_type": "markdown",
   "id": "acc2c9d0",
   "metadata": {},
   "source": [
    "# Loop"
   ]
  },
  {
   "cell_type": "code",
   "execution_count": null,
   "id": "eeccd6a2",
   "metadata": {},
   "outputs": [],
   "source": [
    "#1) for\n",
    "#2) while"
   ]
  },
  {
   "cell_type": "markdown",
   "id": "0be132c9",
   "metadata": {},
   "source": [
    "## for"
   ]
  },
  {
   "cell_type": "code",
   "execution_count": 18,
   "id": "67d536d7",
   "metadata": {},
   "outputs": [
    {
     "name": "stdout",
     "output_type": "stream",
     "text": [
      "1\n",
      "2\n",
      "3\n",
      "4\n",
      "5\n",
      "6\n",
      "7\n",
      "8\n",
      "9\n",
      "10\n",
      "11\n",
      "12\n",
      "13\n",
      "14\n",
      "15\n",
      "16\n",
      "17\n",
      "18\n",
      "19\n",
      "20\n"
     ]
    }
   ],
   "source": [
    "for i in range(1,21): # (ebteda, enteha+1)\n",
    "    print(i)"
   ]
  },
  {
   "cell_type": "code",
   "execution_count": 19,
   "id": "68b64817",
   "metadata": {},
   "outputs": [
    {
     "name": "stdout",
     "output_type": "stream",
     "text": [
      "2\n",
      "4\n",
      "6\n",
      "8\n",
      "10\n",
      "12\n",
      "14\n",
      "16\n",
      "18\n",
      "20\n",
      "22\n",
      "24\n",
      "26\n",
      "28\n",
      "30\n"
     ]
    }
   ],
   "source": [
    "for i in range(1,31):\n",
    "    if i%2==0:\n",
    "        print(i)"
   ]
  },
  {
   "cell_type": "code",
   "execution_count": 20,
   "id": "779bd898",
   "metadata": {},
   "outputs": [
    {
     "name": "stdout",
     "output_type": "stream",
     "text": [
      "1\n",
      "3\n",
      "5\n",
      "7\n",
      "9\n",
      "11\n",
      "13\n",
      "15\n",
      "17\n",
      "19\n",
      "21\n",
      "23\n",
      "25\n",
      "27\n",
      "29\n",
      "31\n"
     ]
    }
   ],
   "source": [
    "for i in range(1,32,2):# (edbteda,enteha+1, step)\n",
    "    print(i)"
   ]
  },
  {
   "cell_type": "code",
   "execution_count": 21,
   "id": "3b8a3a12",
   "metadata": {},
   "outputs": [
    {
     "name": "stdout",
     "output_type": "stream",
     "text": [
      "Please enter the number that you want to factoreil:5\n",
      "120\n"
     ]
    }
   ],
   "source": [
    "number=int(input(\"Please enter the number that you want to factoreil:\"))\n",
    "fact=1\n",
    "for i in range(1,number+1):\n",
    "    fact=fact*i\n",
    "print(fact)"
   ]
  },
  {
   "cell_type": "markdown",
   "id": "6ef33603",
   "metadata": {},
   "source": [
    "## while"
   ]
  },
  {
   "cell_type": "code",
   "execution_count": 22,
   "id": "35087cc5",
   "metadata": {},
   "outputs": [
    {
     "name": "stdout",
     "output_type": "stream",
     "text": [
      "1\n",
      "2\n",
      "3\n",
      "4\n",
      "5\n",
      "6\n",
      "7\n",
      "8\n",
      "9\n",
      "10\n",
      "11\n",
      "12\n",
      "13\n",
      "14\n",
      "15\n",
      "16\n",
      "17\n",
      "18\n",
      "19\n"
     ]
    }
   ],
   "source": [
    "i=1\n",
    "while i<20:\n",
    "    print(i)\n",
    "    i=i+1"
   ]
  },
  {
   "cell_type": "code",
   "execution_count": 5,
   "id": "3b4ded20",
   "metadata": {},
   "outputs": [
    {
     "name": "stdout",
     "output_type": "stream",
     "text": [
      "Please enter number of inputs:3\n",
      "Please enter your score:20\n",
      "Please enter your score:19\n",
      "Please enter your score:18\n",
      "average: 19.0\n"
     ]
    }
   ],
   "source": [
    "i=0\n",
    "score2=0\n",
    "number=int(input(\"Please enter number of inputs:\"))\n",
    "while i<number:\n",
    "    score=float(input(\"Please enter your score:\"))\n",
    "    score2=score2+score\n",
    "    average=score2/number\n",
    "    i=i+1\n",
    "print(\"average:\",average)"
   ]
  },
  {
   "cell_type": "code",
   "execution_count": 6,
   "id": "35fae1f8",
   "metadata": {},
   "outputs": [
    {
     "name": "stdout",
     "output_type": "stream",
     "text": [
      "Please enter the number:6\n",
      "720\n"
     ]
    }
   ],
   "source": [
    "i=1\n",
    "fact=1\n",
    "number=int(input(\"Please enter the number:\"))\n",
    "while(i<number+1):\n",
    "    fact=fact*i\n",
    "    i=i+1\n",
    "print(fact)"
   ]
  },
  {
   "cell_type": "markdown",
   "id": "dcfed14b",
   "metadata": {},
   "source": [
    "# -------------------------------------------------------------------------------------------------------"
   ]
  },
  {
   "cell_type": "markdown",
   "id": "ceff2ab9",
   "metadata": {},
   "source": [
    "# break==> kharej shodan az halghe zamani ke shoma bekhahid"
   ]
  },
  {
   "cell_type": "code",
   "execution_count": 7,
   "id": "74444e51",
   "metadata": {},
   "outputs": [
    {
     "name": "stdout",
     "output_type": "stream",
     "text": [
      "7\n"
     ]
    }
   ],
   "source": [
    "for i in range(1,30):\n",
    "    if i%7==0:\n",
    "        print(i)\n",
    "        break"
   ]
  },
  {
   "cell_type": "code",
   "execution_count": 9,
   "id": "d1f20c7e",
   "metadata": {},
   "outputs": [
    {
     "name": "stdout",
     "output_type": "stream",
     "text": [
      "1\n",
      "2\n",
      "3\n",
      "4\n",
      "enough\n"
     ]
    }
   ],
   "source": [
    "for i in range(1,40):\n",
    "    print(i)\n",
    "    if i==4:\n",
    "        print(\"enough\")\n",
    "        break"
   ]
  },
  {
   "cell_type": "markdown",
   "id": "b24cfa43",
   "metadata": {},
   "source": [
    "# -------------------------------------------------------------------------------------------------------"
   ]
  },
  {
   "cell_type": "markdown",
   "id": "bd5607d3",
   "metadata": {},
   "source": [
    "# continue==> kharej shod az halghe va bargasht be halghe"
   ]
  },
  {
   "cell_type": "code",
   "execution_count": 10,
   "id": "09bb2ef5",
   "metadata": {},
   "outputs": [
    {
     "name": "stdout",
     "output_type": "stream",
     "text": [
      "7\n",
      "14\n",
      "21\n",
      "28\n"
     ]
    }
   ],
   "source": [
    "for i in range(1,30):\n",
    "    if i%7==0:\n",
    "        print(i)\n",
    "        continue"
   ]
  },
  {
   "cell_type": "markdown",
   "id": "7c4b0e3e",
   "metadata": {},
   "source": [
    "# -------------------------------------------------------------------------------------------------------"
   ]
  },
  {
   "cell_type": "markdown",
   "id": "e5fce2d3",
   "metadata": {},
   "source": [
    "#  and===> hameye shorot bayad dorost bashand ta ejra shavand"
   ]
  },
  {
   "cell_type": "code",
   "execution_count": 11,
   "id": "c0c6f4fd",
   "metadata": {},
   "outputs": [
    {
     "name": "stdout",
     "output_type": "stream",
     "text": [
      "False\n"
     ]
    }
   ],
   "source": [
    "a=16\n",
    "if a>10 and a<15:\n",
    "    print(\"true\")\n",
    "else:\n",
    "    print(\"False\")"
   ]
  },
  {
   "cell_type": "markdown",
   "id": "d4bfb80f",
   "metadata": {},
   "source": [
    "# or ==> kafie ke yek tarafe shorot drost bashad ta ejra shavad"
   ]
  },
  {
   "cell_type": "code",
   "execution_count": 12,
   "id": "0ebad691",
   "metadata": {},
   "outputs": [
    {
     "name": "stdout",
     "output_type": "stream",
     "text": [
      "true\n"
     ]
    }
   ],
   "source": [
    "a=16\n",
    "if a>10 or a<15:\n",
    "    print(\"true\")\n",
    "else:\n",
    "    print(\"False\")"
   ]
  },
  {
   "cell_type": "code",
   "execution_count": 13,
   "id": "8c91f6cc",
   "metadata": {},
   "outputs": [
    {
     "name": "stdout",
     "output_type": "stream",
     "text": [
      "1\n",
      "2\n",
      "3\n",
      "4\n",
      "5\n",
      "6\n",
      "7\n",
      "8\n",
      "9\n",
      "10\n",
      "11\n",
      "12\n",
      "16\n",
      "17\n",
      "18\n",
      "19\n",
      "20\n"
     ]
    }
   ],
   "source": [
    "for i in range(1,21):\n",
    "    \n",
    "    if i>12 and i<16:\n",
    "        continue\n",
    "    print(i)"
   ]
  },
  {
   "cell_type": "code",
   "execution_count": 14,
   "id": "b3f4b73f",
   "metadata": {},
   "outputs": [
    {
     "name": "stdout",
     "output_type": "stream",
     "text": [
      "1\n",
      "2\n",
      "3\n",
      "4\n",
      "5\n",
      "6\n",
      "7\n",
      "8\n",
      "9\n",
      "10\n",
      "11\n",
      "12\n"
     ]
    }
   ],
   "source": [
    "for i in range(1,21):\n",
    "    \n",
    "    if i>12 and i<16:\n",
    "        break\n",
    "    print(i)"
   ]
  },
  {
   "cell_type": "markdown",
   "id": "500aa5ca",
   "metadata": {},
   "source": [
    "# -------------------------------------------------------------------------------------------------------"
   ]
  },
  {
   "cell_type": "markdown",
   "id": "4da4c5eb",
   "metadata": {},
   "source": [
    "# Data strutures"
   ]
  },
  {
   "cell_type": "code",
   "execution_count": null,
   "id": "41eb3b26",
   "metadata": {},
   "outputs": [],
   "source": [
    "#1 string\n",
    "#2-list\n",
    "#3-dictionary\n",
    "#4-tuple\n",
    "#5-set"
   ]
  },
  {
   "cell_type": "markdown",
   "id": "85a68ae1",
   "metadata": {},
   "source": [
    "# String"
   ]
  },
  {
   "cell_type": "code",
   "execution_count": 20,
   "id": "ca22f8b6",
   "metadata": {},
   "outputs": [
    {
     "name": "stdout",
     "output_type": "stream",
     "text": [
      "a m i r\n"
     ]
    }
   ],
   "source": [
    "a=\"a\"\n",
    "b=\"m\"\n",
    "c=\"i\"\n",
    "d=\"r\"\n",
    "print(a,b,c,d)"
   ]
  },
  {
   "cell_type": "code",
   "execution_count": 21,
   "id": "3a316a13",
   "metadata": {},
   "outputs": [
    {
     "name": "stdout",
     "output_type": "stream",
     "text": [
      "ali daiy\n"
     ]
    }
   ],
   "source": [
    "name=\"ali daiy\"\n",
    "print(name)"
   ]
  },
  {
   "cell_type": "markdown",
   "id": "89038c8e",
   "metadata": {},
   "source": [
    "### length"
   ]
  },
  {
   "cell_type": "code",
   "execution_count": 22,
   "id": "f534a1cf",
   "metadata": {},
   "outputs": [
    {
     "name": "stdout",
     "output_type": "stream",
     "text": [
      "Please enter one name:amirali\n",
      "7\n"
     ]
    }
   ],
   "source": [
    "name=input(\"Please enter one name:\")\n",
    "print(len(name))"
   ]
  },
  {
   "cell_type": "markdown",
   "id": "c0e0e6fd",
   "metadata": {},
   "source": [
    "### Accessing"
   ]
  },
  {
   "cell_type": "code",
   "execution_count": 23,
   "id": "cee01a55",
   "metadata": {},
   "outputs": [
    {
     "name": "stdout",
     "output_type": "stream",
     "text": [
      "a\n",
      "l\n",
      "i\n"
     ]
    }
   ],
   "source": [
    "a=\"ali\"\n",
    "print(a[0])\n",
    "print(a[1])\n",
    "print(a[2])"
   ]
  },
  {
   "cell_type": "code",
   "execution_count": 24,
   "id": "c3de258b",
   "metadata": {},
   "outputs": [
    {
     "name": "stdout",
     "output_type": "stream",
     "text": [
      "i\n",
      "l\n"
     ]
    }
   ],
   "source": [
    "name=\"amir ali\"\n",
    "print(name[-1])\n",
    "print(name[-2])"
   ]
  },
  {
   "cell_type": "markdown",
   "id": "51386ddf",
   "metadata": {},
   "source": [
    "### Slicing"
   ]
  },
  {
   "cell_type": "code",
   "execution_count": 25,
   "id": "aa071d60",
   "metadata": {},
   "outputs": [
    {
     "name": "stdout",
     "output_type": "stream",
     "text": [
      "amir\n"
     ]
    }
   ],
   "source": [
    "name=\"amir hosein\"\n",
    "print(name[0:4])"
   ]
  },
  {
   "cell_type": "code",
   "execution_count": 26,
   "id": "7801b7e1",
   "metadata": {},
   "outputs": [
    {
     "name": "stdout",
     "output_type": "stream",
     "text": [
      "hosein kjndcjsnksdcsdmncksd\n"
     ]
    }
   ],
   "source": [
    "name=\"amir hosein kjndcjsnksdcsdmncksd\"\n",
    "print(name[5:])"
   ]
  },
  {
   "cell_type": "code",
   "execution_count": 28,
   "id": "675c86d9",
   "metadata": {},
   "outputs": [
    {
     "name": "stdout",
     "output_type": "stream",
     "text": [
      "i kheir\n"
     ]
    }
   ],
   "source": [
    "name=\"ali kheirabi\"\n",
    "print(name[2:-3])"
   ]
  },
  {
   "cell_type": "markdown",
   "id": "03a7c7d9",
   "metadata": {},
   "source": [
    "### Methods"
   ]
  },
  {
   "cell_type": "code",
   "execution_count": 29,
   "id": "9a420050",
   "metadata": {},
   "outputs": [
    {
     "name": "stdout",
     "output_type": "stream",
     "text": [
      "IRAN\n"
     ]
    }
   ],
   "source": [
    "#upper\n",
    "a=\"iran\"\n",
    "print(a.upper())"
   ]
  },
  {
   "cell_type": "code",
   "execution_count": 30,
   "id": "3d263787",
   "metadata": {},
   "outputs": [
    {
     "name": "stdout",
     "output_type": "stream",
     "text": [
      "iran\n"
     ]
    }
   ],
   "source": [
    "#lower\n",
    "a=\"iran\"\n",
    "print(a.lower())"
   ]
  },
  {
   "cell_type": "code",
   "execution_count": 31,
   "id": "f59864bb",
   "metadata": {},
   "outputs": [
    {
     "name": "stdout",
     "output_type": "stream",
     "text": [
      "I love Java programming.\n"
     ]
    }
   ],
   "source": [
    "#replace\n",
    "text = \"I love Python programming.\"\n",
    "result = text.replace(\"Python\", \"Java\")\n",
    "print(result)  "
   ]
  },
  {
   "cell_type": "code",
   "execution_count": 32,
   "id": "7dce4198",
   "metadata": {},
   "outputs": [
    {
     "name": "stdout",
     "output_type": "stream",
     "text": [
      "['apple', 'banana', 'cherry']\n"
     ]
    }
   ],
   "source": [
    "#split\n",
    "text = \"apple,banana,cherry\"\n",
    "result = text.split(\",\")\n",
    "print(result) "
   ]
  },
  {
   "cell_type": "markdown",
   "id": "f9cf6da2",
   "metadata": {},
   "source": [
    "# -------------------------------------------------------------------------------------------------------"
   ]
  },
  {
   "cell_type": "markdown",
   "id": "fdd2a54a",
   "metadata": {},
   "source": [
    "# Lists"
   ]
  },
  {
   "cell_type": "code",
   "execution_count": 33,
   "id": "ea5abe3a",
   "metadata": {},
   "outputs": [
    {
     "name": "stdout",
     "output_type": "stream",
     "text": [
      "[1, 2, 3, 4, 5, 6, 7, 8]\n",
      "['ali', 'mohsen', 'sara', 'dara']\n",
      "[12, 12.5, -129, 'ali', 'a', [1, 2, 3]]\n"
     ]
    }
   ],
   "source": [
    "numbers=[1,2,3,4,5,6,7,8]\n",
    "names=[\"ali\",\"mohsen\",\"sara\",\"dara\"]\n",
    "mixed=[12,12.5,-129,\"ali\",\"a\",[1,2,3]]\n",
    "print(numbers)\n",
    "print(names)\n",
    "print(mixed)"
   ]
  },
  {
   "cell_type": "markdown",
   "id": "d93a0171",
   "metadata": {},
   "source": [
    "### accessing elements"
   ]
  },
  {
   "cell_type": "code",
   "execution_count": 34,
   "id": "f41a6c57",
   "metadata": {},
   "outputs": [
    {
     "name": "stdout",
     "output_type": "stream",
     "text": [
      "mohsen\n",
      "['mohsen', 'sara', 'dara']\n",
      "['ali', 'mohsen', 'sara']\n"
     ]
    }
   ],
   "source": [
    "names=[\"ali\",\"mohsen\",\"sara\",\"dara\"]\n",
    "print(names[1])\n",
    "print(names[1:])\n",
    "print(names[:-1])"
   ]
  },
  {
   "cell_type": "markdown",
   "id": "514daa63",
   "metadata": {},
   "source": [
    "### Methods"
   ]
  },
  {
   "cell_type": "code",
   "execution_count": 35,
   "id": "81f8aae6",
   "metadata": {},
   "outputs": [
    {
     "name": "stdout",
     "output_type": "stream",
     "text": [
      "[1, 2, 3, 4, 5, 6, 7, 8, 9, 10]\n"
     ]
    }
   ],
   "source": [
    "#concatentation\n",
    "numbers1=[1,2,3,4,5]\n",
    "numbers2=[6,7,8,9,10]\n",
    "print(numbers1+numbers2)"
   ]
  },
  {
   "cell_type": "markdown",
   "id": "5500b57a",
   "metadata": {},
   "source": [
    "# append\n",
    "numbers=[10,20,30,40,50]\n",
    "numbers.append(60)\n",
    "print(numbers)"
   ]
  },
  {
   "cell_type": "code",
   "execution_count": 38,
   "id": "1f2e3702",
   "metadata": {},
   "outputs": [
    {
     "name": "stdout",
     "output_type": "stream",
     "text": [
      "['BMW', 'BNZ', 'Ferrari', 'FORD']\n"
     ]
    }
   ],
   "source": [
    "#insert\n",
    "cars=[\"BMW\",\"BNZ\",\"FORD\"]\n",
    "cars.insert(2,\"Ferrari\")\n",
    "print(cars)"
   ]
  },
  {
   "cell_type": "code",
   "execution_count": 39,
   "id": "028e1dfc",
   "metadata": {},
   "outputs": [
    {
     "name": "stdout",
     "output_type": "stream",
     "text": [
      "['BMW', 'FORD']\n"
     ]
    }
   ],
   "source": [
    "cars=[\"BMW\",\"BNZ\",\"FORD\"]\n",
    "cars.remove(\"BNZ\")\n",
    "print(cars)"
   ]
  },
  {
   "cell_type": "markdown",
   "id": "a09692c8",
   "metadata": {},
   "source": [
    "# -------------------------------------------------------------------------------------------------------"
   ]
  },
  {
   "cell_type": "markdown",
   "id": "04a5585b",
   "metadata": {},
   "source": [
    "# Dictionaries"
   ]
  },
  {
   "cell_type": "code",
   "execution_count": 40,
   "id": "b266dfec",
   "metadata": {},
   "outputs": [
    {
     "name": "stdout",
     "output_type": "stream",
     "text": [
      "{'model1': 'BMW', 'Model2': 'Benz'}\n"
     ]
    }
   ],
   "source": [
    "cars={\"model1\":\"BMW\",\"Model2\":\"Benz\"}\n",
    "print(cars)"
   ]
  },
  {
   "cell_type": "code",
   "execution_count": null,
   "id": "948b5598",
   "metadata": {},
   "outputs": [],
   "source": [
    "brand={\"name\":\"Bmw\",\n",
    "      \"price\":200,\n",
    "      \"date\":2010\n",
    "      }\n",
    "print(brand)"
   ]
  },
  {
   "cell_type": "markdown",
   "id": "f4eef400",
   "metadata": {},
   "source": [
    "### Accessing"
   ]
  },
  {
   "cell_type": "code",
   "execution_count": 42,
   "id": "78c71359",
   "metadata": {},
   "outputs": [
    {
     "name": "stdout",
     "output_type": "stream",
     "text": [
      "orange\n"
     ]
    }
   ],
   "source": [
    "fruits={\"f1\":\"orange\",\"f2\":\"apple\",\"f3\":\"banana\"}\n",
    "print(fruits[\"f1\"])"
   ]
  },
  {
   "cell_type": "markdown",
   "id": "ef219a24",
   "metadata": {},
   "source": [
    "### changing elements"
   ]
  },
  {
   "cell_type": "code",
   "execution_count": 43,
   "id": "a972ca78",
   "metadata": {},
   "outputs": [
    {
     "name": "stdout",
     "output_type": "stream",
     "text": [
      "{'f1': 'orange', 'f2': 'grape', 'f3': 'banana'}\n"
     ]
    }
   ],
   "source": [
    "fruits={\"f1\":\"orange\",\"f2\":\"apple\",\"f3\":\"banana\"}\n",
    "fruits['f2']=\"grape\"\n",
    "print(fruits)"
   ]
  },
  {
   "cell_type": "markdown",
   "id": "a912b48e",
   "metadata": {},
   "source": [
    "### Methods"
   ]
  },
  {
   "cell_type": "code",
   "execution_count": 44,
   "id": "bc0cb5c3",
   "metadata": {},
   "outputs": [
    {
     "name": "stdout",
     "output_type": "stream",
     "text": [
      "{'name': 'peraid', 'Company': 'Irankhodro', 'year': 2022}\n"
     ]
    }
   ],
   "source": [
    "car={\n",
    "    \"name\":\"peraid\",\n",
    "    \"Company\":\"Irankhodro\",\n",
    "    \"year\":2022\n",
    "}\n",
    "print(car)"
   ]
  },
  {
   "cell_type": "code",
   "execution_count": 45,
   "id": "7cd9d203",
   "metadata": {},
   "outputs": [
    {
     "name": "stdout",
     "output_type": "stream",
     "text": [
      "peraid\n"
     ]
    }
   ],
   "source": [
    "#get\n",
    "car={\n",
    "    \"name\":\"peraid\",\n",
    "    \"Company\":\"Irankhodro\",\n",
    "    \"year\":2022\n",
    "}\n",
    "print(car.get(\"name\"))"
   ]
  },
  {
   "cell_type": "code",
   "execution_count": 46,
   "id": "6588a321",
   "metadata": {},
   "outputs": [
    {
     "name": "stdout",
     "output_type": "stream",
     "text": [
      "dict_keys(['n1', 'n2', 'n3'])\n"
     ]
    }
   ],
   "source": [
    "#keys\n",
    "food={\"n1\":\"Pizza\",\"n2\":\"sandwich\",\"n3\":\"kebab\"}\n",
    "print(food.keys())"
   ]
  },
  {
   "cell_type": "code",
   "execution_count": 47,
   "id": "52ffe409",
   "metadata": {},
   "outputs": [
    {
     "name": "stdout",
     "output_type": "stream",
     "text": [
      "dict_values(['Pizza', 'sandwich', 'kebab'])\n"
     ]
    }
   ],
   "source": [
    "# values\n",
    "food={\"n1\":\"Pizza\",\"n2\":\"sandwich\",\"n3\":\"kebab\"}\n",
    "print(food.values())"
   ]
  },
  {
   "cell_type": "markdown",
   "id": "5f4bccd7",
   "metadata": {},
   "source": [
    "# -------------------------------------------------------------------------------------------------------"
   ]
  },
  {
   "cell_type": "markdown",
   "id": "2e602aac",
   "metadata": {},
   "source": [
    "# Set"
   ]
  },
  {
   "cell_type": "code",
   "execution_count": 58,
   "id": "aaf5211a",
   "metadata": {},
   "outputs": [
    {
     "name": "stdout",
     "output_type": "stream",
     "text": [
      "{'banana', 'apple', 'orange'}\n",
      "<class 'set'>\n"
     ]
    }
   ],
   "source": [
    "fruits={\"apple\",\"banana\",\"orange\"}\n",
    "print(fruits)\n",
    "print(type(fruits))"
   ]
  },
  {
   "cell_type": "code",
   "execution_count": 59,
   "id": "f6f10775",
   "metadata": {},
   "outputs": [
    {
     "name": "stdout",
     "output_type": "stream",
     "text": [
      "{'ford', 'benz', 'bmw'}\n"
     ]
    }
   ],
   "source": [
    "companies={\"benz\",\"benz\",\"bmw\",\"ford\",\"bmw\"}\n",
    "print(companies)"
   ]
  },
  {
   "cell_type": "code",
   "execution_count": 60,
   "id": "da54587e",
   "metadata": {},
   "outputs": [
    {
     "name": "stdout",
     "output_type": "stream",
     "text": [
      "{1, 2, 3, 4}\n"
     ]
    }
   ],
   "source": [
    "numbers={1,2,3,4,1,2,3,4}\n",
    "print(numbers)"
   ]
  },
  {
   "cell_type": "markdown",
   "id": "044b61f5",
   "metadata": {},
   "source": [
    "# -------------------------------------------------------------------------------------------------------"
   ]
  },
  {
   "cell_type": "markdown",
   "id": "b6651ce4",
   "metadata": {},
   "source": [
    "# Tuple"
   ]
  },
  {
   "cell_type": "markdown",
   "id": "ac67e4cb",
   "metadata": {},
   "source": [
    "# tuple==>haman list ast ama:\n",
    "1) ba parantez sakhte mishavad\n",
    "2) ozvhaye an ghabele taghir nistan\n",
    "3) 2ta method bishtar nadarad"
   ]
  },
  {
   "cell_type": "code",
   "execution_count": 56,
   "id": "e880ab80",
   "metadata": {},
   "outputs": [
    {
     "name": "stdout",
     "output_type": "stream",
     "text": [
      "('red', 'blue', 'yellow', 'green', 'black')\n"
     ]
    }
   ],
   "source": [
    "colors=(\"red\",\"blue\",\"yellow\",\"green\",\"black\")\n",
    "print(colors)"
   ]
  },
  {
   "cell_type": "code",
   "execution_count": 57,
   "id": "2a2023a8",
   "metadata": {},
   "outputs": [
    {
     "name": "stdout",
     "output_type": "stream",
     "text": [
      "yellow\n",
      "('red', 'blue', 'yellow')\n"
     ]
    }
   ],
   "source": [
    "colors=(\"red\",\"blue\",\"yellow\",\"green\",\"black\")\n",
    "print(colors[2])\n",
    "print(colors[0:3])"
   ]
  },
  {
   "cell_type": "markdown",
   "id": "c62a0be3",
   "metadata": {},
   "source": [
    "# -------------------------------------------------------------------------------------------------------"
   ]
  },
  {
   "cell_type": "markdown",
   "id": "2ff7eae5",
   "metadata": {},
   "source": [
    "# data structures"
   ]
  },
  {
   "cell_type": "markdown",
   "id": "1986669f",
   "metadata": {},
   "source": [
    "1.reshte(strings)\n",
    "2.list\n",
    "3.tuple\n",
    "4.dictionry\n",
    "5.set"
   ]
  },
  {
   "cell_type": "code",
   "execution_count": 61,
   "id": "f6ff3197",
   "metadata": {},
   "outputs": [
    {
     "name": "stdout",
     "output_type": "stream",
     "text": [
      "ali <class 'str'>\n",
      "\n",
      "[12, 10, 'a', 'ali', ['bmw', 'benz', 10], {'m1': 10, 'm2': 'amir'}] <class 'list'>\n",
      "\n",
      "(1, 2, 3, [10, 20, 30], 'ali') <class 'tuple'>\n",
      "\n",
      "{'n1': 1, 'n2': 'amir', 'n3': [10, 20, 'ali']} <class 'dict'>\n",
      "\n",
      "{1, 2, 3, 4, 'amir', 'ali'} <class 'set'>\n",
      "\n"
     ]
    }
   ],
   "source": [
    "# 1.string\n",
    "reshte=\"ali\"\n",
    "print(reshte,type(reshte))\n",
    "print()\n",
    "# 2.list\n",
    "lst=[12,10,\"a\",\"ali\",[\"bmw\",\"benz\",10],{\"m1\":10,\"m2\":\"amir\"}]\n",
    "print(lst,type(lst))\n",
    "print()\n",
    "\n",
    "#3.tuple\n",
    "tpl=(1,2,3,[10,20,30],\"ali\")\n",
    "print(tpl,type(tpl))\n",
    "print()\n",
    "\n",
    "#4.dictionary\n",
    "diction={\"n1\":1,\"n2\":\"amir\",\"n3\":[10,20,\"ali\"]}\n",
    "print(diction,type(diction))\n",
    "print()\n",
    "\n",
    "#5.set\n",
    "seti={1,2,3,4,1,2,3,4,\"ali\",\"amir\",\"ali\"}\n",
    "print(seti,type(seti))\n",
    "print()"
   ]
  },
  {
   "cell_type": "code",
   "execution_count": null,
   "id": "e4978cc1",
   "metadata": {},
   "outputs": [],
   "source": []
  },
  {
   "cell_type": "markdown",
   "id": "f437a7cf",
   "metadata": {},
   "source": [
    "# -------------------------------------------------------------------------------------------------------"
   ]
  },
  {
   "cell_type": "markdown",
   "id": "d2bb1361",
   "metadata": {},
   "source": [
    "# Functions"
   ]
  },
  {
   "cell_type": "markdown",
   "id": "045f7800",
   "metadata": {},
   "source": [
    "### Function with No Arguments"
   ]
  },
  {
   "cell_type": "code",
   "execution_count": 15,
   "id": "0814af59",
   "metadata": {},
   "outputs": [
    {
     "name": "stdout",
     "output_type": "stream",
     "text": [
      "Hello, welcome to Python!\n"
     ]
    }
   ],
   "source": [
    "def greet():\n",
    "    print(\"Hello, welcome to Python!\")\n",
    "greet()\n"
   ]
  },
  {
   "cell_type": "markdown",
   "id": "07ca3a3f",
   "metadata": {},
   "source": [
    "### Function with Arguments"
   ]
  },
  {
   "cell_type": "code",
   "execution_count": 16,
   "id": "d0c41b54",
   "metadata": {},
   "outputs": [
    {
     "name": "stdout",
     "output_type": "stream",
     "text": [
      "The sum is: 8\n"
     ]
    }
   ],
   "source": [
    "def add_numbers(a, b):\n",
    "    return a + b\n",
    "result = add_numbers(5, 3)\n",
    "print(f\"The sum is: {result}\")"
   ]
  },
  {
   "cell_type": "markdown",
   "id": "c8e8f202",
   "metadata": {},
   "source": [
    "### Function with Default Arguments"
   ]
  },
  {
   "cell_type": "code",
   "execution_count": 18,
   "id": "38c4c443",
   "metadata": {},
   "outputs": [
    {
     "name": "stdout",
     "output_type": "stream",
     "text": [
      "Hello, ali!\n",
      "Hello, Guest!\n"
     ]
    }
   ],
   "source": [
    "def greet_user(name=\"Guest\"):\n",
    "    print(f\"Hello, {name}!\")\n",
    "greet_user(\"ali\")\n",
    "greet_user()"
   ]
  },
  {
   "cell_type": "markdown",
   "id": "d02852df",
   "metadata": {},
   "source": [
    "### Function with input Arguments"
   ]
  },
  {
   "cell_type": "code",
   "execution_count": 19,
   "id": "bac2809a",
   "metadata": {},
   "outputs": [
    {
     "name": "stdout",
     "output_type": "stream",
     "text": [
      "Enter your name: sara\n",
      "Hello, sara! Welcome to Python!\n"
     ]
    }
   ],
   "source": [
    "def greet_user():\n",
    "    name = input(\"Enter your name: \")\n",
    "    print(f\"Hello, {name}! Welcome to Python!\")\n",
    "\n",
    "greet_user()\n"
   ]
  },
  {
   "cell_type": "markdown",
   "id": "5f79ef52",
   "metadata": {},
   "source": [
    "# -------------------------------------------------------------------------------------------------------"
   ]
  },
  {
   "cell_type": "markdown",
   "id": "469a4fd0",
   "metadata": {},
   "source": [
    "# Library"
   ]
  },
  {
   "cell_type": "code",
   "execution_count": 48,
   "id": "efad6388",
   "metadata": {},
   "outputs": [],
   "source": [
    "import math"
   ]
  },
  {
   "cell_type": "code",
   "execution_count": 49,
   "id": "560f28e3",
   "metadata": {},
   "outputs": [
    {
     "data": {
      "text/plain": [
       "8.0"
      ]
     },
     "execution_count": 49,
     "metadata": {},
     "output_type": "execute_result"
    }
   ],
   "source": [
    "math.pow(2,3)"
   ]
  },
  {
   "cell_type": "code",
   "execution_count": 50,
   "id": "32aea299",
   "metadata": {},
   "outputs": [
    {
     "data": {
      "text/plain": [
       "5.0"
      ]
     },
     "execution_count": 50,
     "metadata": {},
     "output_type": "execute_result"
    }
   ],
   "source": [
    "math.sqrt(25)"
   ]
  },
  {
   "cell_type": "code",
   "execution_count": 51,
   "id": "e043486c",
   "metadata": {},
   "outputs": [
    {
     "data": {
      "text/plain": [
       "0.0"
      ]
     },
     "execution_count": 51,
     "metadata": {},
     "output_type": "execute_result"
    }
   ],
   "source": [
    "math.sin(0)"
   ]
  },
  {
   "cell_type": "code",
   "execution_count": 52,
   "id": "dc9d9ac2",
   "metadata": {},
   "outputs": [
    {
     "data": {
      "text/plain": [
       "120"
      ]
     },
     "execution_count": 52,
     "metadata": {},
     "output_type": "execute_result"
    }
   ],
   "source": [
    "math.factorial(5)"
   ]
  },
  {
   "cell_type": "code",
   "execution_count": 53,
   "id": "5fc5a057",
   "metadata": {},
   "outputs": [
    {
     "name": "stdout",
     "output_type": "stream",
     "text": [
      "Enter the number: 20\n",
      "Wrong, guess the lower number \n",
      "Enter the number: 10\n",
      "Wrong, guess the higher number \n",
      "Enter the number: 15\n",
      "Wrong, guess the lower number \n",
      "Enter the number: 13\n",
      "Wrong, guess the lower number \n",
      "Enter the number: 11\n",
      "Wrong, guess the higher number \n",
      "Enter the number: 12\n",
      "correct, good job\n"
     ]
    }
   ],
   "source": [
    "import numpy as np\n",
    "random=np.random.randint(1,100)\n",
    "flat=1\n",
    "while flat==1:\n",
    "    num=int(input(\"Enter the number: \"))\n",
    "#print(\"the random number is \",random)\n",
    "    if num>random:\n",
    "        print(\"Wrong, guess the lower number \")\n",
    "    elif  num<random:\n",
    "        print(\"Wrong, guess the higher number \")\n",
    "    else:\n",
    "        flat=0\n",
    "print(\"correct, good job\")"
   ]
  },
  {
   "cell_type": "markdown",
   "id": "0978a094",
   "metadata": {},
   "source": [
    "# -------------------------------------------------------------------------------------------------------"
   ]
  },
  {
   "cell_type": "markdown",
   "id": "9261d890",
   "metadata": {},
   "source": [
    "# Pip install"
   ]
  },
  {
   "cell_type": "code",
   "execution_count": 54,
   "id": "1cc7b37f",
   "metadata": {},
   "outputs": [
    {
     "name": "stdout",
     "output_type": "stream",
     "text": [
      "Collecting pyttsx3\n",
      "  Obtaining dependency information for pyttsx3 from https://files.pythonhosted.org/packages/94/df/e1584757c736c4fba09a3fb4f22fe625cc3367b06c6ece221e4b8c1e3023/pyttsx3-2.98-py3-none-any.whl.metadata\n",
      "  Downloading pyttsx3-2.98-py3-none-any.whl.metadata (3.8 kB)\n",
      "Collecting comtypes (from pyttsx3)\n",
      "  Obtaining dependency information for comtypes from https://files.pythonhosted.org/packages/af/65/8f28210e8c7fa6ee03cb36e9b49aee71fe1f8409e74641206c920c6bd4c8/comtypes-1.4.9-py3-none-any.whl.metadata\n",
      "  Downloading comtypes-1.4.9-py3-none-any.whl.metadata (7.1 kB)\n",
      "Collecting pypiwin32 (from pyttsx3)\n",
      "  Obtaining dependency information for pypiwin32 from https://files.pythonhosted.org/packages/d0/1b/2f292bbd742e369a100c91faa0483172cd91a1a422a6692055ac920946c5/pypiwin32-223-py3-none-any.whl.metadata\n",
      "  Downloading pypiwin32-223-py3-none-any.whl.metadata (236 bytes)\n",
      "Requirement already satisfied: pywin32 in c:\\users\\asus\\anaconda3\\lib\\site-packages (from pyttsx3) (305.1)\n",
      "Downloading pyttsx3-2.98-py3-none-any.whl (34 kB)\n",
      "Downloading comtypes-1.4.9-py3-none-any.whl (234 kB)\n",
      "   ---------------------------------------- 0.0/234.8 kB ? eta -:--:--\n",
      "   ----- ---------------------------------- 30.7/234.8 kB 1.4 MB/s eta 0:00:01\n",
      "   ----- ---------------------------------- 30.7/234.8 kB 1.4 MB/s eta 0:00:01\n",
      "   -------- ------------------------------ 51.2/234.8 kB 375.8 kB/s eta 0:00:01\n",
      "   --------------------- ---------------- 133.1/234.8 kB 877.7 kB/s eta 0:00:01\n",
      "   ------------------------ ------------- 153.6/234.8 kB 766.6 kB/s eta 0:00:01\n",
      "   ---------------------------------------- 234.8/234.8 kB 1.0 MB/s eta 0:00:00\n",
      "Using cached pypiwin32-223-py3-none-any.whl (1.7 kB)\n",
      "Installing collected packages: pypiwin32, comtypes, pyttsx3\n",
      "Successfully installed comtypes-1.4.9 pypiwin32-223 pyttsx3-2.98\n",
      "Note: you may need to restart the kernel to use updated packages.\n"
     ]
    }
   ],
   "source": [
    "pip install pyttsx3"
   ]
  },
  {
   "cell_type": "code",
   "execution_count": 55,
   "id": "be460910",
   "metadata": {},
   "outputs": [],
   "source": [
    "import pyttsx3 as pyt\n",
    "tts=pyt.init()\n",
    "tts.say(\" I love python\")\n",
    "tts.runAndWait()"
   ]
  },
  {
   "cell_type": "code",
   "execution_count": null,
   "id": "b213b186",
   "metadata": {},
   "outputs": [],
   "source": []
  }
 ],
 "metadata": {
  "kernelspec": {
   "display_name": "Python 3 (ipykernel)",
   "language": "python",
   "name": "python3"
  },
  "language_info": {
   "codemirror_mode": {
    "name": "ipython",
    "version": 3
   },
   "file_extension": ".py",
   "mimetype": "text/x-python",
   "name": "python",
   "nbconvert_exporter": "python",
   "pygments_lexer": "ipython3",
   "version": "3.11.5"
  }
 },
 "nbformat": 4,
 "nbformat_minor": 5
}
