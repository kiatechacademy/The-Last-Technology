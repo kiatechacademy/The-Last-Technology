{
 "cells": [
  {
   "cell_type": "markdown",
   "id": "e2865b63",
   "metadata": {},
   "source": [
    "# sang kaghaz gheichi"
   ]
  },
  {
   "cell_type": "markdown",
   "id": "3d35e7c3",
   "metadata": {},
   "source": [
    "1.tedad user=2\n",
    "2.sharte barande shodan = har kas be adad 3 zodtar beresad\n",
    "3.halate haye har karbar:1.sang 2.gheichi 3.kaghaz\n",
    "4.halathaye barande shodan==>\n",
    "1) har 2 sang 2) har 2 gheichi 3) har 2 kaghaz===> baraye in halat etefaqe khasi nayoftad\n",
    "4) sang vs kaghaz 5) sang vs gheichi\n",
    "6) kaghaz vs sang 7) kaghaz vs gheichi\n",
    "8) gheichi vs sang 9)gheichi vs kaghaz"
   ]
  },
  {
   "cell_type": "markdown",
   "id": "70ce59ca",
   "metadata": {},
   "source": [
    "# nokte mohem ==> dar barname nevisi tamiz benivisid"
   ]
  },
  {
   "cell_type": "code",
   "execution_count": 2,
   "id": "3df5b9f3",
   "metadata": {},
   "outputs": [
    {
     "name": "stdout",
     "output_type": "stream",
     "text": [
      "player1: Lotfan az beine mavarede (sang, kaghaz, gheichi) entekhab  konid:sang\n",
      "player2: Lotfan az beine mavarede (sang, kaghaz, gheichi) entekhab  konid:sang\n",
      "player1: Lotfan az beine mavarede (sang, kaghaz, gheichi) entekhab  konid:sang\n",
      "player2: Lotfan az beine mavarede (sang, kaghaz, gheichi) entekhab  konid:kaghaz\n",
      "player1: Lotfan az beine mavarede (sang, kaghaz, gheichi) entekhab  konid:kaghaz\n",
      "player2: Lotfan az beine mavarede (sang, kaghaz, gheichi) entekhab  konid:kaghaz\n",
      "player1: Lotfan az beine mavarede (sang, kaghaz, gheichi) entekhab  konid:kaghaz\n",
      "player2: Lotfan az beine mavarede (sang, kaghaz, gheichi) entekhab  konid:gheichi\n",
      "player1: Lotfan az beine mavarede (sang, kaghaz, gheichi) entekhab  konid:gheichi\n",
      "player2: Lotfan az beine mavarede (sang, kaghaz, gheichi) entekhab  konid:kaghaz\n",
      "player1: Lotfan az beine mavarede (sang, kaghaz, gheichi) entekhab  konid:kaghaz\n",
      "player2: Lotfan az beine mavarede (sang, kaghaz, gheichi) entekhab  konid:kaghaz\n",
      "player1: Lotfan az beine mavarede (sang, kaghaz, gheichi) entekhab  konid:sang\n",
      "player2: Lotfan az beine mavarede (sang, kaghaz, gheichi) entekhab  konid:gheichi\n",
      "player1: Lotfan az beine mavarede (sang, kaghaz, gheichi) entekhab  konid:sang\n",
      "player2: Lotfan az beine mavarede (sang, kaghaz, gheichi) entekhab  konid:sang\n",
      "player1: Lotfan az beine mavarede (sang, kaghaz, gheichi) entekhab  konid:kaghaz\n",
      "player2: Lotfan az beine mavarede (sang, kaghaz, gheichi) entekhab  konid:gheichi\n",
      " emtiaze player 1 2 --- emtiaze player 2 3===> barande player2\n"
     ]
    }
   ],
   "source": [
    "# -------------emtiaz bandi---------------\n",
    "emtiaze1=0\n",
    "emtiaze2=0\n",
    "\n",
    "#------------halgheiy ke ta vaghti yek fard 3 nashode dar an baghi bemand-------------\n",
    "\n",
    "while emtiaze1<3 and emtiaze2<3:\n",
    "    player1=input(\"player1: Lotfan az beine mavarede (sang, kaghaz, gheichi) entekhab  konid:\") # vorodi az karbare 1\n",
    "    player2=input(\"player2: Lotfan az beine mavarede (sang, kaghaz, gheichi) entekhab  konid:\") # vorodi az karbar 2\n",
    " # shart haye barande shodan\n",
    "    if player1==\"sang\" and player2==\"kaghaz\":\n",
    "        emtiaze2=emtiaze2+1\n",
    "    elif player1==\"sang\" and player2==\"gheichi\":\n",
    "        emtiaze1=emtiaze1+1\n",
    "    elif player1==\"kaghaz\" and player2==\"sang\":\n",
    "        emriaze1=emtiaze1+1\n",
    "    elif player1==\"kaghaz\" and player2==\"gheichi\":\n",
    "        emtiaze2=emtiaze2+1\n",
    "    elif player1==\"gheichi\" and player2==\"sang\":\n",
    "        emtiaze2=emtiaze2+1\n",
    "    elif player1==\"gheichi\" and player2==\"kaghaz\":\n",
    "        emtiaze1=emtiaze1+1\n",
    "        \n",
    "        \n",
    "#----------- moshakhas kardan barande ba print----------\n",
    "if emtiaze1>emtiaze2:\n",
    "    print(f\" emtiaze player 1 :{emtiaze1} --- emtiaze player 2 {emtiaze2}===> barande player1\")\n",
    "else:\n",
    "    print(f\" emtiaze player 1 :{emtiaze1} --- emtiaze player 2 {emtiaze2}===> barande player2\")"
   ]
  },
  {
   "cell_type": "code",
   "execution_count": null,
   "id": "bd4b23c6",
   "metadata": {},
   "outputs": [],
   "source": []
  }
 ],
 "metadata": {
  "kernelspec": {
   "display_name": "Python 3 (ipykernel)",
   "language": "python",
   "name": "python3"
  },
  "language_info": {
   "codemirror_mode": {
    "name": "ipython",
    "version": 3
   },
   "file_extension": ".py",
   "mimetype": "text/x-python",
   "name": "python",
   "nbconvert_exporter": "python",
   "pygments_lexer": "ipython3",
   "version": "3.11.5"
  }
 },
 "nbformat": 4,
 "nbformat_minor": 5
}
