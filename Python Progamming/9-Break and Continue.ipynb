{
 "cells": [
  {
   "cell_type": "markdown",
   "id": "263d9a55",
   "metadata": {},
   "source": [
    "# Break==> baraye shekastane halghe morede estefade gharar migirad va kolan az halghe dar miaid"
   ]
  },
  {
   "cell_type": "markdown",
   "id": "c7c7728f",
   "metadata": {},
   "source": [
    "### Nokte==> mamoln break va continue hamrah ba shart ejra mishavand"
   ]
  },
  {
   "cell_type": "code",
   "execution_count": 2,
   "id": "56423582",
   "metadata": {},
   "outputs": [
    {
     "name": "stdout",
     "output_type": "stream",
     "text": [
      "1\n",
      "2\n",
      "3\n",
      "4\n",
      "5\n",
      "6\n",
      "7\n",
      "8\n",
      "9\n",
      "10\n",
      "11\n",
      "12\n",
      "13\n",
      "14\n",
      "15\n"
     ]
    }
   ],
   "source": [
    "for i in range(1,21):\n",
    "    print(i)\n",
    "    if i==15:\n",
    "        break"
   ]
  },
  {
   "cell_type": "code",
   "execution_count": 7,
   "id": "8e78f83c",
   "metadata": {},
   "outputs": [
    {
     "name": "stdout",
     "output_type": "stream",
     "text": [
      "Please enter your name:amir\n",
      "a\n",
      "m\n"
     ]
    }
   ],
   "source": [
    "name=input(\"Please enter your name:\")\n",
    "for i in name:\n",
    "    print(i)\n",
    "    if i==\"m\":\n",
    "        break"
   ]
  },
  {
   "cell_type": "code",
   "execution_count": 8,
   "id": "d0cd5474",
   "metadata": {},
   "outputs": [
    {
     "name": "stdout",
     "output_type": "stream",
     "text": [
      "Please enter your name:amir\n",
      "a\n"
     ]
    }
   ],
   "source": [
    "name=input(\"Please enter your name:\")\n",
    "for i in name:\n",
    "    if i==\"m\":\n",
    "        break\n",
    "    print(i)"
   ]
  },
  {
   "cell_type": "code",
   "execution_count": 5,
   "id": "f0e428b3",
   "metadata": {},
   "outputs": [
    {
     "name": "stdout",
     "output_type": "stream",
     "text": [
      "a  l  i  "
     ]
    }
   ],
   "source": [
    "for i in \"ali\":\n",
    "    print(i,end=\"  \")"
   ]
  },
  {
   "cell_type": "markdown",
   "id": "e8109159",
   "metadata": {},
   "source": [
    "# continue==> baraye shekastane halghe ast ama ta zamani ke shoma bekhahid az haghle kharej mishe va dobre barmigardad"
   ]
  },
  {
   "cell_type": "code",
   "execution_count": 10,
   "id": "0c7387cc",
   "metadata": {},
   "outputs": [
    {
     "name": "stdout",
     "output_type": "stream",
     "text": [
      "1\n",
      "2\n",
      "3\n",
      "4\n",
      "5\n",
      "6\n",
      "7\n",
      "8\n",
      "9\n",
      "15\n",
      "16\n",
      "17\n",
      "18\n",
      "19\n",
      "20\n"
     ]
    }
   ],
   "source": [
    "for i in range(1,21):\n",
    "    if i>=10 and i<15:\n",
    "        continue\n",
    "    print(i)"
   ]
  },
  {
   "cell_type": "code",
   "execution_count": 11,
   "id": "aa5d3a08",
   "metadata": {},
   "outputs": [
    {
     "name": "stdout",
     "output_type": "stream",
     "text": [
      "1\n",
      "2\n",
      "3\n",
      "4\n",
      "5\n",
      "6\n",
      "7\n",
      "8\n",
      "9\n"
     ]
    }
   ],
   "source": [
    "for i in range(1,21):\n",
    "    if i>=10 and i<15:\n",
    "        break\n",
    "    print(i)"
   ]
  },
  {
   "cell_type": "code",
   "execution_count": 15,
   "id": "7a71a4d3",
   "metadata": {},
   "outputs": [
    {
     "name": "stdout",
     "output_type": "stream",
     "text": [
      "Please enter your name:amir\n",
      "a\n",
      "i\n",
      "r\n"
     ]
    }
   ],
   "source": [
    "name=input(\"Please enter your name:\")\n",
    "for i in name:\n",
    "    if i==\"m\":\n",
    "        continue\n",
    "    print(i)"
   ]
  },
  {
   "cell_type": "code",
   "execution_count": 16,
   "id": "d327317e",
   "metadata": {},
   "outputs": [
    {
     "name": "stdout",
     "output_type": "stream",
     "text": [
      "Please enter your name:amir\n",
      "a\n"
     ]
    }
   ],
   "source": [
    "name=input(\"Please enter your name:\")\n",
    "for i in name:\n",
    "    if i==\"m\":\n",
    "        break\n",
    "    print(i)"
   ]
  },
  {
   "cell_type": "code",
   "execution_count": null,
   "id": "5c205b59",
   "metadata": {},
   "outputs": [],
   "source": []
  }
 ],
 "metadata": {
  "kernelspec": {
   "display_name": "Python 3 (ipykernel)",
   "language": "python",
   "name": "python3"
  },
  "language_info": {
   "codemirror_mode": {
    "name": "ipython",
    "version": 3
   },
   "file_extension": ".py",
   "mimetype": "text/x-python",
   "name": "python",
   "nbconvert_exporter": "python",
   "pygments_lexer": "ipython3",
   "version": "3.11.5"
  }
 },
 "nbformat": 4,
 "nbformat_minor": 5
}
