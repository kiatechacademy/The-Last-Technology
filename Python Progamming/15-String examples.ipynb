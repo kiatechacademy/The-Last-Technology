{
 "cells": [
  {
   "cell_type": "markdown",
   "id": "85d3d208",
   "metadata": {},
   "source": [
    "# kodam jomle tolani tar ast"
   ]
  },
  {
   "cell_type": "code",
   "execution_count": 1,
   "id": "87b037b6",
   "metadata": {},
   "outputs": [
    {
     "name": "stdout",
     "output_type": "stream",
     "text": [
      "Please enter your sentence:ali be madrese raft.\n",
      "Please enter your sentence:nayamad \n",
      "first sentence has more characters\n"
     ]
    }
   ],
   "source": [
    "string1=input(\"Please enter your sentence:\")\n",
    "string2=input(\"Please enter your sentence:\")\n",
    "\n",
    "if len(string1)>len(string2):\n",
    "    print(\"first sentence has more characters\")\n",
    "\n",
    "elif len(string1)<len(string2):\n",
    "    print(\"second sentence has more characters\")\n",
    "\n",
    "else:\n",
    "    (\"both are equal\")"
   ]
  },
  {
   "cell_type": "markdown",
   "id": "a79c8a1b",
   "metadata": {},
   "source": [
    "# chape reshte be sorate bar ax"
   ]
  },
  {
   "cell_type": "code",
   "execution_count": 8,
   "id": "56378bd4",
   "metadata": {},
   "outputs": [
    {
     "name": "stdout",
     "output_type": "stream",
     "text": [
      "Please enter one sentence:amir\n",
      "r\n",
      "i\n",
      "m\n",
      "a\n"
     ]
    }
   ],
   "source": [
    "string1=input(\"Please enter one sentence:\")\n",
    "b=len(string1)\n",
    "for i in range(1,b+1):\n",
    "    print(string1[b-i])\n",
    "#b=4,i=1==>string1[b-i]=string1[3]\n",
    "#b=4,i=2==> string1[b-i]=string1[2]\n",
    "#b=4,i=3==> string1[1]\n",
    "#b=4,i=4==>string1[0]\n",
    "# i=5==> az halghe kharej mishavad"
   ]
  },
  {
   "cell_type": "code",
   "execution_count": 12,
   "id": "7bb8cdcd",
   "metadata": {},
   "outputs": [
    {
     "name": "stdout",
     "output_type": "stream",
     "text": [
      "Please enter one sentence:rima\n",
      "a  m  i  r  "
     ]
    }
   ],
   "source": [
    "string1=input(\"Please enter one sentence:\")\n",
    "for i in range(len(string1)-1,-1,-1):# ebteda=len(string1)-1=3\n",
    "#for(ebteda,enteha,step)\n",
    "    print(string1[i],end=\"  \")"
   ]
  },
  {
   "cell_type": "code",
   "execution_count": null,
   "id": "f5c83345",
   "metadata": {},
   "outputs": [],
   "source": []
  }
 ],
 "metadata": {
  "kernelspec": {
   "display_name": "Python 3 (ipykernel)",
   "language": "python",
   "name": "python3"
  },
  "language_info": {
   "codemirror_mode": {
    "name": "ipython",
    "version": 3
   },
   "file_extension": ".py",
   "mimetype": "text/x-python",
   "name": "python",
   "nbconvert_exporter": "python",
   "pygments_lexer": "ipython3",
   "version": "3.11.5"
  }
 },
 "nbformat": 4,
 "nbformat_minor": 5
}
