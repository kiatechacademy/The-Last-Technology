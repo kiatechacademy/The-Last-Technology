{
 "cells": [
  {
   "cell_type": "markdown",
   "id": "1be75531",
   "metadata": {},
   "source": [
    "# creating lists==> sakhte list ha"
   ]
  },
  {
   "cell_type": "code",
   "execution_count": 1,
   "id": "b69ab49e",
   "metadata": {},
   "outputs": [
    {
     "name": "stdout",
     "output_type": "stream",
     "text": [
      "[1, 2, 3, 4, 5, 6, 7, 8]\n",
      "['ali', 'mohsen', 'sara', 'dara']\n",
      "[12, 20.5, -300, 'ali', 'a', [1, 2, 3]]\n"
     ]
    }
   ],
   "source": [
    "number=[1,2,3,4,5,6,7,8]\n",
    "names=[\"ali\",\"mohsen\",\"sara\",\"dara\"]\n",
    "mixed=[12,20.5,-300,\"ali\",\"a\",[1,2,3]]\n",
    "print(number)\n",
    "print(names)\n",
    "print(mixed)"
   ]
  },
  {
   "cell_type": "markdown",
   "id": "eac16106",
   "metadata": {},
   "source": [
    "# accessing elements==> dastresi be be anasore dakhele list"
   ]
  },
  {
   "cell_type": "code",
   "execution_count": 5,
   "id": "6100e6ad",
   "metadata": {},
   "outputs": [
    {
     "name": "stdout",
     "output_type": "stream",
     "text": [
      "amir\n",
      "sara\n",
      "dara\n"
     ]
    }
   ],
   "source": [
    "names=[\"ali\",\"amir\",\"sara\",\"dara\"]\n",
    "print(names[1])\n",
    "print(names[2])\n",
    "print(names[-1])"
   ]
  },
  {
   "cell_type": "code",
   "execution_count": 9,
   "id": "49e349e5",
   "metadata": {},
   "outputs": [
    {
     "name": "stdout",
     "output_type": "stream",
     "text": [
      "['amir', 'sara', 'dara']\n",
      "['ali', 'amir', 'sara']\n",
      "['ali', 'amir', 'sara', 'dara']\n",
      "['ali', 'sara']\n"
     ]
    }
   ],
   "source": [
    "print(names[1:])\n",
    "print(names[:-1])\n",
    "print(names[:])\n",
    "print(names[0::2])"
   ]
  },
  {
   "cell_type": "code",
   "execution_count": 12,
   "id": "d6d874bf",
   "metadata": {},
   "outputs": [
    {
     "name": "stdout",
     "output_type": "stream",
     "text": [
      "[1, 2, 3]\n",
      "[2, 3]\n"
     ]
    }
   ],
   "source": [
    "mixed=[12,20.5,-300,\"ali\",\"a\",[1,2,3]]\n",
    "print(mixed[-1])\n",
    "print(mixed[-1][1:])"
   ]
  },
  {
   "cell_type": "markdown",
   "id": "d46d7db1",
   "metadata": {},
   "source": [
    "# tavize paramtre"
   ]
  },
  {
   "cell_type": "code",
   "execution_count": 13,
   "id": "52a5b704",
   "metadata": {},
   "outputs": [
    {
     "name": "stdout",
     "output_type": "stream",
     "text": [
      "[12, 20, -300, 'ali', 'a', [1, 2, 3]]\n"
     ]
    }
   ],
   "source": [
    "mixed=[12,20.5,-300,\"ali\",\"a\",[1,2,3]]\n",
    "mixed[1]=20\n",
    "print(mixed)"
   ]
  },
  {
   "cell_type": "markdown",
   "id": "747d2358",
   "metadata": {},
   "source": [
    "# concatentation ya edgham"
   ]
  },
  {
   "cell_type": "code",
   "execution_count": 15,
   "id": "a8f87458",
   "metadata": {},
   "outputs": [
    {
     "name": "stdout",
     "output_type": "stream",
     "text": [
      "[1, 2, 3, 4, 5, 6, 7, 8, 9, 10]\n",
      "[1, 2, 3, 4, 5, 6, 7, 8, 9, 10]\n"
     ]
    }
   ],
   "source": [
    "numbers1=[1,2,3,4,5]\n",
    "numbers2=[6,7,8,9,10]\n",
    "numbers3=numbers1+numbers2\n",
    "print(numbers1+numbers2)\n",
    "print(numbers3)"
   ]
  },
  {
   "cell_type": "markdown",
   "id": "58438a6f",
   "metadata": {},
   "source": [
    "# Methods"
   ]
  },
  {
   "cell_type": "markdown",
   "id": "00823e7e",
   "metadata": {},
   "source": [
    "# append==> ezafe kardane ozv jadid be akhare list"
   ]
  },
  {
   "cell_type": "code",
   "execution_count": 16,
   "id": "4c3aa903",
   "metadata": {},
   "outputs": [
    {
     "name": "stdout",
     "output_type": "stream",
     "text": [
      "[10, 20, 30, 40, 50, 60]\n"
     ]
    }
   ],
   "source": [
    "numbers=[10,20,30,40,50]\n",
    "numbers.append(60)\n",
    "print(numbers)"
   ]
  },
  {
   "cell_type": "markdown",
   "id": "6d14baa3",
   "metadata": {},
   "source": [
    "# insert==> ezafe kardan ozve jadid be jaye  delkhah"
   ]
  },
  {
   "cell_type": "code",
   "execution_count": 17,
   "id": "abe61053",
   "metadata": {},
   "outputs": [
    {
     "name": "stdout",
     "output_type": "stream",
     "text": [
      "['BMW', 'FORD', 'Ferrari', 'BENZ']\n"
     ]
    }
   ],
   "source": [
    "cars=[\"BMW\",\"FORD\",\"BENZ\"]\n",
    "cars.insert(2,\"Ferrari\")\n",
    "print(cars)"
   ]
  },
  {
   "cell_type": "code",
   "execution_count": 18,
   "id": "91254ca7",
   "metadata": {},
   "outputs": [
    {
     "name": "stdout",
     "output_type": "stream",
     "text": [
      "['BMW', 'FORD', [1, 2, 3, 4], 'BENZ']\n"
     ]
    }
   ],
   "source": [
    "cars=[\"BMW\",\"FORD\",\"BENZ\"]\n",
    "cars.insert(2,[1,2,3,4])\n",
    "print(cars)"
   ]
  },
  {
   "cell_type": "markdown",
   "id": "3d3cd15e",
   "metadata": {},
   "source": [
    "# remove==> pak kardan ozv"
   ]
  },
  {
   "cell_type": "code",
   "execution_count": 19,
   "id": "bc49ff23",
   "metadata": {},
   "outputs": [
    {
     "name": "stdout",
     "output_type": "stream",
     "text": [
      "['BMW', 'FORD']\n"
     ]
    }
   ],
   "source": [
    "cars=[\"BMW\",\"FORD\",\"BENZ\"]\n",
    "cars.remove(\"BENZ\")\n",
    "print(cars)"
   ]
  },
  {
   "cell_type": "markdown",
   "id": "cfeae2d1",
   "metadata": {},
   "source": [
    "# clear==> pak kardane kole azaye list"
   ]
  },
  {
   "cell_type": "code",
   "execution_count": 20,
   "id": "568e7f92",
   "metadata": {},
   "outputs": [
    {
     "name": "stdout",
     "output_type": "stream",
     "text": [
      "[]\n"
     ]
    }
   ],
   "source": [
    "cars=[\"BMW\",\"FORD\",\"BENZ\"]\n",
    "cars.clear()\n",
    "print(cars)"
   ]
  },
  {
   "cell_type": "markdown",
   "id": "e9511fa1",
   "metadata": {},
   "source": [
    "# pop==> pak kardane ozv ba index"
   ]
  },
  {
   "cell_type": "code",
   "execution_count": 21,
   "id": "8c366940",
   "metadata": {},
   "outputs": [
    {
     "name": "stdout",
     "output_type": "stream",
     "text": [
      "['BMW', 'FORD']\n"
     ]
    }
   ],
   "source": [
    "cars=[\"BMW\",\"FORD\",\"BENZ\"]\n",
    "cars.pop(2)\n",
    "print(cars)"
   ]
  },
  {
   "cell_type": "markdown",
   "id": "422c2b81",
   "metadata": {},
   "source": [
    "# count==> shomareshe yek harf ya adad"
   ]
  },
  {
   "cell_type": "code",
   "execution_count": 25,
   "id": "c7128775",
   "metadata": {},
   "outputs": [
    {
     "name": "stdout",
     "output_type": "stream",
     "text": [
      "1\n",
      "1\n",
      "0\n",
      "2\n"
     ]
    }
   ],
   "source": [
    "lst=[1,2,3,4,5,6,\"amir\",\"ali\",6]\n",
    "print(lst.count(3))\n",
    "print(lst.count(\"amir\"))\n",
    "print(lst.count(20))\n",
    "print(lst.count(6))"
   ]
  },
  {
   "cell_type": "markdown",
   "id": "f881be27",
   "metadata": {},
   "source": [
    "# sort==> moratab kardan aza==> dast be list asli mizanad"
   ]
  },
  {
   "cell_type": "code",
   "execution_count": 26,
   "id": "1c2e1a61",
   "metadata": {},
   "outputs": [
    {
     "name": "stdout",
     "output_type": "stream",
     "text": [
      "[1.5, 3, 12, 20, 100]\n"
     ]
    }
   ],
   "source": [
    "numbers=[12,20,3,1.5,100]\n",
    "numbers.sort()\n",
    "print(numbers)"
   ]
  },
  {
   "cell_type": "markdown",
   "id": "26888879",
   "metadata": {},
   "source": [
    "# sorted==> moratab kardan aza==> ama dast be liste asli nemizanad"
   ]
  },
  {
   "cell_type": "code",
   "execution_count": 27,
   "id": "0c5794be",
   "metadata": {},
   "outputs": [
    {
     "name": "stdout",
     "output_type": "stream",
     "text": [
      "[1.5, 3, 12, 20, 100]\n",
      "[12, 20, 3, 1.5, 100]\n"
     ]
    }
   ],
   "source": [
    "numbers2=[12,20,3,1.5,100]\n",
    "print(sorted(numbers))\n",
    "print(numbers2)"
   ]
  },
  {
   "cell_type": "markdown",
   "id": "123e2f4b",
   "metadata": {},
   "source": [
    "# nokte==> az liste asli hatman yek liste digar besazid"
   ]
  },
  {
   "cell_type": "code",
   "execution_count": 28,
   "id": "3bf58aec",
   "metadata": {},
   "outputs": [
    {
     "name": "stdout",
     "output_type": "stream",
     "text": [
      "[12, 20, 3, 1.5, 100]\n",
      "[1.5, 3, 12, 20, 100]\n",
      "[1.5, 3, 12, 20, 100]\n"
     ]
    }
   ],
   "source": [
    "numbers2=[12,20,3,1.5,100]\n",
    "numbers3=numbers2\n",
    "print(numbers3)\n",
    "numbers2.sort()\n",
    "print(numbers2)\n",
    "print(numbers3)"
   ]
  },
  {
   "cell_type": "markdown",
   "id": "1034f93c",
   "metadata": {},
   "source": [
    "# copy"
   ]
  },
  {
   "cell_type": "code",
   "execution_count": 29,
   "id": "55b67b3f",
   "metadata": {},
   "outputs": [
    {
     "name": "stdout",
     "output_type": "stream",
     "text": [
      "[1, 2, 3, 4]\n",
      "[1, 2, 3, 4]\n"
     ]
    }
   ],
   "source": [
    "numbers=[1,2,3,4]\n",
    "numbers2=numbers.copy()\n",
    "print(numbers)\n",
    "print(numbers2)"
   ]
  },
  {
   "cell_type": "code",
   "execution_count": 31,
   "id": "25bd2b9e",
   "metadata": {},
   "outputs": [
    {
     "name": "stdout",
     "output_type": "stream",
     "text": [
      "[2, 10, 5, 1]\n",
      "[1, 2, 5, 10]\n",
      "[2, 10, 5, 1]\n"
     ]
    }
   ],
   "source": [
    "numbers=[2,10,5,1]\n",
    "numbers2=numbers.copy()\n",
    "print(numbers2)\n",
    "numbers.sort()\n",
    "print(numbers)\n",
    "print(numbers2)"
   ]
  },
  {
   "cell_type": "markdown",
   "id": "1d048743",
   "metadata": {},
   "source": [
    "# index==> shomareye index made nazar ra midahad"
   ]
  },
  {
   "cell_type": "code",
   "execution_count": 32,
   "id": "a3085c8d",
   "metadata": {},
   "outputs": [
    {
     "name": "stdout",
     "output_type": "stream",
     "text": [
      "2\n"
     ]
    }
   ],
   "source": [
    "lst1=[20,25.5,\"a\",\"ali\",[2,3,4]]\n",
    "print(lst1.index(\"a\"))\n"
   ]
  },
  {
   "cell_type": "code",
   "execution_count": 33,
   "id": "7c99f883",
   "metadata": {},
   "outputs": [
    {
     "name": "stdout",
     "output_type": "stream",
     "text": [
      "2\n"
     ]
    }
   ],
   "source": [
    "lst1=[20,25.5,\"a\",\"ali\",[2,3,4],\"a\"]\n",
    "print(lst1.index(\"a\"))"
   ]
  },
  {
   "cell_type": "markdown",
   "id": "dabae39c",
   "metadata": {},
   "source": [
    "# extend==>ezafe kardan chand ozv be list"
   ]
  },
  {
   "cell_type": "code",
   "execution_count": 34,
   "id": "0956d0d0",
   "metadata": {},
   "outputs": [
    {
     "name": "stdout",
     "output_type": "stream",
     "text": [
      "[10, 20, 30, 40, 50, 60, 70]\n"
     ]
    }
   ],
   "source": [
    "numbers=[10,20,30,40]\n",
    "numbers.extend([50,60,70])\n",
    "print(numbers)"
   ]
  },
  {
   "cell_type": "code",
   "execution_count": 35,
   "id": "e4dfdb6f",
   "metadata": {},
   "outputs": [
    {
     "name": "stdout",
     "output_type": "stream",
     "text": [
      "[10, 20, 30, 40, [50, 60, 70]]\n"
     ]
    }
   ],
   "source": [
    "numbers=[10,20,30,40]\n",
    "numbers.append([50,60,70])\n",
    "print(numbers)"
   ]
  },
  {
   "cell_type": "markdown",
   "id": "15a22827",
   "metadata": {},
   "source": [
    "# nahveye ezafe kardan ozv be list tavasote khode karbar"
   ]
  },
  {
   "cell_type": "code",
   "execution_count": 37,
   "id": "59fe4dfe",
   "metadata": {},
   "outputs": [
    {
     "name": "stdout",
     "output_type": "stream",
     "text": [
      "lotfan nametan ra vared konid:ali\n",
      "['ali']\n"
     ]
    }
   ],
   "source": [
    "lst=[]\n",
    "name=input(\"lotfan nametan ra vared konid:\")\n",
    "lst.append(name)\n",
    "print(lst)"
   ]
  },
  {
   "cell_type": "code",
   "execution_count": 38,
   "id": "b393a959",
   "metadata": {},
   "outputs": [
    {
     "name": "stdout",
     "output_type": "stream",
     "text": [
      "Lotfan name morede nazaretan ra vared konid:kiarash\n",
      "Lotfan name morede nazaretan ra vared konid:amir\n",
      "Lotfan name morede nazaretan ra vared konid:ali\n",
      "Lotfan name morede nazaretan ra vared konid:sara\n",
      "['kiarash', 'amir', 'ali', 'sara']\n"
     ]
    }
   ],
   "source": [
    "lst=[]\n",
    "i=0\n",
    "while i<4:\n",
    "    name=input(\"Lotfan name morede nazaretan ra vared konid:\")\n",
    "    lst.append(name)\n",
    "    i=i+1\n",
    "\n",
    "print(lst)"
   ]
  },
  {
   "cell_type": "code",
   "execution_count": 39,
   "id": "e1cef0e2",
   "metadata": {},
   "outputs": [
    {
     "name": "stdout",
     "output_type": "stream",
     "text": [
      "Lotfan nomre made nazaretan ra vard konid:20\n",
      "Lotfan nomre made nazaretan ra vard konid:18\n",
      "Lotfan nomre made nazaretan ra vard konid:19.5\n",
      "Lotfan nomre made nazaretan ra vard konid:10\n",
      "[20.0, 18.0, 19.5, 10.0]\n"
     ]
    }
   ],
   "source": [
    "lst=[]\n",
    "i=0\n",
    "while i<4:\n",
    "    score=float(input(\"Lotfan nomre made nazaretan ra vard konid:\"))\n",
    "    lst.append(score)\n",
    "    i=i+1\n",
    "\n",
    "print(lst)"
   ]
  },
  {
   "cell_type": "markdown",
   "id": "2cf3e2eb",
   "metadata": {},
   "source": [
    "# split"
   ]
  },
  {
   "cell_type": "code",
   "execution_count": 40,
   "id": "8f7866db",
   "metadata": {},
   "outputs": [
    {
     "name": "stdout",
     "output_type": "stream",
     "text": [
      "please enter one sentence:ali be madrese raft\n",
      "['ali', 'be', 'madrese', 'raft']\n"
     ]
    }
   ],
   "source": [
    "text=input(\"please enter one sentence:\")\n",
    "text2=text.split()\n",
    "print(text2)"
   ]
  },
  {
   "cell_type": "code",
   "execution_count": 41,
   "id": "1c000a52",
   "metadata": {},
   "outputs": [
    {
     "name": "stdout",
     "output_type": "stream",
     "text": [
      "please enter one sentence:ali be madrese raft. hasan bargasht.ali darsesho khond.\n",
      "['ali be madrese raft', ' hasan bargasht', 'ali darsesho khond', '']\n"
     ]
    }
   ],
   "source": [
    "text=input(\"please enter one sentence:\")\n",
    "text2=text.split(\".\")\n",
    "print(text2)"
   ]
  },
  {
   "cell_type": "code",
   "execution_count": 43,
   "id": "05388da9",
   "metadata": {},
   "outputs": [
    {
     "name": "stdout",
     "output_type": "stream",
     "text": [
      "lotfan emailetan ra vared konid:apple@yahoo.com\n",
      "apple\n"
     ]
    }
   ],
   "source": [
    "email=input(\"lotfan emailetan ra vared konid:\")\n",
    "email2=email.split(\"@\")\n",
    "print(email2[0])"
   ]
  },
  {
   "cell_type": "markdown",
   "id": "5597161f",
   "metadata": {},
   "source": [
    "# max/min"
   ]
  },
  {
   "cell_type": "code",
   "execution_count": 44,
   "id": "9f493227",
   "metadata": {},
   "outputs": [
    {
     "name": "stdout",
     "output_type": "stream",
     "text": [
      "3456\n",
      "10\n"
     ]
    }
   ],
   "source": [
    "lst=[1234,12,10,290,3456]\n",
    "print(max(lst))\n",
    "print(min(lst))"
   ]
  },
  {
   "cell_type": "code",
   "execution_count": null,
   "id": "14ec5981",
   "metadata": {},
   "outputs": [],
   "source": []
  }
 ],
 "metadata": {
  "kernelspec": {
   "display_name": "Python 3 (ipykernel)",
   "language": "python",
   "name": "python3"
  },
  "language_info": {
   "codemirror_mode": {
    "name": "ipython",
    "version": 3
   },
   "file_extension": ".py",
   "mimetype": "text/x-python",
   "name": "python",
   "nbconvert_exporter": "python",
   "pygments_lexer": "ipython3",
   "version": "3.11.5"
  }
 },
 "nbformat": 4,
 "nbformat_minor": 5
}
