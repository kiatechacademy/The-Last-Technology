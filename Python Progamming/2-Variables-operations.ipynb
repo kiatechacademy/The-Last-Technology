{
 "cells": [
  {
   "cell_type": "markdown",
   "id": "d9a2584b",
   "metadata": {},
   "source": [
    "# Variables ya moteghair ha"
   ]
  },
  {
   "cell_type": "code",
   "execution_count": 2,
   "id": "43635a3c",
   "metadata": {},
   "outputs": [
    {
     "name": "stdout",
     "output_type": "stream",
     "text": [
      "30\n",
      "20\n"
     ]
    }
   ],
   "source": [
    "age=30\n",
    "print(age)\n",
    "score=20\n",
    "print(score)"
   ]
  },
  {
   "cell_type": "markdown",
   "id": "9d57fdb3",
   "metadata": {},
   "source": [
    "# 3types variables"
   ]
  },
  {
   "cell_type": "code",
   "execution_count": 3,
   "id": "cf4cc668",
   "metadata": {},
   "outputs": [
    {
     "name": "stdout",
     "output_type": "stream",
     "text": [
      "10\n",
      "15.5\n",
      "a\n",
      "ali\n"
     ]
    }
   ],
   "source": [
    "# integer==> adad sahih ==> 2 3 4 110\n",
    "# float==> adad ashari==> 1.5 -17.23 101.89\n",
    "# string==> reshteha==> character ha a b c  ya neveshte ha ali\n",
    "a=10\n",
    "b=15.5\n",
    "c=\"a\"\n",
    "d=\"ali\"\n",
    "print(a)\n",
    "print(b)\n",
    "print(c)\n",
    "print(d)"
   ]
  },
  {
   "cell_type": "markdown",
   "id": "1cb776c5",
   "metadata": {},
   "source": [
    "# type==> noe moteghair hara midahad"
   ]
  },
  {
   "cell_type": "code",
   "execution_count": 4,
   "id": "30a2996b",
   "metadata": {},
   "outputs": [
    {
     "name": "stdout",
     "output_type": "stream",
     "text": [
      "<class 'int'>\n",
      "<class 'float'>\n",
      "<class 'str'>\n",
      "<class 'str'>\n"
     ]
    }
   ],
   "source": [
    "a=10\n",
    "b=15.5\n",
    "c=\"a\"\n",
    "d=\"ali\"\n",
    "\n",
    "print(type(a))\n",
    "print(type(b))\n",
    "print(type(c))\n",
    "print(type(d))"
   ]
  },
  {
   "cell_type": "markdown",
   "id": "f5ba7440",
   "metadata": {},
   "source": [
    "# ghavaede nam gozarie moteghair ha"
   ]
  },
  {
   "cell_type": "markdown",
   "id": "51af28cd",
   "metadata": {},
   "source": [
    "1) name moteghair nabyad ba shomare ya adad shoro shavad\n",
    "2) beine name haye moteghair haye 2 ya bishtr kalameiy bayad underline(_) bashad==> nabayad fasele beineshan bashad\n",
    "3) az asamie khas ke dar python az ghabl be sorate pish farz vojod darad estefade nakonid==> onaiy ke sabz mishavand estefade nakonid"
   ]
  },
  {
   "cell_type": "code",
   "execution_count": 11,
   "id": "8ee3c433",
   "metadata": {},
   "outputs": [],
   "source": [
    "name=\"ali\"\n",
    "name_family=\"ali moradi\"\n",
    "number=20"
   ]
  },
  {
   "cell_type": "markdown",
   "id": "c37e1237",
   "metadata": {},
   "source": [
    "# nahveye comment gozari"
   ]
  },
  {
   "cell_type": "code",
   "execution_count": 14,
   "id": "afca49c8",
   "metadata": {},
   "outputs": [],
   "source": [
    "#name=\"ali\"\n",
    "#print(name)"
   ]
  },
  {
   "cell_type": "code",
   "execution_count": null,
   "id": "f6c7ffe4",
   "metadata": {},
   "outputs": [],
   "source": [
    "'''name1=\"amir\"\n",
    "score1=20\n",
    "age=30\n",
    "'''"
   ]
  },
  {
   "cell_type": "markdown",
   "id": "b37ab5c2",
   "metadata": {},
   "source": [
    "# Mathematic operators"
   ]
  },
  {
   "cell_type": "code",
   "execution_count": 15,
   "id": "518cef3e",
   "metadata": {},
   "outputs": [
    {
     "name": "stdout",
     "output_type": "stream",
     "text": [
      "30\n",
      "10\n",
      "200\n",
      "2.0\n",
      "0\n",
      "100000000000000000000\n"
     ]
    }
   ],
   "source": [
    "a=10\n",
    "b=20\n",
    "jam=a+b\n",
    "tafrigh=b-a\n",
    "zarb=a*b\n",
    "khareje_ghesmat=b/a\n",
    "baghimande=b%a\n",
    "tavan=a**b\n",
    "\n",
    "print(jam)\n",
    "print(tafrigh)\n",
    "print(zarb)\n",
    "print(khareje_ghesmat)\n",
    "print(baghimande)\n",
    "print(tavan)"
   ]
  },
  {
   "cell_type": "markdown",
   "id": "96b18a6c",
   "metadata": {},
   "source": [
    "# nokte==> dar moteghair akharin chizi ke baghimande ast mimand"
   ]
  },
  {
   "cell_type": "code",
   "execution_count": 20,
   "id": "3592d314",
   "metadata": {},
   "outputs": [
    {
     "name": "stdout",
     "output_type": "stream",
     "text": [
      "50\n"
     ]
    }
   ],
   "source": [
    "a=12.5\n",
    "b=10\n",
    "c=a+b\n",
    "c=50\n",
    "print(c)"
   ]
  },
  {
   "cell_type": "markdown",
   "id": "4ac49abd",
   "metadata": {},
   "source": [
    "# print"
   ]
  },
  {
   "cell_type": "code",
   "execution_count": 21,
   "id": "a7b12660",
   "metadata": {},
   "outputs": [
    {
     "name": "stdout",
     "output_type": "stream",
     "text": [
      "40.78\n"
     ]
    }
   ],
   "source": [
    "number1=20\n",
    "number2=20.78\n",
    "print(number1+number2)"
   ]
  },
  {
   "cell_type": "code",
   "execution_count": 22,
   "id": "27fbea0a",
   "metadata": {},
   "outputs": [
    {
     "name": "stdout",
     "output_type": "stream",
     "text": [
      "your number is true\n"
     ]
    }
   ],
   "source": [
    "print(\"your number is true\")"
   ]
  },
  {
   "cell_type": "code",
   "execution_count": 23,
   "id": "7e3ed4c5",
   "metadata": {},
   "outputs": [
    {
     "name": "stdout",
     "output_type": "stream",
     "text": [
      "ali amir sara dara\n"
     ]
    }
   ],
   "source": [
    "name1=\"ali\"\n",
    "name2=\"amir\"\n",
    "name3=\"sara\"\n",
    "name4=\"dara\"\n",
    "print(name1,name2,name3,name4)"
   ]
  },
  {
   "cell_type": "code",
   "execution_count": 24,
   "id": "64c956bf",
   "metadata": {},
   "outputs": [
    {
     "name": "stdout",
     "output_type": "stream",
     "text": [
      "number1+number2= 50\n"
     ]
    }
   ],
   "source": [
    "number1=20\n",
    "number2=30\n",
    "number3=number1+number2\n",
    "print(\"number1+number2=\",number3)"
   ]
  },
  {
   "cell_type": "code",
   "execution_count": 26,
   "id": "51857217",
   "metadata": {},
   "outputs": [
    {
     "name": "stdout",
     "output_type": "stream",
     "text": [
      "jam 20 va 30 50 mibashad\n"
     ]
    }
   ],
   "source": [
    "number1=20\n",
    "number2=30\n",
    "number3=number1+number2\n",
    "print(f\"jam {number1} va {number2} {number3} mibashad\")"
   ]
  },
  {
   "cell_type": "code",
   "execution_count": null,
   "id": "41f6fa92",
   "metadata": {},
   "outputs": [],
   "source": []
  }
 ],
 "metadata": {
  "kernelspec": {
   "display_name": "Python 3 (ipykernel)",
   "language": "python",
   "name": "python3"
  },
  "language_info": {
   "codemirror_mode": {
    "name": "ipython",
    "version": 3
   },
   "file_extension": ".py",
   "mimetype": "text/x-python",
   "name": "python",
   "nbconvert_exporter": "python",
   "pygments_lexer": "ipython3",
   "version": "3.11.5"
  }
 },
 "nbformat": 4,
 "nbformat_minor": 5
}
