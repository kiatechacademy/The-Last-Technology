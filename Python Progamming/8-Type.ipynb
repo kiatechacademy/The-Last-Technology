{
 "cells": [
  {
   "cell_type": "code",
   "execution_count": 7,
   "id": "392ae503",
   "metadata": {},
   "outputs": [
    {
     "name": "stdout",
     "output_type": "stream",
     "text": [
      "<class 'float'>\n",
      "<class 'float'>\n",
      "<class 'int'>\n",
      "<class 'str'>\n"
     ]
    }
   ],
   "source": [
    "print(type(19.5))\n",
    "print(type(19.0))\n",
    "print(type(19))\n",
    "print(type(\"19\"))"
   ]
  },
  {
   "cell_type": "code",
   "execution_count": 9,
   "id": "d59c1704",
   "metadata": {},
   "outputs": [
    {
     "name": "stdout",
     "output_type": "stream",
     "text": [
      "30\n"
     ]
    }
   ],
   "source": [
    "a=\"20\"\n",
    "a2=int(a) # tabdil be integer ya adad sahih\n",
    "b=10\n",
    "print(a2+b)"
   ]
  },
  {
   "cell_type": "code",
   "execution_count": 10,
   "id": "4255f681",
   "metadata": {},
   "outputs": [
    {
     "name": "stdout",
     "output_type": "stream",
     "text": [
      "30.5\n"
     ]
    }
   ],
   "source": [
    "a=\"20.5\"\n",
    "a2=float(a) # tabdil be float ya adad sahih\n",
    "b=10\n",
    "print(a2+b)"
   ]
  },
  {
   "cell_type": "code",
   "execution_count": 11,
   "id": "63042036",
   "metadata": {},
   "outputs": [
    {
     "name": "stdout",
     "output_type": "stream",
     "text": [
      "<class 'int'>\n",
      "<class 'str'>\n"
     ]
    }
   ],
   "source": [
    "a=20\n",
    "a2=str(a) # tabdil be reshte\n",
    "print(type(a))\n",
    "print(type(a2))"
   ]
  },
  {
   "cell_type": "code",
   "execution_count": null,
   "id": "6d3ed291",
   "metadata": {},
   "outputs": [],
   "source": []
  }
 ],
 "metadata": {
  "kernelspec": {
   "display_name": "Python 3 (ipykernel)",
   "language": "python",
   "name": "python3"
  },
  "language_info": {
   "codemirror_mode": {
    "name": "ipython",
    "version": 3
   },
   "file_extension": ".py",
   "mimetype": "text/x-python",
   "name": "python",
   "nbconvert_exporter": "python",
   "pygments_lexer": "ipython3",
   "version": "3.11.5"
  }
 },
 "nbformat": 4,
 "nbformat_minor": 5
}
