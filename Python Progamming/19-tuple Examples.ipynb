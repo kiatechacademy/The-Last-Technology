{
 "cells": [
  {
   "cell_type": "markdown",
   "id": "0925a737",
   "metadata": {},
   "source": [
    "# tuple"
   ]
  },
  {
   "cell_type": "markdown",
   "id": "0bb9a264",
   "metadata": {},
   "source": [
    "# tuple haman list ast ama:"
   ]
  },
  {
   "cell_type": "markdown",
   "id": "f95c3667",
   "metadata": {},
   "source": [
    "1. ba parantez shoro mishavad\n",
    "2. ozvhaye tuple ghabele taghir nistan\n",
    "3. 2ta method bishtr nadard"
   ]
  },
  {
   "cell_type": "markdown",
   "id": "4d58a1e7",
   "metadata": {},
   "source": [
    "# creating tuple"
   ]
  },
  {
   "cell_type": "code",
   "execution_count": 2,
   "id": "ffb84a85",
   "metadata": {},
   "outputs": [
    {
     "name": "stdout",
     "output_type": "stream",
     "text": [
      "('red', 'blue', 'yello', 'green')\n",
      "<class 'tuple'>\n"
     ]
    }
   ],
   "source": [
    "colors=(\"red\",\"blue\",\"yello\",\"green\")\n",
    "print(colors)\n",
    "print(type(colors))"
   ]
  },
  {
   "cell_type": "code",
   "execution_count": 3,
   "id": "6dd5445b",
   "metadata": {},
   "outputs": [
    {
     "name": "stdout",
     "output_type": "stream",
     "text": [
      "(1, 2, 3, 4, 5, 5.5, 6.5)\n"
     ]
    }
   ],
   "source": [
    "numbers=(1,2,3,4,5,5.5,6.5)\n",
    "print(numbers)"
   ]
  },
  {
   "cell_type": "markdown",
   "id": "adc2e43c",
   "metadata": {},
   "source": [
    "# slicing and accessing"
   ]
  },
  {
   "cell_type": "code",
   "execution_count": 7,
   "id": "175804e7",
   "metadata": {},
   "outputs": [
    {
     "name": "stdout",
     "output_type": "stream",
     "text": [
      "blue\n",
      "green\n",
      "yello\n",
      "red\n"
     ]
    }
   ],
   "source": [
    "colors=(\"red\",\"blue\",\"yello\",\"green\") \n",
    "print(colors[1])\n",
    "print(colors[-1])\n",
    "print(colors[-2])\n",
    "print(colors[0])"
   ]
  },
  {
   "cell_type": "code",
   "execution_count": 8,
   "id": "2293224a",
   "metadata": {},
   "outputs": [
    {
     "ename": "TypeError",
     "evalue": "'tuple' object does not support item assignment",
     "output_type": "error",
     "traceback": [
      "\u001b[1;31m---------------------------------------------------------------------------\u001b[0m",
      "\u001b[1;31mTypeError\u001b[0m                                 Traceback (most recent call last)",
      "Cell \u001b[1;32mIn[8], line 1\u001b[0m\n\u001b[1;32m----> 1\u001b[0m colors[\u001b[38;5;241m2\u001b[39m]\u001b[38;5;241m=\u001b[39m\u001b[38;5;124m\"\u001b[39m\u001b[38;5;124mblack\u001b[39m\u001b[38;5;124m\"\u001b[39m\n",
      "\u001b[1;31mTypeError\u001b[0m: 'tuple' object does not support item assignment"
     ]
    }
   ],
   "source": [
    "colors[2]=\"black\""
   ]
  },
  {
   "cell_type": "markdown",
   "id": "a196211c",
   "metadata": {},
   "source": [
    "# methods"
   ]
  },
  {
   "cell_type": "markdown",
   "id": "2bec4bd9",
   "metadata": {},
   "source": [
    "# count==>shomareshe tedad yek ozve khas"
   ]
  },
  {
   "cell_type": "code",
   "execution_count": 9,
   "id": "3228b496",
   "metadata": {},
   "outputs": [
    {
     "name": "stdout",
     "output_type": "stream",
     "text": [
      "2\n"
     ]
    }
   ],
   "source": [
    "numbers=(1,2,3,4,5,12,12,1,2,3,4,5)\n",
    "print(numbers.count(2))"
   ]
  },
  {
   "cell_type": "code",
   "execution_count": 11,
   "id": "9e2bc30e",
   "metadata": {},
   "outputs": [
    {
     "name": "stdout",
     "output_type": "stream",
     "text": [
      "2\n",
      "1\n"
     ]
    }
   ],
   "source": [
    "names=(\"sara\",\"ali\",\"dara\",\"ali\",\"amir\",\"amirali\")\n",
    "print(names.count(\"ali\"))\n",
    "print(names.count(\"amir\"))"
   ]
  },
  {
   "cell_type": "markdown",
   "id": "fea88dc8",
   "metadata": {},
   "source": [
    "# index==> jaygahe yek ozve khas"
   ]
  },
  {
   "cell_type": "code",
   "execution_count": 13,
   "id": "c4863d12",
   "metadata": {},
   "outputs": [
    {
     "name": "stdout",
     "output_type": "stream",
     "text": [
      "1\n",
      "3\n"
     ]
    }
   ],
   "source": [
    "numbers=(1,2,3,4,5,6)\n",
    "print(numbers.index(2))\n",
    "print(numbers.index(4))"
   ]
  },
  {
   "cell_type": "markdown",
   "id": "88636328",
   "metadata": {},
   "source": [
    "# nokte ==>taghire ozve tuple==> az tarighe ijade tuple jadid"
   ]
  },
  {
   "cell_type": "code",
   "execution_count": 17,
   "id": "85629bc7",
   "metadata": {},
   "outputs": [
    {
     "name": "stdout",
     "output_type": "stream",
     "text": [
      "('red', 'blue', 'white', 'green')\n"
     ]
    }
   ],
   "source": [
    "colors=(\"red\",\"blue\",\"yello\",\"green\")\n",
    "col=(\"white\",)\n",
    "colors2=colors[0:2]+col+colors[3:]\n",
    "print(colors2)"
   ]
  },
  {
   "cell_type": "code",
   "execution_count": null,
   "id": "ea9a417a",
   "metadata": {},
   "outputs": [],
   "source": []
  }
 ],
 "metadata": {
  "kernelspec": {
   "display_name": "Python 3 (ipykernel)",
   "language": "python",
   "name": "python3"
  },
  "language_info": {
   "codemirror_mode": {
    "name": "ipython",
    "version": 3
   },
   "file_extension": ".py",
   "mimetype": "text/x-python",
   "name": "python",
   "nbconvert_exporter": "python",
   "pygments_lexer": "ipython3",
   "version": "3.11.5"
  }
 },
 "nbformat": 4,
 "nbformat_minor": 5
}
