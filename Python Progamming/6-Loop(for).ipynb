{
 "cells": [
  {
   "cell_type": "markdown",
   "id": "f66cc90d",
   "metadata": {},
   "source": [
    "# halgheha==> har chizi ke  bayad tekrar beshe"
   ]
  },
  {
   "cell_type": "markdown",
   "id": "d3dce1ec",
   "metadata": {},
   "source": [
    "# halgheha be 2daste taghsim mishavand 1) for 2) while"
   ]
  },
  {
   "cell_type": "markdown",
   "id": "12c8367f",
   "metadata": {},
   "source": [
    "# ----------------------------------------for-----------------------------"
   ]
  },
  {
   "cell_type": "code",
   "execution_count": 2,
   "id": "d7158d02",
   "metadata": {},
   "outputs": [
    {
     "name": "stdout",
     "output_type": "stream",
     "text": [
      "1\n",
      "2\n",
      "3\n",
      "4\n",
      "5\n",
      "6\n",
      "7\n",
      "8\n",
      "9\n",
      "10\n",
      "11\n",
      "12\n",
      "13\n",
      "14\n",
      "15\n",
      "16\n",
      "17\n",
      "18\n",
      "19\n",
      "20\n"
     ]
    }
   ],
   "source": [
    "for i in range(1,21):                     # for i in range(kochiktrin,bozorgtrin+1, steps)\n",
    "    print(i)"
   ]
  },
  {
   "cell_type": "markdown",
   "id": "d04990d3",
   "metadata": {},
   "source": [
    "# print dar haman khat ba faseleye made nazare ma"
   ]
  },
  {
   "cell_type": "code",
   "execution_count": 4,
   "id": "8624e3e7",
   "metadata": {},
   "outputs": [
    {
     "name": "stdout",
     "output_type": "stream",
     "text": [
      "1  2  3  4  5  6  7  8  9  10  11  12  13  14  15  16  17  18  19  20  "
     ]
    }
   ],
   "source": [
    "for i in range(1,21):                     # for i in range(kochiktrin,bozorgtrin+1, steps)\n",
    "    print(i,end=\"  \")"
   ]
  },
  {
   "cell_type": "markdown",
   "id": "9e4ce8ff",
   "metadata": {},
   "source": [
    "# adad zoj 1 ta 30"
   ]
  },
  {
   "cell_type": "code",
   "execution_count": 5,
   "id": "975ce020",
   "metadata": {},
   "outputs": [
    {
     "name": "stdout",
     "output_type": "stream",
     "text": [
      "2\n",
      "4\n",
      "6\n",
      "8\n",
      "10\n",
      "12\n",
      "14\n",
      "16\n",
      "18\n",
      "20\n",
      "22\n",
      "24\n",
      "26\n",
      "28\n",
      "30\n"
     ]
    }
   ],
   "source": [
    "for i in range(1,31):\n",
    "    if i%2==0:\n",
    "        print(i)"
   ]
  },
  {
   "cell_type": "code",
   "execution_count": 7,
   "id": "f5e8fd21",
   "metadata": {},
   "outputs": [
    {
     "name": "stdout",
     "output_type": "stream",
     "text": [
      "1\n",
      "5\n",
      "9\n",
      "13\n",
      "17\n",
      "21\n",
      "25\n"
     ]
    }
   ],
   "source": [
    "for i in range(1,26,4):\n",
    "    print(i)\n",
    "    "
   ]
  },
  {
   "cell_type": "code",
   "execution_count": 10,
   "id": "3c09a88d",
   "metadata": {},
   "outputs": [
    {
     "name": "stdout",
     "output_type": "stream",
     "text": [
      "55\n"
     ]
    }
   ],
   "source": [
    "jam=0\n",
    "for i in range(1,11):\n",
    "    jam=jam+i\n",
    "print(jam)"
   ]
  },
  {
   "cell_type": "markdown",
   "id": "64734835",
   "metadata": {},
   "source": [
    "1\n",
    "1+2=3\n",
    "3+3=6\n",
    "6+4=10\n",
    "..."
   ]
  },
  {
   "cell_type": "markdown",
   "id": "546e97bb",
   "metadata": {},
   "source": [
    "jam=0 , i=1==> jam=jam+1==> jam=0+1=1\n",
    "jam=1 , i=2==> jam=2+1=3\n",
    "jam=3, i=3==> jam=3+3=6\n",
    "jam=6, i=4==> jam=6+4=10\n"
   ]
  },
  {
   "cell_type": "markdown",
   "id": "50e7db82",
   "metadata": {},
   "source": [
    "# gereftane range for az karbar "
   ]
  },
  {
   "cell_type": "code",
   "execution_count": 12,
   "id": "ca4d57b2",
   "metadata": {},
   "outputs": [
    {
     "name": "stdout",
     "output_type": "stream",
     "text": [
      "Please enter one number:100\n",
      "5050\n"
     ]
    }
   ],
   "source": [
    "jam=0\n",
    "number=int(input(\"Please enter one number:\"))\n",
    "for i in range(1,number+1):\n",
    "    jam=jam+i\n",
    "    \n",
    "print(jam)"
   ]
  },
  {
   "cell_type": "markdown",
   "id": "480e1c1f",
   "metadata": {},
   "source": [
    "# factoriel"
   ]
  },
  {
   "cell_type": "code",
   "execution_count": 14,
   "id": "e4ed893d",
   "metadata": {},
   "outputs": [
    {
     "name": "stdout",
     "output_type": "stream",
     "text": [
      "Please enter the number that you want for factoriel:6\n",
      "720\n"
     ]
    }
   ],
   "source": [
    "#5!=120\n",
    "fact=1\n",
    "number=int(input(\"Please enter the number that you want for factoriel:\"))\n",
    "for i in range(1,number+1):\n",
    "    fact=fact*i\n",
    "print(fact)"
   ]
  },
  {
   "cell_type": "markdown",
   "id": "96e64e1b",
   "metadata": {},
   "source": [
    "fact=1,i=1==> fact=fact*i==> fact=1*1=1\n",
    "fact=1,i=2==> fact=1*2=2\n",
    "fact=2,i=3==> fact=2*3=6\n",
    "fact=6,i=4==> fact=6*4=24\n",
    "fact=24,i=5==> fact=24*5=120"
   ]
  },
  {
   "cell_type": "markdown",
   "id": "09d44ff5",
   "metadata": {},
   "source": [
    "# for to dar to==> dar yek halghe, halgheye digar dashte bashim"
   ]
  },
  {
   "cell_type": "markdown",
   "id": "f3d87fea",
   "metadata": {},
   "source": [
    "## jadval zarb"
   ]
  },
  {
   "cell_type": "code",
   "execution_count": 16,
   "id": "de774a98",
   "metadata": {},
   "outputs": [
    {
     "name": "stdout",
     "output_type": "stream",
     "text": [
      "1 2 3 4 5 6 7 8 9 10 \n",
      "2 4 6 8 10 12 14 16 18 20 \n",
      "3 6 9 12 15 18 21 24 27 30 \n",
      "4 8 12 16 20 24 28 32 36 40 \n",
      "5 10 15 20 25 30 35 40 45 50 \n",
      "6 12 18 24 30 36 42 48 54 60 \n",
      "7 14 21 28 35 42 49 56 63 70 \n",
      "8 16 24 32 40 48 56 64 72 80 \n",
      "9 18 27 36 45 54 63 72 81 90 \n",
      "10 20 30 40 50 60 70 80 90 100 \n"
     ]
    }
   ],
   "source": [
    "for i in range(1,11):\n",
    "    for j in range(1,11):\n",
    "        print(i*j,end=\" \")\n",
    "    print()"
   ]
  },
  {
   "cell_type": "code",
   "execution_count": 18,
   "id": "b7a2c68f",
   "metadata": {},
   "outputs": [
    {
     "name": "stdout",
     "output_type": "stream",
     "text": [
      "please enter one number:7\n",
      "* \n",
      "* * \n",
      "* * * \n",
      "* * * * \n",
      "* * * * * \n",
      "* * * * * * \n",
      "* * * * * * * \n"
     ]
    }
   ],
   "source": [
    "number=int(input(\"please enter one number:\"))\n",
    "for i in range(1,number+1):\n",
    "    for j in range(1,i+1):\n",
    "        print(\"*\",end=\" \")\n",
    "    print()"
   ]
  },
  {
   "cell_type": "code",
   "execution_count": null,
   "id": "820a907d",
   "metadata": {},
   "outputs": [],
   "source": []
  }
 ],
 "metadata": {
  "kernelspec": {
   "display_name": "Python 3 (ipykernel)",
   "language": "python",
   "name": "python3"
  },
  "language_info": {
   "codemirror_mode": {
    "name": "ipython",
    "version": 3
   },
   "file_extension": ".py",
   "mimetype": "text/x-python",
   "name": "python",
   "nbconvert_exporter": "python",
   "pygments_lexer": "ipython3",
   "version": "3.11.5"
  }
 },
 "nbformat": 4,
 "nbformat_minor": 5
}
