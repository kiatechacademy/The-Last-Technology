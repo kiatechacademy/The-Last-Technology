{
 "cells": [
  {
   "cell_type": "markdown",
   "id": "3d3b1fbf",
   "metadata": {},
   "source": [
    "# repetition"
   ]
  },
  {
   "cell_type": "code",
   "execution_count": 2,
   "id": "fe0c338c",
   "metadata": {},
   "outputs": [
    {
     "name": "stdout",
     "output_type": "stream",
     "text": [
      "[1, 2, 3, 4, 5, 1, 2, 3, 4, 5, 1, 2, 3, 4, 5]\n"
     ]
    }
   ],
   "source": [
    "numbers=[1,2,3,4,5]\n",
    "repeated=numbers*3\n",
    "print(repeated)"
   ]
  },
  {
   "cell_type": "markdown",
   "id": "851bc610",
   "metadata": {},
   "source": [
    "# gardesh dar list"
   ]
  },
  {
   "cell_type": "code",
   "execution_count": 3,
   "id": "d5e95e67",
   "metadata": {},
   "outputs": [
    {
     "name": "stdout",
     "output_type": "stream",
     "text": [
      "20\n",
      "40\n",
      "60\n",
      "80\n",
      "100\n",
      "[20, 40, 60, 80, 100]\n"
     ]
    }
   ],
   "source": [
    "numbers=[10,20,30,40,50]\n",
    "numbers2=[]\n",
    "for i in numbers:\n",
    "    print(i*2)\n",
    "    numbers2.append(i*2)\n",
    "print(numbers2)"
   ]
  },
  {
   "cell_type": "code",
   "execution_count": 4,
   "id": "2573c891",
   "metadata": {},
   "outputs": [
    {
     "name": "stdout",
     "output_type": "stream",
     "text": [
      "[20, 40, 60, 80, 100]\n"
     ]
    }
   ],
   "source": [
    "numbers=[10,20,30,40,50]\n",
    "numbers2=[i*2 for i in numbers]\n",
    "print(numbers2)"
   ]
  },
  {
   "cell_type": "markdown",
   "id": "d9cc9178",
   "metadata": {},
   "source": [
    "# amaliat nazir be nazir bar roye list ha"
   ]
  },
  {
   "cell_type": "code",
   "execution_count": 6,
   "id": "1d769173",
   "metadata": {},
   "outputs": [
    {
     "name": "stdout",
     "output_type": "stream",
     "text": [
      "[7, 9, 11, 13, 15]\n"
     ]
    }
   ],
   "source": [
    "numbers1=[1,2,3,4,5]\n",
    "numbers2=[6,7,8,9,10]\n",
    "result=[numbers1[i]+numbers2[i] for i in range(len(numbers1))]\n",
    "print(result)"
   ]
  },
  {
   "cell_type": "markdown",
   "id": "eb0e2c3c",
   "metadata": {},
   "source": [
    "# ijade shart baraye list"
   ]
  },
  {
   "cell_type": "code",
   "execution_count": 7,
   "id": "94c43825",
   "metadata": {},
   "outputs": [
    {
     "name": "stdout",
     "output_type": "stream",
     "text": [
      "[3, 4, 5]\n"
     ]
    }
   ],
   "source": [
    "numbers=[-1,-2,-3,3,4,5]\n",
    "res=[i for i in numbers if i>=0]\n",
    "print(res)"
   ]
  },
  {
   "cell_type": "code",
   "execution_count": 8,
   "id": "42f08b55",
   "metadata": {},
   "outputs": [
    {
     "name": "stdout",
     "output_type": "stream",
     "text": [
      "[3, 4, 5]\n"
     ]
    }
   ],
   "source": [
    "numbers=[-1,-2,-3,3,4,5]\n",
    "res=[]\n",
    "for i in numbers:\n",
    "    if i>=0:\n",
    "        res.append(i)\n",
    "print(res)"
   ]
  },
  {
   "cell_type": "markdown",
   "id": "c53be4bf",
   "metadata": {},
   "source": [
    "# list membership==> aya chizi ke made nazare ma mibashad dar list vojod darad ya kheir"
   ]
  },
  {
   "cell_type": "code",
   "execution_count": 11,
   "id": "91c5b582",
   "metadata": {},
   "outputs": [
    {
     "name": "stdout",
     "output_type": "stream",
     "text": [
      "True\n",
      "False\n",
      "False\n",
      "True\n"
     ]
    }
   ],
   "source": [
    "mixed=[12,20,45.5,\"ali\",\"a\",\"amir\"]\n",
    "print(\"ali\" in mixed)\n",
    "print(\"tech\" in mixed)\n",
    "print(60 in mixed)\n",
    "print(20 in mixed)"
   ]
  },
  {
   "cell_type": "code",
   "execution_count": 13,
   "id": "86ce0290",
   "metadata": {},
   "outputs": [
    {
     "name": "stdout",
     "output_type": "stream",
     "text": [
      "Please enter your city:esfehan\n",
      "esfehan is not in our list\n"
     ]
    }
   ],
   "source": [
    "city=input(\"Please enter your city:\")\n",
    "cities=[\"Tehran\",\"Mashhad\",\"Shiraz\"]\n",
    "if city in cities:\n",
    "    res=cities.index(city)\n",
    "    print(f\"{city} with index of {res}\")\n",
    "else:\n",
    "    print(f\"{city} is not in our list\")"
   ]
  },
  {
   "cell_type": "code",
   "execution_count": 18,
   "id": "e6590c41",
   "metadata": {},
   "outputs": [
    {
     "name": "stdout",
     "output_type": "stream",
     "text": [
      "Please enter your number:30\n",
      "30 with index of 2\n"
     ]
    }
   ],
   "source": [
    "number=int(input(\"Please enter your number:\"))\n",
    "numbers=[10,20,30]\n",
    "if number in numbers:\n",
    "    res=numbers.index(number)\n",
    "    print(f\"{number} with index of {res}\")\n",
    "else:\n",
    "    print(f\"{number} is not in our list\")"
   ]
  },
  {
   "cell_type": "markdown",
   "id": "21237ce2",
   "metadata": {},
   "source": [
    "# filtersaion"
   ]
  },
  {
   "cell_type": "code",
   "execution_count": 19,
   "id": "d3e25a6a",
   "metadata": {},
   "outputs": [
    {
     "name": "stdout",
     "output_type": "stream",
     "text": [
      "[20, 16, 20, 19]\n"
     ]
    }
   ],
   "source": [
    "scores=[10,8,20,16,6,3.5,4,20,19,12,14]\n",
    "filt=[]\n",
    "for i in scores:\n",
    "    if i>15:\n",
    "        filt.append(i)\n",
    "print(filt)"
   ]
  },
  {
   "cell_type": "code",
   "execution_count": 20,
   "id": "533fae0b",
   "metadata": {},
   "outputs": [
    {
     "name": "stdout",
     "output_type": "stream",
     "text": [
      "[20, 16, 20, 19]\n"
     ]
    }
   ],
   "source": [
    "scores=[10,8,20,16,6,3.5,4,20,19,12,14]\n",
    "filt=[i for i in scores if i>15]\n",
    "print(filt)"
   ]
  },
  {
   "cell_type": "markdown",
   "id": "16462bf2",
   "metadata": {},
   "source": [
    "# tabdil"
   ]
  },
  {
   "cell_type": "code",
   "execution_count": 21,
   "id": "0681d972",
   "metadata": {},
   "outputs": [
    {
     "name": "stdout",
     "output_type": "stream",
     "text": [
      "Please enter one text:ali\n",
      "ali\n",
      "['a', 'l', 'i']\n"
     ]
    }
   ],
   "source": [
    "text=input(\"Please enter one text:\")\n",
    "print(text)\n",
    "lst=list(text)\n",
    "print(lst)"
   ]
  },
  {
   "cell_type": "markdown",
   "id": "71fa393c",
   "metadata": {},
   "source": [
    "# raveshe sakhte list ba dastore range"
   ]
  },
  {
   "cell_type": "code",
   "execution_count": 24,
   "id": "e6963dd7",
   "metadata": {},
   "outputs": [
    {
     "name": "stdout",
     "output_type": "stream",
     "text": [
      "[0, 1, 2, 3, 4, 5, 6, 7, 8, 9, 10, 11, 12, 13, 14, 15, 16, 17, 18, 19, 20]\n"
     ]
    }
   ],
   "source": [
    "lst=list(range(21))\n",
    "print(lst)"
   ]
  },
  {
   "cell_type": "code",
   "execution_count": null,
   "id": "f650075b",
   "metadata": {},
   "outputs": [],
   "source": []
  }
 ],
 "metadata": {
  "kernelspec": {
   "display_name": "Python 3 (ipykernel)",
   "language": "python",
   "name": "python3"
  },
  "language_info": {
   "codemirror_mode": {
    "name": "ipython",
    "version": 3
   },
   "file_extension": ".py",
   "mimetype": "text/x-python",
   "name": "python",
   "nbconvert_exporter": "python",
   "pygments_lexer": "ipython3",
   "version": "3.11.5"
  }
 },
 "nbformat": 4,
 "nbformat_minor": 5
}
