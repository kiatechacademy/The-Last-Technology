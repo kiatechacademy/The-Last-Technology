{
 "cells": [
  {
   "cell_type": "markdown",
   "id": "9ae9b6e2",
   "metadata": {},
   "source": [
    "# set"
   ]
  },
  {
   "cell_type": "markdown",
   "id": "244bdf03",
   "metadata": {},
   "source": [
    "# creating set"
   ]
  },
  {
   "cell_type": "code",
   "execution_count": 1,
   "id": "94b752e2",
   "metadata": {},
   "outputs": [
    {
     "name": "stdout",
     "output_type": "stream",
     "text": [
      "{'orange', 'apple', 'banana'} <class 'set'>\n"
     ]
    }
   ],
   "source": [
    "fruits={\"apple\",\"banana\",\"orange\"}\n",
    "print(fruits,type(fruits))"
   ]
  },
  {
   "cell_type": "code",
   "execution_count": 3,
   "id": "6ea1ae64",
   "metadata": {},
   "outputs": [
    {
     "name": "stdout",
     "output_type": "stream",
     "text": [
      "{'bmw', 'benz', 'ford', 'ferari'}\n"
     ]
    }
   ],
   "source": [
    "companies={\"bmw\",\"benz\",\"ferari\",\"ford\",\"benz\"}\n",
    "print(companies)"
   ]
  },
  {
   "cell_type": "code",
   "execution_count": 4,
   "id": "b4065975",
   "metadata": {},
   "outputs": [
    {
     "name": "stdout",
     "output_type": "stream",
     "text": [
      "{1, 2, 3, 4, 5}\n"
     ]
    }
   ],
   "source": [
    "numbers={1,2,3,4,5,1,2,3,4,5}\n",
    "print(numbers)"
   ]
  },
  {
   "cell_type": "code",
   "execution_count": 5,
   "id": "a04fb1a4",
   "metadata": {},
   "outputs": [
    {
     "ename": "TypeError",
     "evalue": "unhashable type: 'list'",
     "output_type": "error",
     "traceback": [
      "\u001b[1;31m---------------------------------------------------------------------------\u001b[0m",
      "\u001b[1;31mTypeError\u001b[0m                                 Traceback (most recent call last)",
      "Cell \u001b[1;32mIn[5], line 1\u001b[0m\n\u001b[1;32m----> 1\u001b[0m companies\u001b[38;5;241m=\u001b[39m{\u001b[38;5;124m\"\u001b[39m\u001b[38;5;124mbenz\u001b[39m\u001b[38;5;124m\"\u001b[39m,\u001b[38;5;124m\"\u001b[39m\u001b[38;5;124mbmw\u001b[39m\u001b[38;5;124m\"\u001b[39m,[\u001b[38;5;241m1\u001b[39m,\u001b[38;5;241m2\u001b[39m,\u001b[38;5;241m3\u001b[39m,\u001b[38;5;241m4\u001b[39m]}\n\u001b[0;32m      2\u001b[0m \u001b[38;5;28mprint\u001b[39m(companies)\n",
      "\u001b[1;31mTypeError\u001b[0m: unhashable type: 'list'"
     ]
    }
   ],
   "source": [
    "companies={\"benz\",\"bmw\",[1,2,3,4]}\n",
    "print(companies)"
   ]
  },
  {
   "cell_type": "markdown",
   "id": "d9524cd3",
   "metadata": {},
   "source": [
    "# dastresi be ozv haye set"
   ]
  },
  {
   "cell_type": "code",
   "execution_count": 6,
   "id": "8e027857",
   "metadata": {},
   "outputs": [
    {
     "name": "stdout",
     "output_type": "stream",
     "text": [
      "10\n"
     ]
    }
   ],
   "source": [
    "numbers={10,20,30,40}\n",
    "for i in numbers:\n",
    "    if i==10:\n",
    "        print(i)"
   ]
  },
  {
   "cell_type": "code",
   "execution_count": 1,
   "id": "f586b063",
   "metadata": {},
   "outputs": [
    {
     "name": "stdout",
     "output_type": "stream",
     "text": [
      "20\n",
      "30\n"
     ]
    }
   ],
   "source": [
    "numbers2={10,20,30,40,50}\n",
    "for i in numbers2:\n",
    "    if i>10 and i<40:\n",
    "        print(i)"
   ]
  },
  {
   "cell_type": "code",
   "execution_count": 2,
   "id": "4c7c0026",
   "metadata": {},
   "outputs": [
    {
     "ename": "TypeError",
     "evalue": "'set' object is not subscriptable",
     "output_type": "error",
     "traceback": [
      "\u001b[1;31m---------------------------------------------------------------------------\u001b[0m",
      "\u001b[1;31mTypeError\u001b[0m                                 Traceback (most recent call last)",
      "Cell \u001b[1;32mIn[2], line 1\u001b[0m\n\u001b[1;32m----> 1\u001b[0m \u001b[38;5;28mprint\u001b[39m(numbers2[\u001b[38;5;241m0\u001b[39m])\n",
      "\u001b[1;31mTypeError\u001b[0m: 'set' object is not subscriptable"
     ]
    }
   ],
   "source": [
    "print(numbers2[0])"
   ]
  },
  {
   "cell_type": "markdown",
   "id": "6558b165",
   "metadata": {},
   "source": [
    "# Methods"
   ]
  },
  {
   "cell_type": "markdown",
   "id": "06a4605e",
   "metadata": {},
   "source": [
    "# len=> toole set "
   ]
  },
  {
   "cell_type": "code",
   "execution_count": 3,
   "id": "e02d3135",
   "metadata": {},
   "outputs": [
    {
     "name": "stdout",
     "output_type": "stream",
     "text": [
      "5\n"
     ]
    }
   ],
   "source": [
    "numbers2={10,20,30,40,50}\n",
    "print(len(numbers2))"
   ]
  },
  {
   "cell_type": "markdown",
   "id": "f2fa5b6d",
   "metadata": {},
   "source": [
    "# membership==> aya yek ozve khas ra dar set darim  ya kheir"
   ]
  },
  {
   "cell_type": "code",
   "execution_count": 4,
   "id": "d11079f0",
   "metadata": {},
   "outputs": [
    {
     "data": {
      "text/plain": [
       "True"
      ]
     },
     "execution_count": 4,
     "metadata": {},
     "output_type": "execute_result"
    }
   ],
   "source": [
    "numbers={1,2,3,4,5,6}\n",
    "2 in numbers"
   ]
  },
  {
   "cell_type": "code",
   "execution_count": 5,
   "id": "458c5d35",
   "metadata": {},
   "outputs": [
    {
     "data": {
      "text/plain": [
       "True"
      ]
     },
     "execution_count": 5,
     "metadata": {},
     "output_type": "execute_result"
    }
   ],
   "source": [
    "3 in numbers"
   ]
  },
  {
   "cell_type": "code",
   "execution_count": 6,
   "id": "641ce0b7",
   "metadata": {},
   "outputs": [
    {
     "data": {
      "text/plain": [
       "False"
      ]
     },
     "execution_count": 6,
     "metadata": {},
     "output_type": "execute_result"
    }
   ],
   "source": [
    "10 in numbers"
   ]
  },
  {
   "cell_type": "markdown",
   "id": "5c9c018f",
   "metadata": {},
   "source": [
    "# add==> ezafe kardan yek ozv be set"
   ]
  },
  {
   "cell_type": "code",
   "execution_count": 7,
   "id": "b70f26b1",
   "metadata": {},
   "outputs": [
    {
     "name": "stdout",
     "output_type": "stream",
     "text": [
      "{'dara', 'ali', 'amin', 'sara', 'amir'}\n"
     ]
    }
   ],
   "source": [
    "names={\"ali\",\"amir\",\"sara\",\"dara\"}\n",
    "names.add(\"amin\")\n",
    "print(names)"
   ]
  },
  {
   "cell_type": "markdown",
   "id": "d2ac49a5",
   "metadata": {},
   "source": [
    "# update==> character ezafe mikond"
   ]
  },
  {
   "cell_type": "code",
   "execution_count": 10,
   "id": "3f9a82ef",
   "metadata": {},
   "outputs": [
    {
     "name": "stdout",
     "output_type": "stream",
     "text": [
      "{'ali', 'amin', 'sara', 'k', 'amir'}\n"
     ]
    }
   ],
   "source": [
    "names={\"ali\",\"amir\",\"amin\",\"sara\"}\n",
    "names.update(\"k\")\n",
    "print(names)"
   ]
  },
  {
   "cell_type": "markdown",
   "id": "efb1b0bf",
   "metadata": {},
   "source": [
    "# clear==> pak kardane kole ozv haye set"
   ]
  },
  {
   "cell_type": "code",
   "execution_count": 11,
   "id": "89160ae4",
   "metadata": {},
   "outputs": [
    {
     "name": "stdout",
     "output_type": "stream",
     "text": [
      "set()\n"
     ]
    }
   ],
   "source": [
    "names={\"ali\",\"amir\",\"amin\",\"sara\"}\n",
    "names.clear()\n",
    "print(names)"
   ]
  },
  {
   "cell_type": "markdown",
   "id": "bca22a47",
   "metadata": {},
   "source": [
    "# remove==> ozve morede nazar ra pak mikond vali agar nabashad error midahad"
   ]
  },
  {
   "cell_type": "code",
   "execution_count": 12,
   "id": "2778f3cc",
   "metadata": {},
   "outputs": [
    {
     "name": "stdout",
     "output_type": "stream",
     "text": [
      "{50, 40, 10, 30}\n"
     ]
    }
   ],
   "source": [
    "numbers2={10,20,30,40,50}\n",
    "numbers2.remove(20)\n",
    "print(numbers2)"
   ]
  },
  {
   "cell_type": "code",
   "execution_count": 13,
   "id": "6e4dec8b",
   "metadata": {},
   "outputs": [
    {
     "ename": "KeyError",
     "evalue": "100",
     "output_type": "error",
     "traceback": [
      "\u001b[1;31m---------------------------------------------------------------------------\u001b[0m",
      "\u001b[1;31mKeyError\u001b[0m                                  Traceback (most recent call last)",
      "Cell \u001b[1;32mIn[13], line 1\u001b[0m\n\u001b[1;32m----> 1\u001b[0m numbers\u001b[38;5;241m.\u001b[39mremove(\u001b[38;5;241m100\u001b[39m)\n",
      "\u001b[1;31mKeyError\u001b[0m: 100"
     ]
    }
   ],
   "source": [
    "numbers.remove(100)"
   ]
  },
  {
   "cell_type": "markdown",
   "id": "e9916eeb",
   "metadata": {},
   "source": [
    "# discard==> pak mikonad ozve morede nazar ra va agar nabashad hich errori nemidahad"
   ]
  },
  {
   "cell_type": "code",
   "execution_count": 14,
   "id": "10417e89",
   "metadata": {},
   "outputs": [
    {
     "name": "stdout",
     "output_type": "stream",
     "text": [
      "{50, 40, 10, 30}\n"
     ]
    }
   ],
   "source": [
    "numbers2={10,20,30,40,50}\n",
    "numbers2.discard(20)\n",
    "print(numbers2)"
   ]
  },
  {
   "cell_type": "code",
   "execution_count": 15,
   "id": "b9093db3",
   "metadata": {},
   "outputs": [],
   "source": [
    "numbers.discard(100)"
   ]
  },
  {
   "cell_type": "markdown",
   "id": "06b12d75",
   "metadata": {},
   "source": [
    "# copy==> copy mikonad"
   ]
  },
  {
   "cell_type": "code",
   "execution_count": 17,
   "id": "f3a03a98",
   "metadata": {},
   "outputs": [
    {
     "name": "stdout",
     "output_type": "stream",
     "text": [
      "{50, 20, 40, 10, 30}\n",
      "{50, 20, 40, 10, 30}\n"
     ]
    }
   ],
   "source": [
    "numbers2={10,20,30,40,50}\n",
    "numbers3=numbers2.copy()\n",
    "print(numbers2)\n",
    "print(numbers3)"
   ]
  },
  {
   "cell_type": "markdown",
   "id": "c0b29e91",
   "metadata": {},
   "source": [
    "# difference==> ekhtelafe set1 va set2 ra midahad"
   ]
  },
  {
   "cell_type": "code",
   "execution_count": 18,
   "id": "c0c4d992",
   "metadata": {},
   "outputs": [
    {
     "name": "stdout",
     "output_type": "stream",
     "text": [
      "{'microsoft'}\n"
     ]
    }
   ],
   "source": [
    "companies={\"apple\",\"google\",\"microsoft\"}\n",
    "companies2={\"ibm\",\"google\",\"apple\"}\n",
    "dif=companies.difference(companies2)\n",
    "print(dif)"
   ]
  },
  {
   "cell_type": "code",
   "execution_count": 19,
   "id": "bdf86b07",
   "metadata": {},
   "outputs": [
    {
     "name": "stdout",
     "output_type": "stream",
     "text": [
      "{'ibm'}\n"
     ]
    }
   ],
   "source": [
    "companies={\"apple\",\"google\",\"microsoft\"}\n",
    "companies2={\"ibm\",\"google\",\"apple\"}\n",
    "dif=companies2.difference(companies)\n",
    "print(dif)"
   ]
  },
  {
   "cell_type": "markdown",
   "id": "56c956bc",
   "metadata": {},
   "source": [
    "# intersection==> eshterak dehi"
   ]
  },
  {
   "cell_type": "code",
   "execution_count": 21,
   "id": "18afdc2f",
   "metadata": {},
   "outputs": [
    {
     "name": "stdout",
     "output_type": "stream",
     "text": [
      "{'c'}\n"
     ]
    }
   ],
   "source": [
    "x={\"a\",\"b\",\"c\"}\n",
    "y={\"c\",\"d\",\"e\"}\n",
    "z={\"f\",\"g\",\"c\"}\n",
    "res=y.intersection(x,z)\n",
    "print(res)"
   ]
  },
  {
   "cell_type": "code",
   "execution_count": 24,
   "id": "674e7029",
   "metadata": {},
   "outputs": [
    {
     "name": "stdout",
     "output_type": "stream",
     "text": [
      "{'c', 'b'}\n"
     ]
    }
   ],
   "source": [
    "x={\"a\",\"b\",\"c\"}\n",
    "y={\"c\",\"b\",\"e\"}\n",
    "z={\"b\",\"g\",\"c\"}\n",
    "res=x.intersection(y,z)\n",
    "print(res)"
   ]
  },
  {
   "cell_type": "markdown",
   "id": "50c05751",
   "metadata": {},
   "source": [
    "# union==> ejtemaiy az set hara be ma midahad"
   ]
  },
  {
   "cell_type": "code",
   "execution_count": 25,
   "id": "e08655b0",
   "metadata": {},
   "outputs": [
    {
     "name": "stdout",
     "output_type": "stream",
     "text": [
      "{'e', 'a', 'c', 'b'}\n"
     ]
    }
   ],
   "source": [
    "x={\"a\",\"b\",\"c\"}\n",
    "y={\"c\",\"b\",\"e\"}\n",
    "res=x.union(y)\n",
    "print(res)"
   ]
  },
  {
   "cell_type": "code",
   "execution_count": null,
   "id": "127dd9e5",
   "metadata": {},
   "outputs": [],
   "source": []
  }
 ],
 "metadata": {
  "kernelspec": {
   "display_name": "Python 3 (ipykernel)",
   "language": "python",
   "name": "python3"
  },
  "language_info": {
   "codemirror_mode": {
    "name": "ipython",
    "version": 3
   },
   "file_extension": ".py",
   "mimetype": "text/x-python",
   "name": "python",
   "nbconvert_exporter": "python",
   "pygments_lexer": "ipython3",
   "version": "3.11.5"
  }
 },
 "nbformat": 4,
 "nbformat_minor": 5
}
