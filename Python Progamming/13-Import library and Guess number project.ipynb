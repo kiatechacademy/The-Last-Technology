{
 "cells": [
  {
   "cell_type": "markdown",
   "id": "59c46fcf",
   "metadata": {},
   "source": [
    "# nahveye farakhanie ketabkhonehaiy ke dar python niazi be nasb nadarnd"
   ]
  },
  {
   "cell_type": "code",
   "execution_count": 2,
   "id": "0d4dc7cc",
   "metadata": {},
   "outputs": [],
   "source": [
    "import numpy as np"
   ]
  },
  {
   "cell_type": "markdown",
   "id": "15a75262",
   "metadata": {},
   "source": [
    "# adad tasadofi ijad konim"
   ]
  },
  {
   "cell_type": "code",
   "execution_count": 3,
   "id": "0793a16d",
   "metadata": {},
   "outputs": [
    {
     "name": "stdout",
     "output_type": "stream",
     "text": [
      "93\n"
     ]
    }
   ],
   "source": [
    "random=np.random.randint(1,100)\n",
    "print(random)"
   ]
  },
  {
   "cell_type": "code",
   "execution_count": 1,
   "id": "e10520a5",
   "metadata": {},
   "outputs": [
    {
     "name": "stdout",
     "output_type": "stream",
     "text": [
      "11\n"
     ]
    }
   ],
   "source": [
    "import numpy as np\n",
    "random=np.random.randint(1,100)\n",
    "print(random)"
   ]
  },
  {
   "cell_type": "markdown",
   "id": "491be7eb",
   "metadata": {},
   "source": [
    "# guess number ya hads adad"
   ]
  },
  {
   "cell_type": "code",
   "execution_count": 3,
   "id": "367cbf87",
   "metadata": {},
   "outputs": [
    {
     "name": "stdout",
     "output_type": "stream",
     "text": [
      "Please guess the number:50\n",
      "wrong, guess the higher number\n",
      "Please guess the number:70\n",
      "wrong, guess the lower number\n",
      "Please guess the number:60\n",
      "wrong, guess the higher number\n",
      "Please guess the number:65\n",
      "wrong, guess the lower number\n",
      "Please guess the number:63\n",
      "wrong, guess the higher number\n",
      "Please guess the number:64\n",
      "Correct,good job\n"
     ]
    }
   ],
   "source": [
    "import numpy as np\n",
    "random=np.random.randint(1,100)\n",
    "score=0\n",
    "while score==0:\n",
    "    number=int(input(\"Please guess the number:\"))\n",
    "    \n",
    "    if number>random:\n",
    "        print(\"wrong, guess the lower number\")\n",
    "    elif number<random:\n",
    "        print(\"wrong, guess the higher number\")\n",
    "    else:\n",
    "        score=1\n",
    "        \n",
    "print(\"Correct,good job\")"
   ]
  },
  {
   "cell_type": "code",
   "execution_count": null,
   "id": "4586c6e4",
   "metadata": {},
   "outputs": [],
   "source": []
  }
 ],
 "metadata": {
  "kernelspec": {
   "display_name": "Python 3 (ipykernel)",
   "language": "python",
   "name": "python3"
  },
  "language_info": {
   "codemirror_mode": {
    "name": "ipython",
    "version": 3
   },
   "file_extension": ".py",
   "mimetype": "text/x-python",
   "name": "python",
   "nbconvert_exporter": "python",
   "pygments_lexer": "ipython3",
   "version": "3.11.5"
  }
 },
 "nbformat": 4,
 "nbformat_minor": 5
}
