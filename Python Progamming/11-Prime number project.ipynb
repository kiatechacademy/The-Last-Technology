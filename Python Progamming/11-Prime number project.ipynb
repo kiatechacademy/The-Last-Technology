{
 "cells": [
  {
   "cell_type": "markdown",
   "id": "d877a893",
   "metadata": {},
   "source": [
    "# Prime number ya adad aval ba for "
   ]
  },
  {
   "cell_type": "code",
   "execution_count": 7,
   "id": "8a8d4687",
   "metadata": {},
   "outputs": [
    {
     "name": "stdout",
     "output_type": "stream",
     "text": [
      "Please enter a number:19\n",
      " 19 is prime\n"
     ]
    }
   ],
   "source": [
    "number=int(input(\"Please enter a number:\"))\n",
    "counter=0\n",
    "for i in range(1,number+1):\n",
    "    if number%i==0:\n",
    "        counter=counter+1\n",
    "\n",
    "if counter==2:\n",
    "    print(f\" {number} is prime\")\n",
    "else:\n",
    "    print(f\" {number} is not prime\")"
   ]
  },
  {
   "cell_type": "markdown",
   "id": "19f0addf",
   "metadata": {},
   "source": [
    "# prime number ya adad aval ba while"
   ]
  },
  {
   "cell_type": "code",
   "execution_count": 12,
   "id": "3f4e14fd",
   "metadata": {},
   "outputs": [
    {
     "name": "stdout",
     "output_type": "stream",
     "text": [
      "Please enter a number:13\n",
      " 13 is prime\n"
     ]
    }
   ],
   "source": [
    "i=1\n",
    "number=int(input(\"Please enter a number:\"))\n",
    "counter=0\n",
    "while i<number+1:\n",
    "    if number%i==0:\n",
    "        counter=counter+1\n",
    "    i=i+1\n",
    "if counter==2:\n",
    "    print(f\" {number} is prime\")\n",
    "else:\n",
    "    print(f\" {number} is not prime\")"
   ]
  },
  {
   "cell_type": "markdown",
   "id": "a0747519",
   "metadata": {},
   "source": [
    "# hameye adade aval ta adade morede nazare karbar"
   ]
  },
  {
   "cell_type": "code",
   "execution_count": 14,
   "id": "ecb189de",
   "metadata": {},
   "outputs": [
    {
     "name": "stdout",
     "output_type": "stream",
     "text": [
      "Please enter a number that you want to know about prime numbers:7\n",
      "2\n",
      "3\n",
      "5\n",
      "7\n"
     ]
    }
   ],
   "source": [
    "number=int(input(\"Please enter a number that you want to know about prime numbers:\"))\n",
    "counter=0\n",
    "for i in range(1,number+1): # adad (1,9)\n",
    "    counter=0\n",
    "    for j in range(1,i+1): # ( aya 1 adad aval ast, aya 2 adad aval ast , aya 3 adad aval ast....)\n",
    "        if i%j==0: \n",
    "            counter=counter+1\n",
    "    if counter==2:\n",
    "        print(i)"
   ]
  },
  {
   "cell_type": "code",
   "execution_count": null,
   "id": "62ffb619",
   "metadata": {},
   "outputs": [],
   "source": []
  }
 ],
 "metadata": {
  "kernelspec": {
   "display_name": "Python 3 (ipykernel)",
   "language": "python",
   "name": "python3"
  },
  "language_info": {
   "codemirror_mode": {
    "name": "ipython",
    "version": 3
   },
   "file_extension": ".py",
   "mimetype": "text/x-python",
   "name": "python",
   "nbconvert_exporter": "python",
   "pygments_lexer": "ipython3",
   "version": "3.11.5"
  }
 },
 "nbformat": 4,
 "nbformat_minor": 5
}
