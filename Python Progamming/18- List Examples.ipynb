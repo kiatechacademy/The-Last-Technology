{
 "cells": [
  {
   "cell_type": "markdown",
   "id": "cb10bdcd",
   "metadata": {},
   "source": [
    "# difference between i in numbers and i in range(len(numbers))"
   ]
  },
  {
   "cell_type": "code",
   "execution_count": 7,
   "id": "1bc32e54",
   "metadata": {},
   "outputs": [
    {
     "name": "stdout",
     "output_type": "stream",
     "text": [
      "1\n",
      "2\n",
      "3\n",
      "4\n",
      "5\n",
      "6\n",
      "7\n",
      "8\n",
      "9\n",
      "10\n"
     ]
    }
   ],
   "source": [
    "numbers=[1,2,3,4,5,6,7,8,9,10]\n",
    "lst=[]\n",
    "for i in range(len(numbers)):\n",
    "    print(numbers[i])\n",
    "    #print(i)"
   ]
  },
  {
   "cell_type": "code",
   "execution_count": 5,
   "id": "e306fff6",
   "metadata": {},
   "outputs": [
    {
     "name": "stdout",
     "output_type": "stream",
     "text": [
      "1\n",
      "2\n",
      "3\n",
      "4\n",
      "5\n",
      "6\n",
      "7\n",
      "8\n",
      "9\n",
      "10\n"
     ]
    }
   ],
   "source": [
    "numbers=[1,2,3,4,5,6,7,8,9,10]\n",
    "for i in numbers:\n",
    "    print(i)"
   ]
  },
  {
   "cell_type": "code",
   "execution_count": 8,
   "id": "10391f8a",
   "metadata": {},
   "outputs": [
    {
     "name": "stdout",
     "output_type": "stream",
     "text": [
      "10\n",
      "15\n",
      "20\n"
     ]
    }
   ],
   "source": [
    "scores=[10,15,20]\n",
    "for i in scores:\n",
    "    print(i)"
   ]
  },
  {
   "cell_type": "code",
   "execution_count": 10,
   "id": "b3565e67",
   "metadata": {},
   "outputs": [
    {
     "name": "stdout",
     "output_type": "stream",
     "text": [
      "10\n",
      "15\n",
      "20\n"
     ]
    }
   ],
   "source": [
    "scores=[10,15,20]\n",
    "for i in range(len(scores)):\n",
    "    print(scores[i])"
   ]
  },
  {
   "cell_type": "markdown",
   "id": "762f6337",
   "metadata": {},
   "source": [
    "# examples"
   ]
  },
  {
   "cell_type": "code",
   "execution_count": 11,
   "id": "8e752d58",
   "metadata": {},
   "outputs": [
    {
     "name": "stdout",
     "output_type": "stream",
     "text": [
      "3\n",
      "6\n",
      "4\n",
      "4\n",
      "4\n",
      "6\n",
      "7\n"
     ]
    }
   ],
   "source": [
    "names=[\"ali\",\"mohsen\",\"dara\",\"sara\",\"amir\",\"mahtab\",\"amirali\"]\n",
    "names2=[]\n",
    "for i in range(len(names)):\n",
    "    length=len(names[i])\n",
    "    print(length)"
   ]
  },
  {
   "cell_type": "code",
   "execution_count": 12,
   "id": "f14c9292",
   "metadata": {},
   "outputs": [
    {
     "name": "stdout",
     "output_type": "stream",
     "text": [
      "7\n",
      "6\n"
     ]
    }
   ],
   "source": [
    "names=[\"ali\",\"mohsen\",\"dara\",\"sara\",\"amir\",\"mahtab\",\"amirali\"]\n",
    "names2=[]\n",
    "for i in range(len(names)):\n",
    "    length=len(names[i])\n",
    "    names2.append(length)\n",
    "print(max(names2))\n",
    "print(names2.index(max(names2)))"
   ]
  },
  {
   "cell_type": "code",
   "execution_count": 14,
   "id": "14414512",
   "metadata": {},
   "outputs": [
    {
     "name": "stdout",
     "output_type": "stream",
     "text": [
      "zahra\n",
      "amirali\n"
     ]
    }
   ],
   "source": [
    "names=[\"ali\",\"mohsen\",\"dara\",\"sara\",\"amir\",\"mahtab\",\"amirali\",\"zahra\"]\n",
    "res=max(names)\n",
    "res2=max(names,key=len)\n",
    "print(res)\n",
    "print(res2)"
   ]
  },
  {
   "cell_type": "markdown",
   "id": "2a445c5e",
   "metadata": {},
   "source": [
    "# shomareshe index horofe yeksan"
   ]
  },
  {
   "cell_type": "code",
   "execution_count": 15,
   "id": "149b7284",
   "metadata": {},
   "outputs": [
    {
     "name": "stdout",
     "output_type": "stream",
     "text": [
      "[1, 6, 11]\n"
     ]
    }
   ],
   "source": [
    "numbers=[1,2,3,4,5,1,2,3,4,5,1,2,3,4,5]\n",
    "lst=[]\n",
    "for i in range(len(numbers)):\n",
    "    if numbers[i]==2:\n",
    "        lst.append(i)\n",
    "print(lst)"
   ]
  },
  {
   "cell_type": "code",
   "execution_count": 16,
   "id": "0c4daf6d",
   "metadata": {},
   "outputs": [
    {
     "name": "stdout",
     "output_type": "stream",
     "text": [
      "6\n"
     ]
    }
   ],
   "source": [
    "numbers=[1,2,3,4,5,1,2,3,4,5,1,2,3,4,5]\n",
    "lst=[]\n",
    "for i in range(len(numbers)):\n",
    "    if numbers[i]==2:\n",
    "        lst.append(i)\n",
    "print(lst[1])"
   ]
  },
  {
   "cell_type": "markdown",
   "id": "85e84ad2",
   "metadata": {},
   "source": [
    "# barnameiy ke  faghat index sevomin \"a\" ra bedahad"
   ]
  },
  {
   "cell_type": "code",
   "execution_count": 18,
   "id": "4a02e72f",
   "metadata": {},
   "outputs": [
    {
     "name": "stdout",
     "output_type": "stream",
     "text": [
      "Please enter one sentence:kiarash raft\n",
      "['k', 'i', 'a', 'r', 'a', 's', 'h', ' ', 'r', 'a', 'f', 't']\n",
      "[3, 5, 10]\n",
      "10\n"
     ]
    }
   ],
   "source": [
    "text=input(\"Please enter one sentence:\")\n",
    "text2=list(text)\n",
    "counter=0\n",
    "lst=[]\n",
    "print(text2)\n",
    "for i in text2:\n",
    "    counter=counter+1\n",
    "    if i==\"a\":\n",
    "        lst.append(counter)\n",
    "print(lst)\n",
    "print(lst[2])"
   ]
  },
  {
   "cell_type": "code",
   "execution_count": 26,
   "id": "821ce643",
   "metadata": {},
   "outputs": [
    {
     "name": "stdout",
     "output_type": "stream",
     "text": [
      "Please enter one sentence:ali be madrese raft va bargasht.\n",
      "16\n"
     ]
    }
   ],
   "source": [
    "text=input(\"Please enter one sentence:\")\n",
    "text2=list(text)\n",
    "counter=0\n",
    "lst=[]\n",
    "for i in text2:\n",
    "    if i==\"a\":\n",
    "        lst.append(counter)\n",
    "    counter=counter+1\n",
    "print(lst[2])"
   ]
  },
  {
   "cell_type": "code",
   "execution_count": 23,
   "id": "425318fa",
   "metadata": {},
   "outputs": [
    {
     "name": "stdout",
     "output_type": "stream",
     "text": [
      "Please enter one sentence:ali be madrese raft va bargasht.\n",
      "16\n"
     ]
    }
   ],
   "source": [
    "text=input(\"Please enter one sentence:\")\n",
    "text2=list(text)\n",
    "lst=[]\n",
    "for i in range(len(text2)):\n",
    "    if text2[i]==\"a\":\n",
    "        lst.append(i)\n",
    "print(lst[2])"
   ]
  },
  {
   "cell_type": "code",
   "execution_count": null,
   "id": "f7f6c78f",
   "metadata": {},
   "outputs": [],
   "source": []
  }
 ],
 "metadata": {
  "kernelspec": {
   "display_name": "Python 3 (ipykernel)",
   "language": "python",
   "name": "python3"
  },
  "language_info": {
   "codemirror_mode": {
    "name": "ipython",
    "version": 3
   },
   "file_extension": ".py",
   "mimetype": "text/x-python",
   "name": "python",
   "nbconvert_exporter": "python",
   "pygments_lexer": "ipython3",
   "version": "3.11.5"
  }
 },
 "nbformat": 4,
 "nbformat_minor": 5
}
