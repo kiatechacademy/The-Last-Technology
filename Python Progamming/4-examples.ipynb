{
 "cells": [
  {
   "cell_type": "markdown",
   "id": "bc89f379",
   "metadata": {},
   "source": [
    "# moghayese 2ta adad"
   ]
  },
  {
   "cell_type": "code",
   "execution_count": 6,
   "id": "c8abe7cf",
   "metadata": {},
   "outputs": [
    {
     "name": "stdout",
     "output_type": "stream",
     "text": [
      "Please enter the first number:20\n",
      "Please enter the second number:19\n",
      " 20.0 is higher than 19.0\n"
     ]
    }
   ],
   "source": [
    "number1=float(input(\"Please enter the first number:\"))\n",
    "number2=float(input(\"Please enter the second number:\"))\n",
    "\n",
    "if number1>number2:\n",
    "    print(f\" {number1} is higher than {number2}\")\n",
    "elif number1==number2:\n",
    "    print(f\"{number1} is equal to {number2}\")\n",
    "else:\n",
    "    print(f\"{number1} is lower than {number2}\")"
   ]
  },
  {
   "cell_type": "markdown",
   "id": "f4121192",
   "metadata": {},
   "source": [
    "# moghayese 2ta reshte"
   ]
  },
  {
   "cell_type": "code",
   "execution_count": 5,
   "id": "926d57e4",
   "metadata": {},
   "outputs": [
    {
     "name": "stdout",
     "output_type": "stream",
     "text": [
      "Please enter your name:ali\n",
      "Please enter another name:ali\n",
      " ali and ali are same \n"
     ]
    }
   ],
   "source": [
    "name1=input(\"Please enter your name:\")\n",
    "name2=input(\"Please enter another name:\")\n",
    "\n",
    "if name1==name2:\n",
    "    print(f\" {name1} and {name2} are same \")\n",
    "else:\n",
    "    print(f\" {name1} and {name2} are not same \")"
   ]
  },
  {
   "cell_type": "markdown",
   "id": "84ba1e92",
   "metadata": {},
   "source": [
    "# vaziate abo hava"
   ]
  },
  {
   "cell_type": "code",
   "execution_count": 8,
   "id": "b2259b19",
   "metadata": {},
   "outputs": [
    {
     "name": "stdout",
     "output_type": "stream",
     "text": [
      "lotfan az vaziate havaiy abo havaye emroz az gozinehaye robero entekhab konid(1.barfi 2.barani 3.aftabi )abri\n",
      "baraye abo havaye morede nazare shoma pishnahadi nadaram\n"
     ]
    }
   ],
   "source": [
    "status=input(\"lotfan az vaziate havaiy abo havaye emroz az gozinehaye robero entekhab konid(1.barfi 2.barani 3.aftabi )\")\n",
    "if status==\"barfi\":\n",
    "    print(\"Lotfan lebas garm beposhid\")\n",
    "elif status==\"barani\":\n",
    "    print(\"chatr yadetan naravad\")\n",
    "elif status==\"aftabi\":\n",
    "    print(\"lotfan zede aftab bezanid\")\n",
    "else:\n",
    "    print(\"baraye abo havaye morede nazare shoma pishnahadi nadaram\")"
   ]
  },
  {
   "cell_type": "markdown",
   "id": "ce12c428",
   "metadata": {},
   "source": [
    "# score"
   ]
  },
  {
   "cell_type": "code",
   "execution_count": 19,
   "id": "850a7ad0",
   "metadata": {},
   "outputs": [
    {
     "name": "stdout",
     "output_type": "stream",
     "text": [
      "Please enter your score:17\n",
      "Your score is good\n"
     ]
    }
   ],
   "source": [
    "score=float(input(\"Please enter your score:\"))\n",
    "if score<0:\n",
    "    print(\"wrong score\")\n",
    "elif score>20:\n",
    "    print(\"wrong score\")\n",
    "elif score<10:\n",
    "    print(\"You are not accepted\")\n",
    "elif score>15:\n",
    "    print(\"Your score is good\")\n"
   ]
  },
  {
   "cell_type": "markdown",
   "id": "e2036d3f",
   "metadata": {},
   "source": [
    "# if to dar to "
   ]
  },
  {
   "cell_type": "code",
   "execution_count": 24,
   "id": "870c6eff",
   "metadata": {},
   "outputs": [
    {
     "name": "stdout",
     "output_type": "stream",
     "text": [
      "Please enter your score:16\n",
      "Your score is good\n"
     ]
    }
   ],
   "source": [
    "score=float(input(\"Please enter your score:\"))\n",
    "if score<0:\n",
    "    print(\"wrong score\")\n",
    "elif score>20:\n",
    "    print(\"wrong score\")\n",
    "elif score<10:\n",
    "    print(\"You are not accepted\")\n",
    "elif score>15:\n",
    "    if score>=17:\n",
    "        print(\"Your score is amazing\")\n",
    "    else:\n",
    "        print(\"Your score is good\")"
   ]
  },
  {
   "cell_type": "markdown",
   "id": "01b307c5",
   "metadata": {},
   "source": [
    "# adad fard ya zoj bodan"
   ]
  },
  {
   "cell_type": "code",
   "execution_count": 28,
   "id": "70351297",
   "metadata": {},
   "outputs": [
    {
     "name": "stdout",
     "output_type": "stream",
     "text": [
      "Please enter a number:101\n",
      " 101 is odd\n"
     ]
    }
   ],
   "source": [
    "number=int(input(\"Please enter a number:\"))\n",
    "if number%2==0:\n",
    "    print(f\" {number} is even\") # even adad zoj\n",
    "else:\n",
    "    print(f\" {number} is odd\") # odd adad fard"
   ]
  },
  {
   "cell_type": "code",
   "execution_count": null,
   "id": "7b8156ca",
   "metadata": {},
   "outputs": [],
   "source": []
  }
 ],
 "metadata": {
  "kernelspec": {
   "display_name": "Python 3 (ipykernel)",
   "language": "python",
   "name": "python3"
  },
  "language_info": {
   "codemirror_mode": {
    "name": "ipython",
    "version": 3
   },
   "file_extension": ".py",
   "mimetype": "text/x-python",
   "name": "python",
   "nbconvert_exporter": "python",
   "pygments_lexer": "ipython3",
   "version": "3.11.5"
  }
 },
 "nbformat": 4,
 "nbformat_minor": 5
}
